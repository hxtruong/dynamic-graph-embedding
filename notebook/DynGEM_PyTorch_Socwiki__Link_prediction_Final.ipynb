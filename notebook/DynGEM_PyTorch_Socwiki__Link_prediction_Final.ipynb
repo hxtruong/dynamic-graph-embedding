{
  "nbformat": 4,
  "nbformat_minor": 0,
  "metadata": {
    "colab": {
      "name": "DynGEM_PyTorch_Socwiki__Link_prediction_Final.ipynb",
      "provenance": [],
      "collapsed_sections": [
        "0Y6X-4uo7Djz",
        "_yJLltZjktXC",
        "PDUsqrnckwNp",
        "NlDRdr08IZG-",
        "8_3aZh-FSf9d",
        "GDYhn3j2Ac8n"
      ],
      "toc_visible": true
    },
    "kernelspec": {
      "name": "python3",
      "display_name": "Python 3"
    },
    "accelerator": "GPU"
  },
  "cells": [
    {
      "cell_type": "markdown",
      "metadata": {
        "id": "bmPcfxjMP9mN",
        "colab_type": "text"
      },
      "source": [
        "# 0.Transffering drive data\n",
        "Run this code if resuming training (Not recommend- should train from scratch)"
      ]
    },
    {
      "cell_type": "code",
      "metadata": {
        "id": "otCVPODxQN5J",
        "colab_type": "code",
        "colab": {
          "base_uri": "https://localhost:8080/",
          "height": 125
        },
        "outputId": "c6b80eb3-3046-476f-8684-cc68e6c773f5"
      },
      "source": [
        "from google.colab import auth\n",
        "auth.authenticate_user()\n",
        "from google.colab import drive\n",
        "drive.mount('/content/gdrive', force_remount=True)"
      ],
      "execution_count": null,
      "outputs": [
        {
          "output_type": "stream",
          "text": [
            "Go to this URL in a browser: https://accounts.google.com/o/oauth2/auth?client_id=947318989803-6bn6qk8qdgf4n4g3pfee6491hc0brc4i.apps.googleusercontent.com&redirect_uri=urn%3aietf%3awg%3aoauth%3a2.0%3aoob&scope=email%20https%3a%2f%2fwww.googleapis.com%2fauth%2fdocs.test%20https%3a%2f%2fwww.googleapis.com%2fauth%2fdrive%20https%3a%2f%2fwww.googleapis.com%2fauth%2fdrive.photos.readonly%20https%3a%2f%2fwww.googleapis.com%2fauth%2fpeopleapi.readonly&response_type=code\n",
            "\n",
            "Enter your authorization code:\n",
            "··········\n",
            "Mounted at /content/gdrive\n"
          ],
          "name": "stdout"
        }
      ]
    },
    {
      "cell_type": "code",
      "metadata": {
        "id": "lnvAUXlFQOsr",
        "colab_type": "code",
        "colab": {
          "base_uri": "https://localhost:8080/",
          "height": 34
        },
        "outputId": "215face7-25f3-48e5-8224-1d57661316cf"
      },
      "source": [
        "!pwd"
      ],
      "execution_count": null,
      "outputs": [
        {
          "output_type": "stream",
          "text": [
            "/content/dynamic-graph-embedding\n"
          ],
          "name": "stdout"
        }
      ]
    },
    {
      "cell_type": "markdown",
      "metadata": {
        "id": "0Y6X-4uo7Djz",
        "colab_type": "text"
      },
      "source": [
        "## Saved data folder"
      ]
    },
    {
      "cell_type": "code",
      "metadata": {
        "id": "4eiynNll7BWy",
        "colab_type": "code",
        "colab": {
          "base_uri": "https://localhost:8080/",
          "height": 544
        },
        "outputId": "56cbfe1b-a98e-47d1-f7d1-fcaaff7ce239"
      },
      "source": [
        "# Save data\n",
        "!zip -r ./soc_wiki_saved_data_link_pred.zip ./saved_data ./data/soc_wiki\n",
        "!cp ./soc_wiki_saved_data_link_pred.zip /content/gdrive/Shared\\ drives/UNLIMITED\\ DRIVE/"
      ],
      "execution_count": null,
      "outputs": [
        {
          "output_type": "stream",
          "text": [
            "updating: saved_data/ (stored 0%)\n",
            "updating: saved_data/embeddings/ (stored 0%)\n",
            "updating: saved_data/embeddings/soc_wiki_link_pred/ (stored 0%)\n",
            "updating: saved_data/embeddings/soc_wiki_link_pred/_3 (deflated 29%)\n",
            "updating: saved_data/embeddings/soc_wiki_link_pred/_1 (deflated 32%)\n",
            "updating: saved_data/embeddings/soc_wiki_link_pred/_2 (deflated 31%)\n",
            "updating: saved_data/embeddings/soc_wiki_link_pred/_4 (deflated 29%)\n",
            "updating: saved_data/embeddings/soc_wiki_link_pred/_5 (deflated 30%)\n",
            "updating: saved_data/embeddings/soc_wiki_link_pred/_0 (deflated 46%)\n",
            "updating: saved_data/embeddings/soc_wiki_link_pred/_6 (deflated 31%)\n",
            "updating: saved_data/embeddings/soc_wiki_link_pred/_7 (deflated 32%)\n",
            "updating: saved_data/models/ (stored 0%)\n",
            "updating: saved_data/models/.ipynb_checkpoints/ (stored 0%)\n",
            "updating: saved_data/models/soc_wiki_link_pred/ (stored 0%)\n",
            "updating: saved_data/models/soc_wiki_link_pred/.ipynb_checkpoints/ (stored 0%)\n",
            "updating: saved_data/models/soc_wiki_link_pred/graph_6.pt (deflated 10%)\n",
            "updating: saved_data/models/soc_wiki_link_pred/graph_0.pt (deflated 9%)\n",
            "updating: saved_data/models/soc_wiki_link_pred/graph_0.json (deflated 27%)\n",
            "updating: saved_data/models/soc_wiki_link_pred/graph_1.pt (deflated 8%)\n",
            "updating: saved_data/models/soc_wiki_link_pred/graph_3.json (deflated 30%)\n",
            "updating: saved_data/models/soc_wiki_link_pred/graph_3.pt (deflated 13%)\n",
            "updating: saved_data/models/soc_wiki_link_pred/graph_7.json (deflated 36%)\n",
            "updating: saved_data/models/soc_wiki_link_pred/graph_5.json (deflated 34%)\n",
            "updating: saved_data/models/soc_wiki_link_pred/graph_2.json (deflated 28%)\n",
            "updating: saved_data/models/soc_wiki_link_pred/graph_2.pt (deflated 12%)\n",
            "updating: saved_data/models/soc_wiki_link_pred/graph_4.pt (deflated 15%)\n",
            "updating: saved_data/models/soc_wiki_link_pred/graph_1.json (deflated 25%)\n",
            "updating: saved_data/models/soc_wiki_link_pred/graph_6.json (deflated 35%)\n",
            "updating: saved_data/models/soc_wiki_link_pred/graph_7.pt"
          ],
          "name": "stdout"
        }
      ]
    },
    {
      "cell_type": "code",
      "metadata": {
        "id": "JkpfjPiH7Qyo",
        "colab_type": "code",
        "colab": {}
      },
      "source": [
        "# Load data\n",
        "!cp /content/gdrive/Shared\\ drives/UNLIMITED\\ DRIVE/soc_wiki_saved_data_link_pred.zip ./\n",
        "!unzip soc_wiki_saved_data_link_pred.zip -d ./"
      ],
      "execution_count": null,
      "outputs": []
    },
    {
      "cell_type": "markdown",
      "metadata": {
        "id": "_yJLltZjktXC",
        "colab_type": "text"
      },
      "source": [
        "# 0. Library"
      ]
    },
    {
      "cell_type": "code",
      "metadata": {
        "id": "N-7-CNwD1ecd",
        "colab_type": "code",
        "colab": {
          "base_uri": "https://localhost:8080/"
        },
        "outputId": "1b6c752f-2461-473a-9c3e-f577056ad89b"
      },
      "source": [
        "!pip install node2vec"
      ],
      "execution_count": null,
      "outputs": [
        {
          "output_type": "stream",
          "text": [
            "Collecting node2vec\n",
            "  Downloading https://files.pythonhosted.org/packages/c0/da/7f0c49433ef91033e21d523e82be1570074a5d6ab8c74f8771774e9d2fd1/node2vec-0.3.2-py3-none-any.whl\n",
            "Requirement already satisfied: gensim in /usr/local/lib/python3.6/dist-packages (from node2vec) (3.6.0)\n",
            "Requirement already satisfied: tqdm in /usr/local/lib/python3.6/dist-packages (from node2vec) (4.41.1)\n",
            "Requirement already satisfied: numpy in /usr/local/lib/python3.6/dist-packages (from node2vec) (1.18.5)\n",
            "Requirement already satisfied: networkx in /usr/local/lib/python3.6/dist-packages (from node2vec) (2.4)\n",
            "Requirement already satisfied: joblib>=0.13.2 in /usr/local/lib/python3.6/dist-packages (from node2vec) (0.16.0)\n",
            "Requirement already satisfied: smart-open>=1.2.1 in /usr/local/lib/python3.6/dist-packages (from gensim->node2vec) (2.1.0)\n",
            "Requirement already satisfied: six>=1.5.0 in /usr/local/lib/python3.6/dist-packages (from gensim->node2vec) (1.15.0)\n",
            "Requirement already satisfied: scipy>=0.18.1 in /usr/local/lib/python3.6/dist-packages (from gensim->node2vec) (1.4.1)\n",
            "Requirement already satisfied: decorator>=4.3.0 in /usr/local/lib/python3.6/dist-packages (from networkx->node2vec) (4.4.2)\n",
            "Requirement already satisfied: requests in /usr/local/lib/python3.6/dist-packages (from smart-open>=1.2.1->gensim->node2vec) (2.23.0)\n",
            "Requirement already satisfied: boto in /usr/local/lib/python3.6/dist-packages (from smart-open>=1.2.1->gensim->node2vec) (2.49.0)\n",
            "Requirement already satisfied: boto3 in /usr/local/lib/python3.6/dist-packages (from smart-open>=1.2.1->gensim->node2vec) (1.14.37)\n",
            "Requirement already satisfied: certifi>=2017.4.17 in /usr/local/lib/python3.6/dist-packages (from requests->smart-open>=1.2.1->gensim->node2vec) (2020.6.20)\n",
            "Requirement already satisfied: idna<3,>=2.5 in /usr/local/lib/python3.6/dist-packages (from requests->smart-open>=1.2.1->gensim->node2vec) (2.10)\n",
            "Requirement already satisfied: urllib3!=1.25.0,!=1.25.1,<1.26,>=1.21.1 in /usr/local/lib/python3.6/dist-packages (from requests->smart-open>=1.2.1->gensim->node2vec) (1.24.3)\n",
            "Requirement already satisfied: chardet<4,>=3.0.2 in /usr/local/lib/python3.6/dist-packages (from requests->smart-open>=1.2.1->gensim->node2vec) (3.0.4)\n",
            "Requirement already satisfied: s3transfer<0.4.0,>=0.3.0 in /usr/local/lib/python3.6/dist-packages (from boto3->smart-open>=1.2.1->gensim->node2vec) (0.3.3)\n",
            "Requirement already satisfied: jmespath<1.0.0,>=0.7.1 in /usr/local/lib/python3.6/dist-packages (from boto3->smart-open>=1.2.1->gensim->node2vec) (0.10.0)\n",
            "Requirement already satisfied: botocore<1.18.0,>=1.17.37 in /usr/local/lib/python3.6/dist-packages (from boto3->smart-open>=1.2.1->gensim->node2vec) (1.17.37)\n",
            "Requirement already satisfied: docutils<0.16,>=0.10 in /usr/local/lib/python3.6/dist-packages (from botocore<1.18.0,>=1.17.37->boto3->smart-open>=1.2.1->gensim->node2vec) (0.15.2)\n",
            "Requirement already satisfied: python-dateutil<3.0.0,>=2.1 in /usr/local/lib/python3.6/dist-packages (from botocore<1.18.0,>=1.17.37->boto3->smart-open>=1.2.1->gensim->node2vec) (2.8.1)\n",
            "Installing collected packages: node2vec\n",
            "Successfully installed node2vec-0.3.2\n"
          ],
          "name": "stdout"
        }
      ]
    },
    {
      "cell_type": "code",
      "metadata": {
        "id": "sBPKfDebdFr_",
        "colab_type": "code",
        "colab": {}
      },
      "source": [
        "import networkx as nx\n",
        "import warnings\n",
        "import torch\n",
        "import os\n",
        "import matplotlib.pyplot as plt \n",
        "\n",
        "warnings.filterwarnings(\"ignore\")\n",
        "%matplotlib inline"
      ],
      "execution_count": null,
      "outputs": []
    },
    {
      "cell_type": "code",
      "metadata": {
        "id": "OUMUQlYvfvcd",
        "colab_type": "code",
        "colab": {
          "base_uri": "https://localhost:8080/"
        },
        "outputId": "c9e1c258-974b-4859-e7e0-8425607ad2b1"
      },
      "source": [
        "device = torch.device(\"cuda\" if torch.cuda.is_available() else \"cpu\")\n",
        "device"
      ],
      "execution_count": null,
      "outputs": [
        {
          "output_type": "execute_result",
          "data": {
            "text/plain": [
              "device(type='cuda')"
            ]
          },
          "metadata": {
            "tags": []
          },
          "execution_count": 3
        }
      ]
    },
    {
      "cell_type": "markdown",
      "metadata": {
        "id": "PDUsqrnckwNp",
        "colab_type": "text"
      },
      "source": [
        "# 1. Download repo\n",
        "Run this part firstly"
      ]
    },
    {
      "cell_type": "code",
      "metadata": {
        "id": "5xlmSrg8xvNK",
        "colab_type": "code",
        "colab": {}
      },
      "source": [
        "# %cd ..\n",
        "# !rm -rf ./dynamic-graph-embedding"
      ],
      "execution_count": null,
      "outputs": []
    },
    {
      "cell_type": "code",
      "metadata": {
        "id": "vRtM6gr_mtgf",
        "colab_type": "code",
        "colab": {
          "base_uri": "https://localhost:8080/"
        },
        "outputId": "c3d3250a-ecc7-4f94-85ae-eb0a201de890"
      },
      "source": [
        "!git clone https://github.com/hxtruong/dynamic-graph-embedding"
      ],
      "execution_count": null,
      "outputs": [
        {
          "output_type": "stream",
          "text": [
            "Cloning into 'dynamic-graph-embedding'...\n",
            "remote: Enumerating objects: 778, done.\u001b[K\n",
            "remote: Counting objects: 100% (778/778), done.\u001b[K\n",
            "remote: Compressing objects: 100% (502/502), done.\u001b[K\n",
            "remote: Total 778 (delta 512), reused 524 (delta 258), pack-reused 0\u001b[K\n",
            "Receiving objects: 100% (778/778), 2.34 MiB | 5.48 MiB/s, done.\n",
            "Resolving deltas: 100% (512/512), done.\n"
          ],
          "name": "stdout"
        }
      ]
    },
    {
      "cell_type": "code",
      "metadata": {
        "id": "G_fVSjKGnv0c",
        "colab_type": "code",
        "colab": {
          "base_uri": "https://localhost:8080/"
        },
        "outputId": "9f385c6e-c307-4443-88b3-652cac4f2281"
      },
      "source": [
        "%cd ./dynamic-graph-embedding/"
      ],
      "execution_count": null,
      "outputs": [
        {
          "output_type": "stream",
          "text": [
            "/content/dynamic-graph-embedding\n"
          ],
          "name": "stdout"
        }
      ]
    },
    {
      "cell_type": "code",
      "metadata": {
        "id": "PiUFnqyvydjt",
        "colab_type": "code",
        "colab": {}
      },
      "source": [
        "# !git reset --hard\n",
        "# !git pull"
      ],
      "execution_count": null,
      "outputs": []
    },
    {
      "cell_type": "code",
      "metadata": {
        "id": "4HmueSO2yqP_",
        "colab_type": "code",
        "colab": {}
      },
      "source": [
        "# !pip install -r requirements.txt"
      ],
      "execution_count": null,
      "outputs": []
    },
    {
      "cell_type": "markdown",
      "metadata": {
        "id": "NlDRdr08IZG-",
        "colab_type": "text"
      },
      "source": [
        "# 2. Download dataset\n",
        "For not running Drive part (#0)"
      ]
    },
    {
      "cell_type": "code",
      "metadata": {
        "id": "3RypdU8HUVG3",
        "colab_type": "code",
        "colab": {
          "base_uri": "https://localhost:8080/",
          "height": 34
        },
        "outputId": "9cfe88a6-bc36-407f-b5d7-3d07be076d38"
      },
      "source": [
        "!pwd"
      ],
      "execution_count": null,
      "outputs": [
        {
          "output_type": "stream",
          "text": [
            "/content/dynamic-graph-embedding\n"
          ],
          "name": "stdout"
        }
      ]
    },
    {
      "cell_type": "code",
      "metadata": {
        "id": "cWDP0VsHK5DG",
        "colab_type": "code",
        "colab": {
          "base_uri": "https://localhost:8080/",
          "height": 34
        },
        "outputId": "849d4b5c-4688-4209-a1f5-e51f642d997b"
      },
      "source": [
        "# !mkdir data\n",
        "!mkdir data/soc_wiki"
      ],
      "execution_count": null,
      "outputs": [
        {
          "output_type": "stream",
          "text": [
            "mkdir: cannot create directory ‘data’: File exists\n"
          ],
          "name": "stdout"
        }
      ]
    },
    {
      "cell_type": "code",
      "metadata": {
        "id": "x4RpmWUwQTYb",
        "colab_type": "code",
        "colab": {}
      },
      "source": [
        "# !rm -rf data/"
      ],
      "execution_count": null,
      "outputs": []
    },
    {
      "cell_type": "code",
      "metadata": {
        "id": "QNBbBCaJIcY2",
        "colab_type": "code",
        "colab": {
          "base_uri": "https://localhost:8080/",
          "height": 676
        },
        "outputId": "37628d51-30a0-4022-cbe5-cd0ab7eb7c1e"
      },
      "source": [
        "# note set NUMBER_SAVE_GRAPH = 5 in file - TRICK\n",
        "!python examples/get_soc_wiki_elec_data.py"
      ],
      "execution_count": null,
      "outputs": [
        {
          "output_type": "stream",
          "text": [
            "['% asym signed\\n', '3 30 1 1095171960\\n', '25 30 -1 1095173580\\n', '4 30 1 1095174480\\n', '5 30 1 1095176220\\n', '6 30 1 1095182880\\n']\n",
            "[[5, 30, 1, 1095176220], [6, 30, 1, 1095182880], [7, 30, 1, 1095183420], [8, 30, 1, 1095188640]]\n",
            "\n",
            "node_1       int64\n",
            "node_2       int64\n",
            "weight       int64\n",
            "timestamp    int64\n",
            "dtype: object\n",
            "<class 'pandas.core.frame.DataFrame'>\n",
            "RangeIndex: 107068 entries, 0 to 107067\n",
            "Data columns (total 4 columns):\n",
            " #   Column     Non-Null Count   Dtype\n",
            "---  ------     --------------   -----\n",
            " 0   node_1     107068 non-null  int64\n",
            " 1   node_2     107068 non-null  int64\n",
            " 2   weight     107068 non-null  int64\n",
            " 3   timestamp  107068 non-null  int64\n",
            "dtypes: int64(4)\n",
            "memory usage: 3.3 MB\n",
            "Start time:  2004-03-28 17:12:00\n",
            "[0|\tUpper_time= 2004-09-17 00:12:30\t |Row|= 793\n",
            "[1|\tUpper_time= 2005-03-08 07:13:00\t |Row|= 4241\n",
            "[2|\tUpper_time= 2005-08-27 14:13:30\t |Row|= 11583\n",
            "[3|\tUpper_time= 2006-02-15 21:14:00\t |Row|= 28719\n",
            "[4|\tUpper_time= 2006-08-07 04:14:30\t |Row|= 51440\n",
            "[5|\tUpper_time= 2007-01-26 11:15:00\t |Row|= 68591\n",
            "[6|\tUpper_time= 2007-07-17 18:15:30\t |Row|= 89214\n",
            "[7|\tUpper_time= 2008-01-06 01:16:00\t |Row|= 107067\n",
            "Graph 1:\t|V|=202 \t|E|=467 \t|Isolate|=0\n",
            "Graph 2:\t|V|=561 \t|E|=3228 \t|Isolate|=0\n",
            "Graph 3:\t|V|=1204 \t|E|=8952 \t|Isolate|=0\n",
            "Graph 4:\t|V|=2338 \t|E|=22482 \t|Isolate|=0\n",
            "Graph 5:\t|V|=3454 \t|E|=38725 \t|Isolate|=0\n",
            "Graph 6:\t|V|=4390 \t|E|=51094 \t|Isolate|=0\n",
            "Graph 7:\t|V|=5413 \t|E|=66234 \t|Isolate|=0\n",
            "Graph 8:\t|V|=7118 \t|E|=100808 \t|Isolate|=0\n"
          ],
          "name": "stdout"
        }
      ]
    },
    {
      "cell_type": "code",
      "metadata": {
        "id": "ApKBEOueqJwA",
        "colab_type": "code",
        "colab": {
          "base_uri": "https://localhost:8080/",
          "height": 52
        },
        "outputId": "8a7b16f9-4cf6-4c4c-f7cb-be5595a10273"
      },
      "source": [
        "!ls data/cit_hepth"
      ],
      "execution_count": null,
      "outputs": [
        {
          "output_type": "stream",
          "text": [
            "graph_00.edgelist  graph_02.edgelist  graph_04.edgelist\n",
            "graph_01.edgelist  graph_03.edgelist  graph_05.edgelist\n"
          ],
          "name": "stdout"
        }
      ]
    },
    {
      "cell_type": "markdown",
      "metadata": {
        "id": "a97dCKe2JIkL",
        "colab_type": "text"
      },
      "source": [
        "# 3. Training\n",
        "\n"
      ]
    },
    {
      "cell_type": "code",
      "metadata": {
        "id": "GzPdZl9RK0pM",
        "colab_type": "code",
        "colab": {}
      },
      "source": [
        "# !rm -rf /content/dynamic-graph-embedding/saved_data/embeddings/soc_wiki_stability"
      ],
      "execution_count": null,
      "outputs": []
    },
    {
      "cell_type": "markdown",
      "metadata": {
        "id": "TptxUYYVSafs",
        "colab_type": "text"
      },
      "source": [
        "## DynGEM"
      ]
    },
    {
      "cell_type": "code",
      "metadata": {
        "id": "nOsX_6B7JBuM",
        "colab_type": "code",
        "colab": {
          "base_uri": "https://localhost:8080/",
          "height": 854
        },
        "outputId": "7700873a-ad77-434a-949a-78586dc79caa"
      },
      "source": [
        "!python train_link_pred.py"
      ],
      "execution_count": null,
      "outputs": [
        {
          "output_type": "stream",
          "text": [
            "[0]Reading graph_00.edgelist\n",
            "[1]Reading graph_01.edgelist\n",
            "[2]Reading graph_02.edgelist\n",
            "[3]Reading graph_03.edgelist\n",
            "[4]Reading graph_04.edgelist\n",
            "[5]Reading graph_05.edgelist\n",
            "[6]Reading graph_06.edgelist\n",
            "[7]Reading graph_07.edgelist\n",
            "Start convert graph to index ... 1.94s\n",
            "Number graphs:  8\n",
            "Origin graphs:\n",
            "Graph 0: |V|=202\t |E|=467\tIsolate nodes: 0\n",
            "Graph 1: |V|=561\t |E|=3228\tIsolate nodes: 0\n",
            "Graph 2: |V|=1204\t |E|=8952\tIsolate nodes: 0\n",
            "Graph 3: |V|=2338\t |E|=22482\tIsolate nodes: 0\n",
            "Graph 4: |V|=3454\t |E|=38725\tIsolate nodes: 0\n",
            "Graph 5: |V|=4390\t |E|=51094\tIsolate nodes: 0\n",
            "Graph 6: |V|=5413\t |E|=66234\tIsolate nodes: 0\n",
            "Graph 7: |V|=7118\t |E|=100808\tIsolate nodes: 0\n",
            "Load processed data from disk...\n",
            "After processing for link prediction graphs:\n",
            "Graph 0: |V|=202\t |E|=467\tIsolate nodes: 0\n",
            "Graph 1: |V|=561\t |E|=3228\tIsolate nodes: 0\n",
            "Graph 2: |V|=1204\t |E|=8952\tIsolate nodes: 0\n",
            "Graph 3: |V|=2338\t |E|=22482\tIsolate nodes: 0\n",
            "Graph 4: |V|=3454\t |E|=38725\tIsolate nodes: 0\n",
            "Graph 5: |V|=4390\t |E|=51094\tIsolate nodes: 0\n",
            "Graph 6: |V|=5413\t |E|=66234\tIsolate nodes: 0\n",
            "Graph 7: |V|=7118\t |E|=80646\tIsolate nodes: 1\n",
            "=============== DynGEM ============\n",
            "\n",
            "-----------\n",
            "Start load model...\n",
            "Loading models... 10.29s\n",
            "\n",
            "-->Run link predict evaluation ---\n",
            "tcmalloc: large alloc 1357119488 bytes == 0xd848e000 @  0x7fe460aeb1e7 0x7fe45cef25e1 0x7fe45cf56c78 0x7fe45cf59db8 0x7fe45cf5a395 0x7fe45cff165d 0x50a7f5 0x50c1f4 0x507f24 0x509c50 0x50a64d 0x50cfd6 0x507f24 0x509c50 0x50a64d 0x50cfd6 0x507f24 0x50b053 0x634dd2 0x634e87 0x63863f 0x6391e1 0x4b0dc0 0x7fe4606e8b97 0x5b26fa\n",
            "train_test_split\n",
            "|Link=1|=20162\t|Link=0|=3372625\t\t|Percent Link=1/Link=0|=0.006\n",
            "Training until validation scores don't improve for 500 rounds.\n",
            "[200]\tvalid_0's auc: 0.548503\n",
            "[400]\tvalid_0's auc: 0.547967\n",
            "Early stopping, best iteration is:\n",
            "[1]\tvalid_0's auc: 0.557974\n",
            "#----\n",
            "ROC AUC Score: 0.558\n"
          ],
          "name": "stdout"
        }
      ]
    },
    {
      "cell_type": "markdown",
      "metadata": {
        "id": "8_3aZh-FSf9d",
        "colab_type": "text"
      },
      "source": [
        "## Node2Vec\n"
      ]
    },
    {
      "cell_type": "markdown",
      "metadata": {
        "id": "SSGVWEZ9SrC4",
        "colab_type": "text"
      },
      "source": [
        "Set parameter: \n",
        "```\n",
        "is_dyngem = False\n",
        "is_node2vec = True\n",
        "```"
      ]
    },
    {
      "cell_type": "code",
      "metadata": {
        "id": "oDkiqmfMShdB",
        "colab_type": "code",
        "colab": {
          "base_uri": "https://localhost:8080/",
          "height": 836
        },
        "outputId": "ed0544fe-1aaf-489c-e547-696299c0893d"
      },
      "source": [
        "!python train_link_pred.py"
      ],
      "execution_count": null,
      "outputs": [
        {
          "output_type": "stream",
          "text": [
            "[0]Reading graph_00.edgelist\n",
            "[1]Reading graph_01.edgelist\n",
            "[2]Reading graph_02.edgelist\n",
            "[3]Reading graph_03.edgelist\n",
            "[4]Reading graph_04.edgelist\n",
            "[5]Reading graph_05.edgelist\n",
            "[6]Reading graph_06.edgelist\n",
            "[7]Reading graph_07.edgelist\n",
            "Start convert graph to index ... 2.19s\n",
            "Number graphs:  8\n",
            "Origin graphs:\n",
            "Graph 0: |V|=202\t |E|=467\tIsolate nodes: 0\n",
            "Graph 1: |V|=561\t |E|=3228\tIsolate nodes: 0\n",
            "Graph 2: |V|=1204\t |E|=8952\tIsolate nodes: 0\n",
            "Graph 3: |V|=2338\t |E|=22482\tIsolate nodes: 0\n",
            "Graph 4: |V|=3454\t |E|=38725\tIsolate nodes: 0\n",
            "Graph 5: |V|=4390\t |E|=51094\tIsolate nodes: 0\n",
            "Graph 6: |V|=5413\t |E|=66234\tIsolate nodes: 0\n",
            "Graph 7: |V|=7118\t |E|=100808\tIsolate nodes: 0\n",
            "Load processed data from disk...\n",
            "After processing for link prediction graphs:\n",
            "Graph 0: |V|=202\t |E|=467\tIsolate nodes: 0\n",
            "Graph 1: |V|=561\t |E|=3228\tIsolate nodes: 0\n",
            "Graph 2: |V|=1204\t |E|=8952\tIsolate nodes: 0\n",
            "Graph 3: |V|=2338\t |E|=22482\tIsolate nodes: 0\n",
            "Graph 4: |V|=3454\t |E|=38725\tIsolate nodes: 0\n",
            "Graph 5: |V|=4390\t |E|=51094\tIsolate nodes: 0\n",
            "Graph 6: |V|=5413\t |E|=66234\tIsolate nodes: 0\n",
            "Graph 7: |V|=7118\t |E|=80646\tIsolate nodes: 1\n",
            "=============== Node2vec ============\n",
            "Computing transition probabilities: 100% 7118/7118 [01:24<00:00, 84.19it/s]  \n",
            "Generating walks (CPU: 1): 100% 10/10 [12:17<00:00, 73.72s/it]\n",
            "Generating walks (CPU: 2): 100% 10/10 [12:24<00:00, 74.40s/it]\n",
            "\n",
            "-->Run link predict evaluation ---\n",
            "tcmalloc: large alloc 1357119488 bytes == 0x73ffa000 @  0x7f68741c11e7 0x7f68705c85e1 0x7f687062cc78 0x7f687062fdb8 0x7f6870630395 0x7f68706c765d 0x50a7f5 0x50c1f4 0x507f24 0x509c50 0x50a64d 0x50cfd6 0x507f24 0x509c50 0x50a64d 0x50cfd6 0x507f24 0x50b053 0x634dd2 0x634e87 0x63863f 0x6391e1 0x4b0dc0 0x7f6873dbeb97 0x5b26fa\n",
            "train_test_split\n",
            "|Link=1|=20162\t|Link=0|=3372625\t\t|Percent Link=1/Link=0|=0.006\n",
            "Training until validation scores don't improve for 100 rounds.\n",
            "[200]\tvalid_0's auc: 0.75565\n",
            "[400]\tvalid_0's auc: 0.768096\n",
            "Early stopping, best iteration is:\n",
            "[360]\tvalid_0's auc: 0.769185\n",
            "#----\n",
            "ROC AUC Score: 0.7692\n"
          ],
          "name": "stdout"
        }
      ]
    },
    {
      "cell_type": "markdown",
      "metadata": {
        "id": "GDYhn3j2Ac8n",
        "colab_type": "text"
      },
      "source": [
        "## SDNE"
      ]
    },
    {
      "cell_type": "code",
      "metadata": {
        "id": "PzAMBIZlAcf8",
        "colab_type": "code",
        "colab": {
          "base_uri": "https://localhost:8080/",
          "height": 1000
        },
        "outputId": "b8a7ab6c-017d-4e15-8063-1cf11a07c5f5"
      },
      "source": [
        "!python train_link_pred.py"
      ],
      "execution_count": null,
      "outputs": [
        {
          "output_type": "stream",
          "text": [
            "[0]Reading graph_00.edgelist\n",
            "[1]Reading graph_01.edgelist\n",
            "[2]Reading graph_02.edgelist\n",
            "[3]Reading graph_03.edgelist\n",
            "[4]Reading graph_04.edgelist\n",
            "[5]Reading graph_05.edgelist\n",
            "[6]Reading graph_06.edgelist\n",
            "[7]Reading graph_07.edgelist\n",
            "Start convert graph to index ... 1.91s\n",
            "Number graphs:  8\n",
            "Origin graphs:\n",
            "Graph 0: |V|=202\t |E|=467\tIsolate nodes: 0\n",
            "Graph 1: |V|=561\t |E|=3228\tIsolate nodes: 0\n",
            "Graph 2: |V|=1204\t |E|=8952\tIsolate nodes: 0\n",
            "Graph 3: |V|=2338\t |E|=22482\tIsolate nodes: 0\n",
            "Graph 4: |V|=3454\t |E|=38725\tIsolate nodes: 0\n",
            "Graph 5: |V|=4390\t |E|=51094\tIsolate nodes: 0\n",
            "Graph 6: |V|=5413\t |E|=66234\tIsolate nodes: 0\n",
            "Graph 7: |V|=7118\t |E|=100808\tIsolate nodes: 0\n",
            "Load processed data from disk...\n",
            "After processing for link prediction graphs:\n",
            "Graph 0: |V|=202\t |E|=467\tIsolate nodes: 0\n",
            "Graph 1: |V|=561\t |E|=3228\tIsolate nodes: 0\n",
            "Graph 2: |V|=1204\t |E|=8952\tIsolate nodes: 0\n",
            "Graph 3: |V|=2338\t |E|=22482\tIsolate nodes: 0\n",
            "Graph 4: |V|=3454\t |E|=38725\tIsolate nodes: 0\n",
            "Graph 5: |V|=4390\t |E|=51094\tIsolate nodes: 0\n",
            "Graph 6: |V|=5413\t |E|=66234\tIsolate nodes: 0\n",
            "Graph 7: |V|=7118\t |E|=80646\tIsolate nodes: 1\n",
            "=============== SDNE ============\n",
            "[7] SDNE load model...\n",
            "[7] SDNE train model...\n",
            "Epoch [1/10000] \t\tloss:1063307.0000 \t\ttime:1.93s\n",
            "Epoch [500/10000] \t\tloss:692390.3125 \t\ttime:1.83s\n",
            "Epoch [1000/10000] \t\tloss:81743.7500 \t\ttime:1.94s\n",
            "Stopping training due to negative loss.\n",
            "<Figure size 640x480 with 1 Axes>\n",
            "\n",
            "-->Run link predict evaluation ---\n",
            "tcmalloc: large alloc 1357119488 bytes == 0xbfe58000 @  0x7fd2cf08a1e7 0x7fd2cb4915e1 0x7fd2cb4f5c78 0x7fd2cb4f8db8 0x7fd2cb4f9395 0x7fd2cb59065d 0x50a7f5 0x50c1f4 0x507f24 0x509c50 0x50a64d 0x50cfd6 0x507f24 0x509c50 0x50a64d 0x50cfd6 0x507f24 0x50b053 0x634dd2 0x634e87 0x63863f 0x6391e1 0x4b0dc0 0x7fd2cec87b97 0x5b26fa\n",
            "train_test_split\n",
            "|Link=1|=20162\t|Link=0|=3372625\t\t|Percent Link=1/Link=0|=0.006\n",
            "Training until validation scores don't improve for 500 rounds.\n",
            "[200]\tvalid_0's auc: 0.583146\n",
            "[400]\tvalid_0's auc: 0.597396\n",
            "[600]\tvalid_0's auc: 0.604565\n",
            "[800]\tvalid_0's auc: 0.606785\n",
            "[1000]\tvalid_0's auc: 0.60884\n",
            "[1200]\tvalid_0's auc: 0.611366\n",
            "[1400]\tvalid_0's auc: 0.612253\n",
            "[1600]\tvalid_0's auc: 0.613518\n",
            "[1800]\tvalid_0's auc: 0.612699\n",
            "[2000]\tvalid_0's auc: 0.61237\n",
            "Early stopping, best iteration is:\n",
            "[1595]\tvalid_0's auc: 0.613731\n",
            "#----\n",
            "ROC AUC Score: 0.6137\n"
          ],
          "name": "stdout"
        }
      ]
    },
    {
      "cell_type": "markdown",
      "metadata": {
        "id": "V7zRbbnbm3Vm",
        "colab_type": "text"
      },
      "source": [
        "# Evaluation"
      ]
    },
    {
      "cell_type": "code",
      "metadata": {
        "id": "CI9QDPvvm4iV",
        "colab_type": "code",
        "colab": {
          "base_uri": "https://localhost:8080/",
          "height": 1000
        },
        "outputId": "ac702bf0-f83b-41bb-f642-c914dc399492"
      },
      "source": [
        "!python eval_link_pred.py"
      ],
      "execution_count": null,
      "outputs": [
        {
          "output_type": "stream",
          "text": [
            "[0]Reading graph_00.edgelist\n",
            "[1]Reading graph_01.edgelist\n",
            "[2]Reading graph_02.edgelist\n",
            "[3]Reading graph_03.edgelist\n",
            "[4]Reading graph_04.edgelist\n",
            "[5]Reading graph_05.edgelist\n",
            "[6]Reading graph_06.edgelist\n",
            "[7]Reading graph_07.edgelist\n",
            "Start convert graph to index ... 1.93s\n",
            "Origin graphs:\n",
            "Graph 0: |V|=202\t |E|=467\tIsolate nodes: 0\n",
            "Graph 1: |V|=561\t |E|=3228\tIsolate nodes: 0\n",
            "Graph 2: |V|=1204\t |E|=8952\tIsolate nodes: 0\n",
            "Graph 3: |V|=2338\t |E|=22482\tIsolate nodes: 0\n",
            "Graph 4: |V|=3454\t |E|=38725\tIsolate nodes: 0\n",
            "Graph 5: |V|=4390\t |E|=51094\tIsolate nodes: 0\n",
            "Graph 6: |V|=5413\t |E|=66234\tIsolate nodes: 0\n",
            "Graph 7: |V|=7118\t |E|=100808\tIsolate nodes: 0\n",
            "Load processed data from disk...\n",
            "After processing for link prediction graphs:\n",
            "Graph 0: |V|=202\t |E|=467\tIsolate nodes: 0\n",
            "Graph 1: |V|=561\t |E|=3228\tIsolate nodes: 0\n",
            "Graph 2: |V|=1204\t |E|=8952\tIsolate nodes: 0\n",
            "Graph 3: |V|=2338\t |E|=22482\tIsolate nodes: 0\n",
            "Graph 4: |V|=3454\t |E|=38725\tIsolate nodes: 0\n",
            "Graph 5: |V|=4390\t |E|=51094\tIsolate nodes: 0\n",
            "Graph 6: |V|=5413\t |E|=66234\tIsolate nodes: 0\n",
            "Graph 7: |V|=7118\t |E|=80646\tIsolate nodes: 1\n",
            "=============== DynGEM ============\n",
            "Folder_path:  ./saved_data/embeddings/soc_wiki_link_pred\n",
            "\n",
            "-->Run link predict evaluation ---\n",
            "tcmalloc: large alloc 1357119488 bytes == 0x69e60000 @  0x7f32b25f41e7 0x7f32ae9fb5e1 0x7f32aea5fc78 0x7f32aea62db8 0x7f32aea63395 0x7f32aeafa65d 0x50a7f5 0x50c1f4 0x507f24 0x509c50 0x50a64d 0x50cfd6 0x507f24 0x509c50 0x50a64d 0x50cfd6 0x507f24 0x50b053 0x634dd2 0x634e87 0x63863f 0x6391e1 0x4b0dc0 0x7f32b21f1b97 0x5b26fa\n",
            "train_test_split\n",
            "|Link=1|=20162\t|Link=0|=3372625\t\t|Percent Link=1/Link=0|=0.006\n",
            "Training until validation scores don't improve for 500 rounds.\n",
            "[200]\tvalid_0's auc: 0.558023\n",
            "[400]\tvalid_0's auc: 0.557291\n",
            "[600]\tvalid_0's auc: 0.556619\n",
            "Early stopping, best iteration is:\n",
            "[215]\tvalid_0's auc: 0.558629\n",
            "#----\n",
            "ROC AUC Score: 0.5586\n",
            "=============== Node2vec ============\n",
            "\n",
            "-->Run link predict evaluation ---\n",
            "tcmalloc: large alloc 1357119488 bytes == 0x69e60000 @  0x7f32b25f41e7 0x7f32ae9fb5e1 0x7f32aea5fc78 0x7f32aea62db8 0x7f32aea63395 0x7f32aeafa65d 0x50a7f5 0x50c1f4 0x507f24 0x509c50 0x50a64d 0x50cfd6 0x507f24 0x509c50 0x50a64d 0x50cfd6 0x507f24 0x50b053 0x634dd2 0x634e87 0x63863f 0x6391e1 0x4b0dc0 0x7f32b21f1b97 0x5b26fa\n",
            "train_test_split\n",
            "|Link=1|=20162\t|Link=0|=3372625\t\t|Percent Link=1/Link=0|=0.006\n",
            "Training until validation scores don't improve for 500 rounds.\n",
            "[200]\tvalid_0's auc: 0.75565\n",
            "[400]\tvalid_0's auc: 0.767281\n",
            "[600]\tvalid_0's auc: 0.7601\n",
            "[800]\tvalid_0's auc: 0.756335\n",
            "Early stopping, best iteration is:\n",
            "[462]\tvalid_0's auc: 0.769292\n",
            "#----\n",
            "ROC AUC Score: 0.7693\n",
            "=============== SDNE ============\n",
            "Folder_path:  ./saved_data/sdne_emb/soc_wiki_link_pred\n",
            "\n",
            "-->Run link predict evaluation ---\n",
            "train_test_split\n",
            "|Link=1|=20162\t|Link=0|=3372625\t\t|Percent Link=1/Link=0|=0.006\n",
            "Training until validation scores don't improve for 500 rounds.\n",
            "[200]\tvalid_0's auc: 0.558294\n",
            "[400]\tvalid_0's auc: 0.558256\n",
            "Early stopping, best iteration is:\n",
            "[1]\tvalid_0's auc: 0.570144\n",
            "#----\n",
            "ROC AUC Score: 0.5701\n"
          ],
          "name": "stdout"
        }
      ]
    }
  ]
}