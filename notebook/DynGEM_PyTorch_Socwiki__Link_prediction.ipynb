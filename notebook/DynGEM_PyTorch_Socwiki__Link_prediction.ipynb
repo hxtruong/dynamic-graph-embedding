{
  "nbformat": 4,
  "nbformat_minor": 0,
  "metadata": {
    "colab": {
      "name": "DynGEM_PyTorch-Socwiki_ Link_prediction.ipynb",
      "provenance": [],
      "collapsed_sections": [
        "uK_4D9jfFJep",
        "LkD-EDh4FNvR",
        "ztc8PDsvFSAB",
        "_yJLltZjktXC",
        "PDUsqrnckwNp",
        "NlDRdr08IZG-",
        "8_3aZh-FSf9d"
      ],
      "toc_visible": true
    },
    "kernelspec": {
      "name": "python3",
      "display_name": "Python 3"
    },
    "accelerator": "GPU"
  },
  "cells": [
    {
      "cell_type": "markdown",
      "metadata": {
        "id": "bmPcfxjMP9mN",
        "colab_type": "text"
      },
      "source": [
        "# 0.Transffering drive data\n",
        "Run this code if resuming training (Not recommend- should train from scratch)"
      ]
    },
    {
      "cell_type": "code",
      "metadata": {
        "id": "otCVPODxQN5J",
        "colab_type": "code",
        "colab": {
          "base_uri": "https://localhost:8080/",
          "height": 125
        },
        "outputId": "a1891e0e-3d27-4add-f29b-1057312b4c1d"
      },
      "source": [
        "from google.colab import auth\n",
        "auth.authenticate_user()\n",
        "from google.colab import drive\n",
        "drive.mount('/content/gdrive', force_remount=True)"
      ],
      "execution_count": 10,
      "outputs": [
        {
          "output_type": "stream",
          "text": [
            "Go to this URL in a browser: https://accounts.google.com/o/oauth2/auth?client_id=947318989803-6bn6qk8qdgf4n4g3pfee6491hc0brc4i.apps.googleusercontent.com&redirect_uri=urn%3aietf%3awg%3aoauth%3a2.0%3aoob&scope=email%20https%3a%2f%2fwww.googleapis.com%2fauth%2fdocs.test%20https%3a%2f%2fwww.googleapis.com%2fauth%2fdrive%20https%3a%2f%2fwww.googleapis.com%2fauth%2fdrive.photos.readonly%20https%3a%2f%2fwww.googleapis.com%2fauth%2fpeopleapi.readonly&response_type=code\n",
            "\n",
            "Enter your authorization code:\n",
            "··········\n",
            "Mounted at /content/gdrive\n"
          ],
          "name": "stdout"
        }
      ]
    },
    {
      "cell_type": "code",
      "metadata": {
        "id": "lnvAUXlFQOsr",
        "colab_type": "code",
        "colab": {
          "base_uri": "https://localhost:8080/",
          "height": 34
        },
        "outputId": "215face7-25f3-48e5-8224-1d57661316cf"
      },
      "source": [
        "!pwd"
      ],
      "execution_count": null,
      "outputs": [
        {
          "output_type": "stream",
          "text": [
            "/content/dynamic-graph-embedding\n"
          ],
          "name": "stdout"
        }
      ]
    },
    {
      "cell_type": "markdown",
      "metadata": {
        "id": "uK_4D9jfFJep",
        "colab_type": "text"
      },
      "source": [
        "## Processed data"
      ]
    },
    {
      "cell_type": "code",
      "metadata": {
        "id": "vAu2y--OE-tX",
        "colab_type": "code",
        "colab": {
          "base_uri": "https://localhost:8080/",
          "height": 90
        },
        "outputId": "33746907-bd08-4dfa-f2e5-fe71c4885194"
      },
      "source": [
        "# Save processed data\n",
        "!zip -r ./processed_data_cit_hepth_link_pred.zip ./processed_data/cit_hepth_link_pred/\n",
        "!cp ./processed_data_cit_hepth_link_pred.zip /content/gdrive/Shared\\ drives/UNLIMITED\\ DRIVE/"
      ],
      "execution_count": null,
      "outputs": [
        {
          "output_type": "stream",
          "text": [
            "  adding: processed_data/cit_hepth_link_pred/ (stored 0%)\n",
            "  adding: processed_data/cit_hepth_link_pred/graph_5.json (deflated 75%)\n",
            "  adding: processed_data/cit_hepth_link_pred/graph5.edgelist (deflated 72%)\n"
          ],
          "name": "stdout"
        }
      ]
    },
    {
      "cell_type": "code",
      "metadata": {
        "id": "MQrRsmBDRkuY",
        "colab_type": "code",
        "colab": {
          "base_uri": "https://localhost:8080/",
          "height": 87
        },
        "outputId": "b25c6454-01c5-4df4-c80f-38aebd803b63"
      },
      "source": [
        "# Load processed data\n",
        "!cp /content/gdrive/Shared\\ drives/UNLIMITED\\ DRIVE/processed_data_cit_hepth_link_pred.zip ./\n",
        "!unzip processed_data_cit_hepth_link_pred.zip -d ./"
      ],
      "execution_count": null,
      "outputs": [
        {
          "output_type": "stream",
          "text": [
            "Archive:  processed_data_cit_hepth_link_pred.zip\n",
            "   creating: ./processed_data/cit_hepth_link_pred/\n",
            "  inflating: ./processed_data/cit_hepth_link_pred/graph_5.json  \n",
            "  inflating: ./processed_data/cit_hepth_link_pred/graph5.edgelist  \n"
          ],
          "name": "stdout"
        }
      ]
    },
    {
      "cell_type": "markdown",
      "metadata": {
        "id": "LkD-EDh4FNvR",
        "colab_type": "text"
      },
      "source": [
        "## Weight"
      ]
    },
    {
      "cell_type": "code",
      "metadata": {
        "id": "_zYNxUyuZnG6",
        "colab_type": "code",
        "colab": {
          "base_uri": "https://localhost:8080/",
          "height": 90
        },
        "outputId": "49a624b0-7e17-437c-a41f-9e8f3c054282"
      },
      "source": [
        "# Save weight\n",
        "!zip -r ./cit_hepth_weights_link_pred.zip ./models/cit_hepth_weights_link_pred/\n",
        "!cp ./cit_hepth_weights_link_pred.zip /content/gdrive/Shared\\ drives/UNLIMITED\\ DRIVE/"
      ],
      "execution_count": null,
      "outputs": [
        {
          "output_type": "stream",
          "text": [
            "\tzip warning: name not matched: ./models/cit_hepth_weights_link_pred/\n",
            "\n",
            "zip error: Nothing to do! (try: zip -r ./cit_hepth_weights_link_pred.zip . -i ./models/cit_hepth_weights_link_pred/)\n"
          ],
          "name": "stdout"
        }
      ]
    },
    {
      "cell_type": "code",
      "metadata": {
        "id": "Gck4WHu1R_q5",
        "colab_type": "code",
        "colab": {
          "base_uri": "https://localhost:8080/",
          "height": 250
        },
        "outputId": "6d25c2ac-2fc3-42ca-e28c-08ddd02dd63e"
      },
      "source": [
        "# Load weight\n",
        "!cp /content/gdrive/Shared\\ drives/UNLIMITED\\ DRIVE/cit_hepth_weights_link_pred.zip ./\n",
        "!unzip cit_hepth_weights_link_pred.zip -d ./"
      ],
      "execution_count": null,
      "outputs": [
        {
          "output_type": "stream",
          "text": [
            "Archive:  cit_hepth_weights_link_pred.zip\n",
            "replace ./models/cit_hepth_link_pred/graph_0.json? [y]es, [n]o, [A]ll, [N]one, [r]ename: A\n",
            "  inflating: ./models/cit_hepth_link_pred/graph_0.json  \n",
            "  inflating: ./models/cit_hepth_link_pred/graph_2.pt  \n",
            "  inflating: ./models/cit_hepth_link_pred/graph_1.json  \n",
            "  inflating: ./models/cit_hepth_link_pred/graph_3.json  \n",
            "  inflating: ./models/cit_hepth_link_pred/graph_3.pt  \n",
            "  inflating: ./models/cit_hepth_link_pred/graph_1.pt  \n",
            "  inflating: ./models/cit_hepth_link_pred/graph_4.pt  \n",
            "  inflating: ./models/cit_hepth_link_pred/graph_4.json  \n",
            "  inflating: ./models/cit_hepth_link_pred/graph_2.json  \n",
            "  inflating: ./models/cit_hepth_link_pred/graph_0.pt  \n"
          ],
          "name": "stdout"
        }
      ]
    },
    {
      "cell_type": "markdown",
      "metadata": {
        "id": "ztc8PDsvFSAB",
        "colab_type": "text"
      },
      "source": [
        "## Data"
      ]
    },
    {
      "cell_type": "code",
      "metadata": {
        "id": "bZVXNMVeTb4p",
        "colab_type": "code",
        "colab": {
          "base_uri": "https://localhost:8080/",
          "height": 176
        },
        "outputId": "108dd366-f5ea-401e-aed4-a9911fe431e5"
      },
      "source": [
        "# Save data\n",
        "!zip -r ./soc_wiki_data.zip ./data/soc_wiki/\n",
        "!cp ./soc_wiki_data.zip /content/gdrive/Shared\\ drives/UNLIMITED\\ DRIVE/"
      ],
      "execution_count": null,
      "outputs": [
        {
          "output_type": "stream",
          "text": [
            "  adding: data/soc_wiki/ (stored 0%)\n",
            "  adding: data/soc_wiki/graph_02.edgelist (deflated 66%)\n",
            "  adding: data/soc_wiki/graph_01.edgelist (deflated 65%)\n",
            "  adding: data/soc_wiki/graph_06.edgelist (deflated 70%)\n",
            "  adding: data/soc_wiki/graph_07.edgelist (deflated 70%)\n",
            "  adding: data/soc_wiki/graph_05.edgelist (deflated 70%)\n",
            "  adding: data/soc_wiki/graph_00.edgelist (deflated 65%)\n",
            "  adding: data/soc_wiki/graph_03.edgelist (deflated 69%)\n",
            "  adding: data/soc_wiki/graph_04.edgelist (deflated 70%)\n"
          ],
          "name": "stdout"
        }
      ]
    },
    {
      "cell_type": "code",
      "metadata": {
        "id": "XLEhp8K4UgI6",
        "colab_type": "code",
        "colab": {
          "base_uri": "https://localhost:8080/",
          "height": 194
        },
        "outputId": "72f01b26-f3ab-4282-addc-4da6e321568a"
      },
      "source": [
        "# Load data\n",
        "!cp /content/gdrive/Shared\\ drives/UNLIMITED\\ DRIVE/soc_wiki_data.zip ./\n",
        "!unzip soc_wiki_data.zip -d ./"
      ],
      "execution_count": null,
      "outputs": [
        {
          "output_type": "stream",
          "text": [
            "Archive:  soc_wiki_data.zip\n",
            "   creating: ./data/soc_wiki/\n",
            "  inflating: ./data/soc_wiki/graph_02.edgelist  \n",
            "  inflating: ./data/soc_wiki/graph_01.edgelist  \n",
            "  inflating: ./data/soc_wiki/graph_06.edgelist  \n",
            "  inflating: ./data/soc_wiki/graph_07.edgelist  \n",
            "  inflating: ./data/soc_wiki/graph_05.edgelist  \n",
            "  inflating: ./data/soc_wiki/graph_00.edgelist  \n",
            "  inflating: ./data/soc_wiki/graph_03.edgelist  \n",
            "  inflating: ./data/soc_wiki/graph_04.edgelist  \n"
          ],
          "name": "stdout"
        }
      ]
    },
    {
      "cell_type": "markdown",
      "metadata": {
        "id": "0Y6X-4uo7Djz",
        "colab_type": "text"
      },
      "source": [
        "## Saved data folder"
      ]
    },
    {
      "cell_type": "code",
      "metadata": {
        "id": "4eiynNll7BWy",
        "colab_type": "code",
        "colab": {}
      },
      "source": [
        "# Save data\n",
        "!zip -r ./soc_wiki_saved_data_link_pred.zip ./saved_data ./data/soc_wiki\n",
        "!cp ./soc_wiki_saved_data_link_pred.zip /content/gdrive/Shared\\ drives/UNLIMITED\\ DRIVE/"
      ],
      "execution_count": null,
      "outputs": []
    },
    {
      "cell_type": "code",
      "metadata": {
        "id": "JkpfjPiH7Qyo",
        "colab_type": "code",
        "colab": {}
      },
      "source": [
        "# Load data\n",
        "!cp /content/gdrive/Shared\\ drives/UNLIMITED\\ DRIVE/soc_wiki_saved_data_link_pred.zip ./\n",
        "!unzip soc_wiki_saved_data_link_pred.zip -d ./"
      ],
      "execution_count": null,
      "outputs": []
    },
    {
      "cell_type": "markdown",
      "metadata": {
        "id": "_yJLltZjktXC",
        "colab_type": "text"
      },
      "source": [
        "# Library"
      ]
    },
    {
      "cell_type": "code",
      "metadata": {
        "id": "sBPKfDebdFr_",
        "colab_type": "code",
        "colab": {}
      },
      "source": [
        "import networkx as nx\n",
        "import warnings\n",
        "import torch\n",
        "import os\n",
        "import matplotlib.pyplot as plt \n",
        "\n",
        "warnings.filterwarnings(\"ignore\")\n",
        "%matplotlib inline"
      ],
      "execution_count": 1,
      "outputs": []
    },
    {
      "cell_type": "code",
      "metadata": {
        "id": "OUMUQlYvfvcd",
        "colab_type": "code",
        "colab": {
          "base_uri": "https://localhost:8080/",
          "height": 0
        },
        "outputId": "c31e80f8-d96b-4ee0-a76a-1d3b60a7e698"
      },
      "source": [
        "device = torch.device(\"cuda\" if torch.cuda.is_available() else \"cpu\")\n",
        "device"
      ],
      "execution_count": 2,
      "outputs": [
        {
          "output_type": "execute_result",
          "data": {
            "text/plain": [
              "device(type='cuda')"
            ]
          },
          "metadata": {
            "tags": []
          },
          "execution_count": 2
        }
      ]
    },
    {
      "cell_type": "markdown",
      "metadata": {
        "id": "PDUsqrnckwNp",
        "colab_type": "text"
      },
      "source": [
        "# Download repo\n",
        "Run this part firstly"
      ]
    },
    {
      "cell_type": "code",
      "metadata": {
        "id": "5xlmSrg8xvNK",
        "colab_type": "code",
        "colab": {}
      },
      "source": [
        "# %cd ..\n",
        "# !rm -rf ./dynamic-graph-embedding"
      ],
      "execution_count": 3,
      "outputs": []
    },
    {
      "cell_type": "code",
      "metadata": {
        "id": "vRtM6gr_mtgf",
        "colab_type": "code",
        "colab": {
          "base_uri": "https://localhost:8080/",
          "height": 0
        },
        "outputId": "15cb576e-1664-45ed-e10d-f55ca544e44a"
      },
      "source": [
        "!git clone https://github.com/hxtruong/dynamic-graph-embedding"
      ],
      "execution_count": 4,
      "outputs": [
        {
          "output_type": "stream",
          "text": [
            "Cloning into 'dynamic-graph-embedding'...\n",
            "remote: Enumerating objects: 699, done.\u001b[K\n",
            "remote: Counting objects: 100% (699/699), done.\u001b[K\n",
            "remote: Compressing objects: 100% (454/454), done.\u001b[K\n",
            "remote: Total 699 (delta 455), reused 471 (delta 227), pack-reused 0\u001b[K\n",
            "Receiving objects: 100% (699/699), 2.31 MiB | 607.00 KiB/s, done.\n",
            "Resolving deltas: 100% (455/455), done.\n"
          ],
          "name": "stdout"
        }
      ]
    },
    {
      "cell_type": "code",
      "metadata": {
        "id": "G_fVSjKGnv0c",
        "colab_type": "code",
        "colab": {
          "base_uri": "https://localhost:8080/",
          "height": 0
        },
        "outputId": "e4ea968d-95ab-4d3c-bd23-2c49fb947a4a"
      },
      "source": [
        "%cd ./dynamic-graph-embedding/"
      ],
      "execution_count": 5,
      "outputs": [
        {
          "output_type": "stream",
          "text": [
            "/content/dynamic-graph-embedding\n"
          ],
          "name": "stdout"
        }
      ]
    },
    {
      "cell_type": "code",
      "metadata": {
        "id": "PiUFnqyvydjt",
        "colab_type": "code",
        "colab": {}
      },
      "source": [
        "# !git reset --hard\n",
        "# !git pull"
      ],
      "execution_count": 6,
      "outputs": []
    },
    {
      "cell_type": "code",
      "metadata": {
        "id": "4HmueSO2yqP_",
        "colab_type": "code",
        "colab": {}
      },
      "source": [
        "# !pip install -r requirements.txt"
      ],
      "execution_count": 7,
      "outputs": []
    },
    {
      "cell_type": "code",
      "metadata": {
        "id": "N-7-CNwD1ecd",
        "colab_type": "code",
        "colab": {
          "base_uri": "https://localhost:8080/",
          "height": 0
        },
        "outputId": "48c4340a-dde0-4230-d5ae-84ff4bb4b6f0"
      },
      "source": [
        "!pip install node2vec"
      ],
      "execution_count": 8,
      "outputs": [
        {
          "output_type": "stream",
          "text": [
            "Collecting node2vec\n",
            "  Downloading https://files.pythonhosted.org/packages/c0/da/7f0c49433ef91033e21d523e82be1570074a5d6ab8c74f8771774e9d2fd1/node2vec-0.3.2-py3-none-any.whl\n",
            "Requirement already satisfied: networkx in /usr/local/lib/python3.6/dist-packages (from node2vec) (2.4)\n",
            "Requirement already satisfied: joblib>=0.13.2 in /usr/local/lib/python3.6/dist-packages (from node2vec) (0.16.0)\n",
            "Requirement already satisfied: tqdm in /usr/local/lib/python3.6/dist-packages (from node2vec) (4.41.1)\n",
            "Requirement already satisfied: gensim in /usr/local/lib/python3.6/dist-packages (from node2vec) (3.6.0)\n",
            "Requirement already satisfied: numpy in /usr/local/lib/python3.6/dist-packages (from node2vec) (1.18.5)\n",
            "Requirement already satisfied: decorator>=4.3.0 in /usr/local/lib/python3.6/dist-packages (from networkx->node2vec) (4.4.2)\n",
            "Requirement already satisfied: scipy>=0.18.1 in /usr/local/lib/python3.6/dist-packages (from gensim->node2vec) (1.4.1)\n",
            "Requirement already satisfied: smart-open>=1.2.1 in /usr/local/lib/python3.6/dist-packages (from gensim->node2vec) (2.1.0)\n",
            "Requirement already satisfied: six>=1.5.0 in /usr/local/lib/python3.6/dist-packages (from gensim->node2vec) (1.15.0)\n",
            "Requirement already satisfied: boto in /usr/local/lib/python3.6/dist-packages (from smart-open>=1.2.1->gensim->node2vec) (2.49.0)\n",
            "Requirement already satisfied: boto3 in /usr/local/lib/python3.6/dist-packages (from smart-open>=1.2.1->gensim->node2vec) (1.14.37)\n",
            "Requirement already satisfied: requests in /usr/local/lib/python3.6/dist-packages (from smart-open>=1.2.1->gensim->node2vec) (2.23.0)\n",
            "Requirement already satisfied: jmespath<1.0.0,>=0.7.1 in /usr/local/lib/python3.6/dist-packages (from boto3->smart-open>=1.2.1->gensim->node2vec) (0.10.0)\n",
            "Requirement already satisfied: s3transfer<0.4.0,>=0.3.0 in /usr/local/lib/python3.6/dist-packages (from boto3->smart-open>=1.2.1->gensim->node2vec) (0.3.3)\n",
            "Requirement already satisfied: botocore<1.18.0,>=1.17.37 in /usr/local/lib/python3.6/dist-packages (from boto3->smart-open>=1.2.1->gensim->node2vec) (1.17.37)\n",
            "Requirement already satisfied: idna<3,>=2.5 in /usr/local/lib/python3.6/dist-packages (from requests->smart-open>=1.2.1->gensim->node2vec) (2.10)\n",
            "Requirement already satisfied: urllib3!=1.25.0,!=1.25.1,<1.26,>=1.21.1 in /usr/local/lib/python3.6/dist-packages (from requests->smart-open>=1.2.1->gensim->node2vec) (1.24.3)\n",
            "Requirement already satisfied: certifi>=2017.4.17 in /usr/local/lib/python3.6/dist-packages (from requests->smart-open>=1.2.1->gensim->node2vec) (2020.6.20)\n",
            "Requirement already satisfied: chardet<4,>=3.0.2 in /usr/local/lib/python3.6/dist-packages (from requests->smart-open>=1.2.1->gensim->node2vec) (3.0.4)\n",
            "Requirement already satisfied: docutils<0.16,>=0.10 in /usr/local/lib/python3.6/dist-packages (from botocore<1.18.0,>=1.17.37->boto3->smart-open>=1.2.1->gensim->node2vec) (0.15.2)\n",
            "Requirement already satisfied: python-dateutil<3.0.0,>=2.1 in /usr/local/lib/python3.6/dist-packages (from botocore<1.18.0,>=1.17.37->boto3->smart-open>=1.2.1->gensim->node2vec) (2.8.1)\n",
            "Installing collected packages: node2vec\n",
            "Successfully installed node2vec-0.3.2\n"
          ],
          "name": "stdout"
        }
      ]
    },
    {
      "cell_type": "markdown",
      "metadata": {
        "id": "NlDRdr08IZG-",
        "colab_type": "text"
      },
      "source": [
        "# Download dataset\n",
        "For not running Drive part (#0)"
      ]
    },
    {
      "cell_type": "code",
      "metadata": {
        "id": "3RypdU8HUVG3",
        "colab_type": "code",
        "colab": {
          "base_uri": "https://localhost:8080/",
          "height": 34
        },
        "outputId": "9cfe88a6-bc36-407f-b5d7-3d07be076d38"
      },
      "source": [
        "!pwd"
      ],
      "execution_count": null,
      "outputs": [
        {
          "output_type": "stream",
          "text": [
            "/content/dynamic-graph-embedding\n"
          ],
          "name": "stdout"
        }
      ]
    },
    {
      "cell_type": "code",
      "metadata": {
        "id": "cWDP0VsHK5DG",
        "colab_type": "code",
        "colab": {
          "base_uri": "https://localhost:8080/",
          "height": 34
        },
        "outputId": "849d4b5c-4688-4209-a1f5-e51f642d997b"
      },
      "source": [
        "# !mkdir data\n",
        "!mkdir data/soc_wiki"
      ],
      "execution_count": null,
      "outputs": [
        {
          "output_type": "stream",
          "text": [
            "mkdir: cannot create directory ‘data’: File exists\n"
          ],
          "name": "stdout"
        }
      ]
    },
    {
      "cell_type": "code",
      "metadata": {
        "id": "x4RpmWUwQTYb",
        "colab_type": "code",
        "colab": {}
      },
      "source": [
        "# !rm -rf data/"
      ],
      "execution_count": null,
      "outputs": []
    },
    {
      "cell_type": "code",
      "metadata": {
        "id": "QNBbBCaJIcY2",
        "colab_type": "code",
        "colab": {
          "base_uri": "https://localhost:8080/",
          "height": 676
        },
        "outputId": "37628d51-30a0-4022-cbe5-cd0ab7eb7c1e"
      },
      "source": [
        "# note set NUMBER_SAVE_GRAPH = 5 in file - TRICK\n",
        "!python examples/get_soc_wiki_elec_data.py"
      ],
      "execution_count": null,
      "outputs": [
        {
          "output_type": "stream",
          "text": [
            "['% asym signed\\n', '3 30 1 1095171960\\n', '25 30 -1 1095173580\\n', '4 30 1 1095174480\\n', '5 30 1 1095176220\\n', '6 30 1 1095182880\\n']\n",
            "[[5, 30, 1, 1095176220], [6, 30, 1, 1095182880], [7, 30, 1, 1095183420], [8, 30, 1, 1095188640]]\n",
            "\n",
            "node_1       int64\n",
            "node_2       int64\n",
            "weight       int64\n",
            "timestamp    int64\n",
            "dtype: object\n",
            "<class 'pandas.core.frame.DataFrame'>\n",
            "RangeIndex: 107068 entries, 0 to 107067\n",
            "Data columns (total 4 columns):\n",
            " #   Column     Non-Null Count   Dtype\n",
            "---  ------     --------------   -----\n",
            " 0   node_1     107068 non-null  int64\n",
            " 1   node_2     107068 non-null  int64\n",
            " 2   weight     107068 non-null  int64\n",
            " 3   timestamp  107068 non-null  int64\n",
            "dtypes: int64(4)\n",
            "memory usage: 3.3 MB\n",
            "Start time:  2004-03-28 17:12:00\n",
            "[0|\tUpper_time= 2004-09-17 00:12:30\t |Row|= 793\n",
            "[1|\tUpper_time= 2005-03-08 07:13:00\t |Row|= 4241\n",
            "[2|\tUpper_time= 2005-08-27 14:13:30\t |Row|= 11583\n",
            "[3|\tUpper_time= 2006-02-15 21:14:00\t |Row|= 28719\n",
            "[4|\tUpper_time= 2006-08-07 04:14:30\t |Row|= 51440\n",
            "[5|\tUpper_time= 2007-01-26 11:15:00\t |Row|= 68591\n",
            "[6|\tUpper_time= 2007-07-17 18:15:30\t |Row|= 89214\n",
            "[7|\tUpper_time= 2008-01-06 01:16:00\t |Row|= 107067\n",
            "Graph 1:\t|V|=202 \t|E|=467 \t|Isolate|=0\n",
            "Graph 2:\t|V|=561 \t|E|=3228 \t|Isolate|=0\n",
            "Graph 3:\t|V|=1204 \t|E|=8952 \t|Isolate|=0\n",
            "Graph 4:\t|V|=2338 \t|E|=22482 \t|Isolate|=0\n",
            "Graph 5:\t|V|=3454 \t|E|=38725 \t|Isolate|=0\n",
            "Graph 6:\t|V|=4390 \t|E|=51094 \t|Isolate|=0\n",
            "Graph 7:\t|V|=5413 \t|E|=66234 \t|Isolate|=0\n",
            "Graph 8:\t|V|=7118 \t|E|=100808 \t|Isolate|=0\n"
          ],
          "name": "stdout"
        }
      ]
    },
    {
      "cell_type": "code",
      "metadata": {
        "id": "ApKBEOueqJwA",
        "colab_type": "code",
        "colab": {
          "base_uri": "https://localhost:8080/",
          "height": 52
        },
        "outputId": "8a7b16f9-4cf6-4c4c-f7cb-be5595a10273"
      },
      "source": [
        "!ls data/cit_hepth"
      ],
      "execution_count": null,
      "outputs": [
        {
          "output_type": "stream",
          "text": [
            "graph_00.edgelist  graph_02.edgelist  graph_04.edgelist\n",
            "graph_01.edgelist  graph_03.edgelist  graph_05.edgelist\n"
          ],
          "name": "stdout"
        }
      ]
    },
    {
      "cell_type": "markdown",
      "metadata": {
        "id": "a97dCKe2JIkL",
        "colab_type": "text"
      },
      "source": [
        "# Training\n",
        "\n"
      ]
    },
    {
      "cell_type": "code",
      "metadata": {
        "id": "op01kfukLS5V",
        "colab_type": "code",
        "colab": {}
      },
      "source": [
        "!cp examples/dataset_with_link_pred.py ./"
      ],
      "execution_count": 9,
      "outputs": []
    },
    {
      "cell_type": "code",
      "metadata": {
        "id": "GzPdZl9RK0pM",
        "colab_type": "code",
        "colab": {}
      },
      "source": [
        "# !rm -rf /content/dynamic-graph-embedding/saved_data/models/soc_wiki_link_pred"
      ],
      "execution_count": 34,
      "outputs": []
    },
    {
      "cell_type": "markdown",
      "metadata": {
        "id": "TptxUYYVSafs",
        "colab_type": "text"
      },
      "source": [
        "## DynGEM"
      ]
    },
    {
      "cell_type": "markdown",
      "metadata": {
        "id": "W16Nbp4lsV_w",
        "colab_type": "text"
      },
      "source": [
        "```\n",
        "Losses = [\n",
        "1,\n",
        "1,\n",
        "8464.1748,\n",
        "591050.8125\n",
        "404463.8750 | 1e-5 -> 43917.5312\n",
        "354885.8125\n",
        "]\n",
        "```"
      ]
    },
    {
      "cell_type": "code",
      "metadata": {
        "id": "nOsX_6B7JBuM",
        "colab_type": "code",
        "colab": {
          "base_uri": "https://localhost:8080/",
          "height": 1000
        },
        "outputId": "b772c62f-01d4-49d2-8c06-f6d468da5694"
      },
      "source": [
        "!python dataset_with_link_pred.py"
      ],
      "execution_count": null,
      "outputs": [
        {
          "output_type": "stream",
          "text": [
            "[0]Reading graph_00.edgelist\n",
            "[1]Reading graph_01.edgelist\n",
            "[2]Reading graph_02.edgelist\n",
            "[3]Reading graph_03.edgelist\n",
            "[4]Reading graph_04.edgelist\n",
            "[5]Reading graph_05.edgelist\n",
            "[6]Reading graph_06.edgelist\n",
            "[7]Reading graph_07.edgelist\n",
            "Start convert graph to index ... 1.59s\n",
            "Number graphs:  8\n",
            "Origin graphs:\n",
            "Graph 0: |V|=202\t |E|=467\tIsolate nodes: 0\n",
            "Graph 1: |V|=561\t |E|=3228\tIsolate nodes: 0\n",
            "Graph 2: |V|=1204\t |E|=8952\tIsolate nodes: 0\n",
            "Graph 3: |V|=2338\t |E|=22482\tIsolate nodes: 0\n",
            "Graph 4: |V|=3454\t |E|=38725\tIsolate nodes: 0\n",
            "Graph 5: |V|=4390\t |E|=51094\tIsolate nodes: 0\n",
            "Graph 6: |V|=5413\t |E|=66234\tIsolate nodes: 0\n",
            "Graph 7: |V|=7118\t |E|=100808\tIsolate nodes: 0\n",
            "Load processed data from disk...\n",
            "After processing for link prediction graphs:\n",
            "Graph 0: |V|=202\t |E|=467\tIsolate nodes: 0\n",
            "Graph 1: |V|=561\t |E|=3228\tIsolate nodes: 0\n",
            "Graph 2: |V|=1204\t |E|=8952\tIsolate nodes: 0\n",
            "Graph 3: |V|=2338\t |E|=22482\tIsolate nodes: 0\n",
            "Graph 4: |V|=3454\t |E|=38725\tIsolate nodes: 0\n",
            "Graph 5: |V|=4390\t |E|=51094\tIsolate nodes: 0\n",
            "Graph 6: |V|=5413\t |E|=66234\tIsolate nodes: 0\n",
            "Graph 7: |V|=7118\t |E|=80646\tIsolate nodes: 1\n",
            "=============== DynGEM ============\n",
            "\n",
            "==========\t Model index = 7 ============\n",
            "\tLearning rate =  0.0001\n",
            "Loading models... 49.38s\n",
            "\t--- Graph 7 ---\n",
            "Epoch [1/2000] \t\tloss:2108933.2500 \t\ttime:2.08s\n",
            "Epoch [100/2000] \t\tloss:4399701.0000 \t\ttime:1.77s\n",
            "Epoch [200/2000] \t\tloss:4129555.7500 \t\ttime:1.75s\n",
            "Epoch [300/2000] \t\tloss:3955365.5000 \t\ttime:1.76s\n",
            "Epoch [400/2000] \t\tloss:3739210.7500 \t\ttime:1.80s\n",
            "Epoch [500/2000] \t\tloss:3774619.2500 \t\ttime:1.75s\n",
            "Early stopping!\t Epoch [500/2000], loss:3774619.2500\n",
            "Train model of graph 7 in 931.32s\n",
            "\n",
            "\tLearning rate =  1e-05\n",
            "\t--- Graph 7 ---\n",
            "Epoch [1/2000] \t\tloss:3601598.7500 \t\ttime:1.82s\n",
            "Epoch [100/2000] \t\tloss:3416962.0000 \t\ttime:1.77s\n",
            "Epoch [200/2000] \t\tloss:3325349.7500 \t\ttime:1.77s\n",
            "Epoch [300/2000] \t\tloss:3182134.7500 \t\ttime:1.76s\n",
            "Epoch [400/2000] \t\tloss:3137019.7500 \t\ttime:1.78s\n",
            "Epoch [500/2000] \t\tloss:3082896.0000 \t\ttime:1.89s\n",
            "Early stopping!\t Epoch [500/2000], loss:3082896.0000\n",
            "Train model of graph 7 in 946.05s\n",
            "\n",
            "\tLearning rate =  1e-06\n",
            "\t--- Graph 7 ---\n",
            "Epoch [1/2000] \t\tloss:3037282.5000 \t\ttime:1.89s\n",
            "Epoch [100/2000] \t\tloss:3025325.2500 \t\ttime:1.90s\n",
            "Epoch [200/2000] \t\tloss:3032048.5000 \t\ttime:1.91s\n"
          ],
          "name": "stdout"
        }
      ]
    },
    {
      "cell_type": "markdown",
      "metadata": {
        "id": "8_3aZh-FSf9d",
        "colab_type": "text"
      },
      "source": [
        "## Node2Vec\n"
      ]
    },
    {
      "cell_type": "markdown",
      "metadata": {
        "id": "SSGVWEZ9SrC4",
        "colab_type": "text"
      },
      "source": [
        "Set parameter: \n",
        "```\n",
        "is_dyngem = False\n",
        "is_node2vec = True\n",
        "```"
      ]
    },
    {
      "cell_type": "code",
      "metadata": {
        "id": "oDkiqmfMShdB",
        "colab_type": "code",
        "colab": {
          "base_uri": "https://localhost:8080/",
          "height": 1000
        },
        "outputId": "9ac74469-e4d2-420b-9d34-8bfb9aad620b"
      },
      "source": [
        "!python dataset_with_link_pred.py"
      ],
      "execution_count": null,
      "outputs": [
        {
          "output_type": "stream",
          "text": [
            "[0]Reading graph_00.edgelist\n",
            "[1]Reading graph_01.edgelist\n",
            "[2]Reading graph_02.edgelist\n",
            "[3]Reading graph_03.edgelist\n",
            "[4]Reading graph_04.edgelist\n",
            "Start convert graph to index ... 4.16s\n",
            "Number graphs:  5\n",
            "Origin graphs:\n",
            "Graph 0: |V|=619\t |E|=6374\tIsolate nodes: 0\n",
            "Graph 1: |V|=1660\t |E|=23654\tIsolate nodes: 0\n",
            "Graph 2: |V|=3699\t |E|=99588\tIsolate nodes: 0\n",
            "Graph 3: |V|=5654\t |E|=167731\tIsolate nodes: 0\n",
            "Graph 4: |V|=6798\t |E|=214693\tIsolate nodes: 0\n",
            "Load processed data from disk...\n",
            "After processing for link prediction graphs:\n",
            "Graph 0: |V|=619\t |E|=6374\tIsolate nodes: 0\n",
            "Graph 1: |V|=1660\t |E|=23654\tIsolate nodes: 0\n",
            "Graph 2: |V|=3699\t |E|=99588\tIsolate nodes: 0\n",
            "Graph 3: |V|=5654\t |E|=167731\tIsolate nodes: 0\n",
            "Graph 4: |V|=6798\t |E|=171754\tIsolate nodes: 0\n",
            "=============== Node2vec ============\n",
            "Computing transition probabilities: 100% 619/619 [00:01<00:00, 328.50it/s]\n",
            "Generating walks (CPU: 1): 100% 5/5 [00:21<00:00,  4.23s/it]\n",
            "Generating walks (CPU: 2): 100% 5/5 [00:21<00:00,  4.25s/it]\n",
            "Computing transition probabilities: 100% 1660/1660 [00:11<00:00, 141.93it/s]\n",
            "Generating walks (CPU: 1): 100% 5/5 [00:58<00:00, 11.78s/it]\n",
            "Generating walks (CPU: 2): 100% 5/5 [00:59<00:00, 11.81s/it]\n",
            "Computing transition probabilities: 100% 3699/3699 [02:18<00:00, 26.64it/s] \n",
            "Generating walks (CPU: 1): 100% 5/5 [02:46<00:00, 33.23s/it]\n",
            "Generating walks (CPU: 2): 100% 5/5 [02:44<00:00, 32.82s/it]\n",
            "Computing transition probabilities: 100% 5654/5654 [04:39<00:00, 20.23it/s]  \n",
            "Generating walks (CPU: 1): 100% 5/5 [04:15<00:00, 51.19s/it]\n",
            "Generating walks (CPU: 2): 100% 5/5 [04:10<00:00, 50.05s/it]\n",
            "Computing transition probabilities: 100% 6798/6798 [04:22<00:00, 25.89it/s]  \n",
            "Generating walks (CPU: 1): 100% 5/5 [05:05<00:00, 61.14s/it]\n",
            "Generating walks (CPU: 2): 100% 5/5 [04:59<00:00, 59.84s/it]\n",
            "\n",
            "-->[Graph 5] Run link predict evaluation ---\n",
            "train_test_split\n",
            "|Link=1|=42939\t|Link=0|=386451\t\t|Percent Link=1/Link=0|=0.1111\n",
            "Training until validation scores don't improve for 100 rounds.\n",
            "[100]\tvalid_0's auc: 0.973188\n",
            "[200]\tvalid_0's auc: 0.981707\n",
            "[300]\tvalid_0's auc: 0.985313\n",
            "[400]\tvalid_0's auc: 0.987344\n",
            "[500]\tvalid_0's auc: 0.988639\n",
            "[600]\tvalid_0's auc: 0.989648\n",
            "[700]\tvalid_0's auc: 0.99056\n",
            "[800]\tvalid_0's auc: 0.991162\n",
            "[900]\tvalid_0's auc: 0.991623\n",
            "[1000]\tvalid_0's auc: 0.99203\n",
            "[1100]\tvalid_0's auc: 0.99241\n",
            "[1200]\tvalid_0's auc: 0.99273\n",
            "[1300]\tvalid_0's auc: 0.992973\n",
            "[1400]\tvalid_0's auc: 0.993209\n",
            "[1500]\tvalid_0's auc: 0.993375\n",
            "[1600]\tvalid_0's auc: 0.99354\n",
            "[1700]\tvalid_0's auc: 0.993657\n",
            "[1800]\tvalid_0's auc: 0.9938\n",
            "[1900]\tvalid_0's auc: 0.993935\n",
            "[2000]\tvalid_0's auc: 0.994061\n",
            "[2100]\tvalid_0's auc: 0.994147\n",
            "[2200]\tvalid_0's auc: 0.9942\n",
            "[2300]\tvalid_0's auc: 0.99431\n",
            "[2400]\tvalid_0's auc: 0.994352\n",
            "[2500]\tvalid_0's auc: 0.994409\n",
            "[2600]\tvalid_0's auc: 0.994489\n",
            "[2700]\tvalid_0's auc: 0.994542\n",
            "[2800]\tvalid_0's auc: 0.994611\n",
            "[2900]\tvalid_0's auc: 0.994649\n",
            "[3000]\tvalid_0's auc: 0.994695\n",
            "[3100]\tvalid_0's auc: 0.994773\n",
            "[3200]\tvalid_0's auc: 0.994819\n",
            "[3300]\tvalid_0's auc: 0.994872\n",
            "[3400]\tvalid_0's auc: 0.994898\n",
            "[3500]\tvalid_0's auc: 0.994969\n",
            "[3600]\tvalid_0's auc: 0.995033\n",
            "[3700]\tvalid_0's auc: 0.995051\n",
            "[3800]\tvalid_0's auc: 0.995107\n",
            "[3900]\tvalid_0's auc: 0.995139\n",
            "[4000]\tvalid_0's auc: 0.995167\n",
            "[4100]\tvalid_0's auc: 0.995196\n",
            "[4200]\tvalid_0's auc: 0.995215\n",
            "[4300]\tvalid_0's auc: 0.995232\n",
            "[4400]\tvalid_0's auc: 0.995262\n",
            "[4500]\tvalid_0's auc: 0.995291\n",
            "Early stopping, best iteration is:\n",
            "[4480]\tvalid_0's auc: 0.995297\n",
            "#----\n",
            "ROC AUC Score: 1.0\n",
            "Top 10 predicted edges: edge|accuracy\n",
            "(1984, 3958) : 1.0\n",
            "(3698, 4986) : 1.0\n",
            "(3647, 20) : 1.0\n",
            "(6168, 6186) : 1.0\n",
            "(4784, 3850) : 1.0\n",
            "(5903, 501) : 1.0\n",
            "(1752, 4) : 1.0\n",
            "(4885, 2808) : 1.0\n",
            "(2120, 1218) : 1.0\n",
            "(5128, 5115) : 1.0\n"
          ],
          "name": "stdout"
        }
      ]
    }
  ]
}