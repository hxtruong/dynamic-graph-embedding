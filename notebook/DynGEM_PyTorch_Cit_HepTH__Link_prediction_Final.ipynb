{
  "nbformat": 4,
  "nbformat_minor": 0,
  "metadata": {
    "colab": {
      "name": "DynGEM_PyTorch-Cit-HepTH_ Link_prediction_Final.ipynb",
      "provenance": [],
      "collapsed_sections": [
        "0Y6X-4uo7Djz",
        "_yJLltZjktXC",
        "PDUsqrnckwNp",
        "NlDRdr08IZG-",
        "TptxUYYVSafs",
        "8_3aZh-FSf9d",
        "NukK8UI_lJgp"
      ]
    },
    "kernelspec": {
      "name": "python3",
      "display_name": "Python 3"
    },
    "accelerator": "GPU"
  },
  "cells": [
    {
      "cell_type": "markdown",
      "metadata": {
        "id": "bmPcfxjMP9mN",
        "colab_type": "text"
      },
      "source": [
        "# 0.Transffering drive data\n",
        "Run this code if resuming training (Not recommend- should train from scratch)"
      ]
    },
    {
      "cell_type": "code",
      "metadata": {
        "id": "otCVPODxQN5J",
        "colab_type": "code",
        "colab": {
          "base_uri": "https://localhost:8080/",
          "height": 125
        },
        "outputId": "81a61d00-fd16-47f6-f200-432f19e8675a"
      },
      "source": [
        "from google.colab import auth\n",
        "auth.authenticate_user()\n",
        "from google.colab import drive\n",
        "drive.mount('/content/gdrive', force_remount=True)"
      ],
      "execution_count": 7,
      "outputs": [
        {
          "output_type": "stream",
          "text": [
            "Go to this URL in a browser: https://accounts.google.com/o/oauth2/auth?client_id=947318989803-6bn6qk8qdgf4n4g3pfee6491hc0brc4i.apps.googleusercontent.com&redirect_uri=urn%3aietf%3awg%3aoauth%3a2.0%3aoob&scope=email%20https%3a%2f%2fwww.googleapis.com%2fauth%2fdocs.test%20https%3a%2f%2fwww.googleapis.com%2fauth%2fdrive%20https%3a%2f%2fwww.googleapis.com%2fauth%2fdrive.photos.readonly%20https%3a%2f%2fwww.googleapis.com%2fauth%2fpeopleapi.readonly&response_type=code\n",
            "\n",
            "Enter your authorization code:\n",
            "··········\n",
            "Mounted at /content/gdrive\n"
          ],
          "name": "stdout"
        }
      ]
    },
    {
      "cell_type": "code",
      "metadata": {
        "id": "lnvAUXlFQOsr",
        "colab_type": "code",
        "colab": {
          "base_uri": "https://localhost:8080/",
          "height": 34
        },
        "outputId": "215face7-25f3-48e5-8224-1d57661316cf"
      },
      "source": [
        "!pwd"
      ],
      "execution_count": null,
      "outputs": [
        {
          "output_type": "stream",
          "text": [
            "/content/dynamic-graph-embedding\n"
          ],
          "name": "stdout"
        }
      ]
    },
    {
      "cell_type": "markdown",
      "metadata": {
        "id": "0Y6X-4uo7Djz",
        "colab_type": "text"
      },
      "source": [
        "## Saved data folder"
      ]
    },
    {
      "cell_type": "code",
      "metadata": {
        "id": "4eiynNll7BWy",
        "colab_type": "code",
        "colab": {
          "base_uri": "https://localhost:8080/",
          "height": 852
        },
        "outputId": "c6432168-0c19-407b-933b-3b5f0d58e1a5"
      },
      "source": [
        "# Save data\n",
        "!zip -r ./cit_hepth_saved_data_link_pred.zip ./saved_data ./data/cit_hepth\n",
        "!cp ./cit_hepth_saved_data_link_pred.zip /content/gdrive/Shared\\ drives/UNLIMITED\\ DRIVE/"
      ],
      "execution_count": 18,
      "outputs": [
        {
          "output_type": "stream",
          "text": [
            "updating: saved_data/ (stored 0%)\n",
            "updating: saved_data/embeddings/ (stored 0%)\n",
            "updating: saved_data/embeddings/.ipynb_checkpoints/ (stored 0%)\n",
            "updating: saved_data/embeddings/cit_hepth_link_pred/ (stored 0%)\n",
            "updating: saved_data/embeddings/cit_hepth_link_pred/_3 (deflated 14%)\n",
            "updating: saved_data/embeddings/cit_hepth_link_pred/.ipynb_checkpoints/ (stored 0%)\n",
            "updating: saved_data/embeddings/cit_hepth_link_pred/_1 (deflated 14%)\n",
            "updating: saved_data/embeddings/cit_hepth_link_pred/_2 (deflated 15%)\n",
            "updating: saved_data/embeddings/cit_hepth_link_pred/_4 (deflated 14%)\n",
            "updating: saved_data/embeddings/cit_hepth_link_pred/_0 (deflated 18%)\n",
            "updating: saved_data/models/ (stored 0%)\n",
            "updating: saved_data/models/.ipynb_checkpoints/ (stored 0%)\n",
            "updating: saved_data/models/cit_hepth_link_pred/ (stored 0%)\n",
            "updating: saved_data/models/cit_hepth_link_pred/.ipynb_checkpoints/ (stored 0%)\n",
            "updating: saved_data/models/cit_hepth_link_pred/graph_0.pt (deflated 7%)\n",
            "updating: saved_data/models/cit_hepth_link_pred/graph_0.json (deflated 25%)\n",
            "updating: saved_data/models/cit_hepth_link_pred/graph_1.pt (deflated 7%)\n",
            "updating: saved_data/models/cit_hepth_link_pred/graph_3.json (deflated 29%)\n",
            "updating: saved_data/models/cit_hepth_link_pred/graph_3.pt (deflated 11%)\n",
            "updating: saved_data/models/cit_hepth_link_pred/graph_2.json (deflated 27%)\n",
            "updating: saved_data/models/cit_hepth_link_pred/graph_2.pt (deflated 11%)\n",
            "updating: saved_data/models/cit_hepth_link_pred/graph_4.pt (deflated 10%)\n",
            "updating: saved_data/models/cit_hepth_link_pred/graph_1.json (deflated 27%)\n",
            "updating: saved_data/models/cit_hepth_link_pred/graph_4.json (deflated 31%)\n",
            "updating: saved_data/processed_data/ (stored 0%)\n",
            "updating: saved_data/processed_data/cit_hepth_link_pred/ (stored 0%)\n",
            "updating: saved_data/processed_data/cit_hepth_link_pred/graph_4.gpickle (deflated 58%)\n",
            "updating: saved_data/processed_data/cit_hepth_link_pred/graph_4.json (deflated 72%)\n",
            "updating: saved_data/node2vec_emb/ (stored 0%)\n",
            "updating: saved_data/node2vec_emb/cit_hepth_link_pred/ (stored 0%)\n",
            "updating: saved_data/node2vec_emb/.ipynb_checkpoints/ (stored 0%)\n",
            "updating: saved_data/node2vec_emb/cit_hepth_link_pred/n2v_emb (deflated 56%)\n",
            "updating: data/cit_hepth/ (stored 0%)\n",
            "updating: data/cit_hepth/graph_01.edgelist (deflated 71%)\n",
            "updating: data/cit_hepth/graph_00.edgelist (deflated 74%)\n",
            "updating: data/cit_hepth/graph_04.edgelist (deflated 72%)\n",
            "updating: data/cit_hepth/graph_03.edgelist (deflated 72%)\n",
            "updating: data/cit_hepth/graph_02.edgelist (deflated 72%)\n",
            "updating: saved_data/sdne_models/ (stored 0%)\n",
            "updating: saved_data/sdne_models/.ipynb_checkpoints/ (stored 0%)\n",
            "updating: saved_data/sdne_models/cit_hepth_link_pred/ (stored 0%)\n",
            "updating: saved_data/sdne_models/cit_hepth_link_pred/graph_4.pt (deflated 8%)\n",
            "updating: saved_data/sdne_models/cit_hepth_link_pred/graph_4.json (deflated 26%)\n",
            "updating: saved_data/sdne_emb/ (stored 0%)\n",
            "updating: saved_data/sdne_emb/cit_hepth_link_pred/ (stored 0%)\n",
            "updating: saved_data/sdne_emb/cit_hepth_link_pred/_4 (deflated 10%)\n",
            "updating: saved_data/node2vec_emb/cit_hepth_link_pred/n2v_emb_4 (deflated 7%)\n"
          ],
          "name": "stdout"
        }
      ]
    },
    {
      "cell_type": "code",
      "metadata": {
        "id": "JkpfjPiH7Qyo",
        "colab_type": "code",
        "colab": {}
      },
      "source": [
        "# Load data\n",
        "!cp /content/gdrive/Shared\\ drives/UNLIMITED\\ DRIVE/cit_hepth_saved_data_link_pred.zip ./\n",
        "!unzip cit_hepth_saved_data_link_pred.zip -d ./"
      ],
      "execution_count": null,
      "outputs": []
    },
    {
      "cell_type": "markdown",
      "metadata": {
        "id": "_yJLltZjktXC",
        "colab_type": "text"
      },
      "source": [
        "# 1. Library"
      ]
    },
    {
      "cell_type": "code",
      "metadata": {
        "id": "N-7-CNwD1ecd",
        "colab_type": "code",
        "colab": {
          "base_uri": "https://localhost:8080/",
          "height": 0
        },
        "outputId": "8ccbaf28-9d85-4436-ff4f-8b7a4efd2ab2"
      },
      "source": [
        "!pip install node2vec"
      ],
      "execution_count": 1,
      "outputs": [
        {
          "output_type": "stream",
          "text": [
            "Collecting node2vec\n",
            "  Downloading https://files.pythonhosted.org/packages/c0/da/7f0c49433ef91033e21d523e82be1570074a5d6ab8c74f8771774e9d2fd1/node2vec-0.3.2-py3-none-any.whl\n",
            "Requirement already satisfied: gensim in /usr/local/lib/python3.6/dist-packages (from node2vec) (3.6.0)\n",
            "Requirement already satisfied: networkx in /usr/local/lib/python3.6/dist-packages (from node2vec) (2.4)\n",
            "Requirement already satisfied: tqdm in /usr/local/lib/python3.6/dist-packages (from node2vec) (4.41.1)\n",
            "Requirement already satisfied: joblib>=0.13.2 in /usr/local/lib/python3.6/dist-packages (from node2vec) (0.16.0)\n",
            "Requirement already satisfied: numpy in /usr/local/lib/python3.6/dist-packages (from node2vec) (1.18.5)\n",
            "Requirement already satisfied: six>=1.5.0 in /usr/local/lib/python3.6/dist-packages (from gensim->node2vec) (1.15.0)\n",
            "Requirement already satisfied: smart-open>=1.2.1 in /usr/local/lib/python3.6/dist-packages (from gensim->node2vec) (2.1.0)\n",
            "Requirement already satisfied: scipy>=0.18.1 in /usr/local/lib/python3.6/dist-packages (from gensim->node2vec) (1.4.1)\n",
            "Requirement already satisfied: decorator>=4.3.0 in /usr/local/lib/python3.6/dist-packages (from networkx->node2vec) (4.4.2)\n",
            "Requirement already satisfied: requests in /usr/local/lib/python3.6/dist-packages (from smart-open>=1.2.1->gensim->node2vec) (2.23.0)\n",
            "Requirement already satisfied: boto3 in /usr/local/lib/python3.6/dist-packages (from smart-open>=1.2.1->gensim->node2vec) (1.14.37)\n",
            "Requirement already satisfied: boto in /usr/local/lib/python3.6/dist-packages (from smart-open>=1.2.1->gensim->node2vec) (2.49.0)\n",
            "Requirement already satisfied: chardet<4,>=3.0.2 in /usr/local/lib/python3.6/dist-packages (from requests->smart-open>=1.2.1->gensim->node2vec) (3.0.4)\n",
            "Requirement already satisfied: idna<3,>=2.5 in /usr/local/lib/python3.6/dist-packages (from requests->smart-open>=1.2.1->gensim->node2vec) (2.10)\n",
            "Requirement already satisfied: urllib3!=1.25.0,!=1.25.1,<1.26,>=1.21.1 in /usr/local/lib/python3.6/dist-packages (from requests->smart-open>=1.2.1->gensim->node2vec) (1.24.3)\n",
            "Requirement already satisfied: certifi>=2017.4.17 in /usr/local/lib/python3.6/dist-packages (from requests->smart-open>=1.2.1->gensim->node2vec) (2020.6.20)\n",
            "Requirement already satisfied: jmespath<1.0.0,>=0.7.1 in /usr/local/lib/python3.6/dist-packages (from boto3->smart-open>=1.2.1->gensim->node2vec) (0.10.0)\n",
            "Requirement already satisfied: botocore<1.18.0,>=1.17.37 in /usr/local/lib/python3.6/dist-packages (from boto3->smart-open>=1.2.1->gensim->node2vec) (1.17.37)\n",
            "Requirement already satisfied: s3transfer<0.4.0,>=0.3.0 in /usr/local/lib/python3.6/dist-packages (from boto3->smart-open>=1.2.1->gensim->node2vec) (0.3.3)\n",
            "Requirement already satisfied: docutils<0.16,>=0.10 in /usr/local/lib/python3.6/dist-packages (from botocore<1.18.0,>=1.17.37->boto3->smart-open>=1.2.1->gensim->node2vec) (0.15.2)\n",
            "Requirement already satisfied: python-dateutil<3.0.0,>=2.1 in /usr/local/lib/python3.6/dist-packages (from botocore<1.18.0,>=1.17.37->boto3->smart-open>=1.2.1->gensim->node2vec) (2.8.1)\n",
            "Installing collected packages: node2vec\n",
            "Successfully installed node2vec-0.3.2\n"
          ],
          "name": "stdout"
        }
      ]
    },
    {
      "cell_type": "code",
      "metadata": {
        "id": "sBPKfDebdFr_",
        "colab_type": "code",
        "colab": {}
      },
      "source": [
        "import networkx as nx\n",
        "import warnings\n",
        "import torch\n",
        "import os\n",
        "import matplotlib.pyplot as plt \n",
        "\n",
        "warnings.filterwarnings(\"ignore\")\n",
        "%matplotlib inline"
      ],
      "execution_count": 2,
      "outputs": []
    },
    {
      "cell_type": "code",
      "metadata": {
        "id": "OUMUQlYvfvcd",
        "colab_type": "code",
        "colab": {
          "base_uri": "https://localhost:8080/",
          "height": 0
        },
        "outputId": "1a3e00d4-772a-45c9-d84a-1de5b027a122"
      },
      "source": [
        "device = torch.device(\"cuda\" if torch.cuda.is_available() else \"cpu\")\n",
        "device"
      ],
      "execution_count": 3,
      "outputs": [
        {
          "output_type": "execute_result",
          "data": {
            "text/plain": [
              "device(type='cuda')"
            ]
          },
          "metadata": {
            "tags": []
          },
          "execution_count": 3
        }
      ]
    },
    {
      "cell_type": "markdown",
      "metadata": {
        "id": "PDUsqrnckwNp",
        "colab_type": "text"
      },
      "source": [
        "# 2. Download repo\n",
        "Run this part firstly"
      ]
    },
    {
      "cell_type": "code",
      "metadata": {
        "id": "vRtM6gr_mtgf",
        "colab_type": "code",
        "colab": {
          "base_uri": "https://localhost:8080/",
          "height": 0
        },
        "outputId": "ebb139d5-278a-470c-9b27-08894ca7d663"
      },
      "source": [
        "!git clone https://github.com/hxtruong/dynamic-graph-embedding"
      ],
      "execution_count": 4,
      "outputs": [
        {
          "output_type": "stream",
          "text": [
            "Cloning into 'dynamic-graph-embedding'...\n",
            "remote: Enumerating objects: 778, done.\u001b[K\n",
            "remote: Counting objects: 100% (778/778), done.\u001b[K\n",
            "remote: Compressing objects: 100% (502/502), done.\u001b[K\n",
            "remote: Total 778 (delta 512), reused 524 (delta 258), pack-reused 0\u001b[K\n",
            "Receiving objects: 100% (778/778), 2.34 MiB | 14.08 MiB/s, done.\n",
            "Resolving deltas: 100% (512/512), done.\n"
          ],
          "name": "stdout"
        }
      ]
    },
    {
      "cell_type": "code",
      "metadata": {
        "id": "G_fVSjKGnv0c",
        "colab_type": "code",
        "colab": {
          "base_uri": "https://localhost:8080/",
          "height": 0
        },
        "outputId": "4a13de9b-58f0-46b6-a278-7a88ef54a638"
      },
      "source": [
        "%cd ./dynamic-graph-embedding/"
      ],
      "execution_count": 5,
      "outputs": [
        {
          "output_type": "stream",
          "text": [
            "/content/dynamic-graph-embedding\n"
          ],
          "name": "stdout"
        }
      ]
    },
    {
      "cell_type": "code",
      "metadata": {
        "id": "4HmueSO2yqP_",
        "colab_type": "code",
        "colab": {}
      },
      "source": [
        "# !pip install -r requirements.txt"
      ],
      "execution_count": 6,
      "outputs": []
    },
    {
      "cell_type": "markdown",
      "metadata": {
        "id": "NlDRdr08IZG-",
        "colab_type": "text"
      },
      "source": [
        "# 3. Download dataset\n",
        "For not running Drive part (#0)"
      ]
    },
    {
      "cell_type": "code",
      "metadata": {
        "id": "3RypdU8HUVG3",
        "colab_type": "code",
        "colab": {
          "base_uri": "https://localhost:8080/",
          "height": 34
        },
        "outputId": "7e958f89-400d-416d-c228-bc1713749a85"
      },
      "source": [
        "!pwd"
      ],
      "execution_count": 11,
      "outputs": [
        {
          "output_type": "stream",
          "text": [
            "/content/dynamic-graph-embedding\n"
          ],
          "name": "stdout"
        }
      ]
    },
    {
      "cell_type": "code",
      "metadata": {
        "id": "cWDP0VsHK5DG",
        "colab_type": "code",
        "colab": {}
      },
      "source": [
        "# !mkdir data\n",
        "!mkdir data/cit_hepth"
      ],
      "execution_count": 12,
      "outputs": []
    },
    {
      "cell_type": "code",
      "metadata": {
        "id": "x4RpmWUwQTYb",
        "colab_type": "code",
        "colab": {}
      },
      "source": [
        "# !rm -rf data/cit_hepth"
      ],
      "execution_count": 13,
      "outputs": []
    },
    {
      "cell_type": "code",
      "metadata": {
        "id": "QNBbBCaJIcY2",
        "colab_type": "code",
        "colab": {
          "base_uri": "https://localhost:8080/",
          "height": 605
        },
        "outputId": "7bb52542-a3fd-4bad-d52e-ff3914631fde"
      },
      "source": [
        "# note set NUMBER_SAVE_GRAPH = 5 in file - TRICK\n",
        "!python examples/get_cit_hepth_data.py"
      ],
      "execution_count": 14,
      "outputs": [
        {
          "output_type": "stream",
          "text": [
            "['% sym unweighted\\n', '1 2 1 1015887601\\n', '1 3 1 1015887601\\n', '1 4 1 1015887601\\n', '1 5 1 1015887601\\n', '1 6 1 1015887601\\n']\n",
            "[[1, 5, 1, 1015887601], [1, 6, 1, 1015887601], [1, 7, 1, 1015887601], [1, 8, 1, 1015887601]]\n",
            "\n",
            "node_1       int64\n",
            "node_2       int64\n",
            "weight       int64\n",
            "timestamp    int64\n",
            "dtype: object\n",
            "<class 'pandas.core.frame.DataFrame'>\n",
            "RangeIndex: 2673130 entries, 0 to 2673129\n",
            "Data columns (total 4 columns):\n",
            " #   Column     Dtype\n",
            "---  ------     -----\n",
            " 0   node_1     int64\n",
            " 1   node_2     int64\n",
            " 2   weight     int64\n",
            " 3   timestamp  int64\n",
            "dtypes: int64(4)\n",
            "memory usage: 81.6 MB\n",
            "Start time:  1993-09-30 23:00:00\n",
            "[0|\tUpper_time= 1995-02-26 23:00:00\t |Row|= 6514\n",
            "[1|\tUpper_time= 1996-07-24 23:00:00\t |Row|= 26938\n",
            "[2|\tUpper_time= 1997-12-20 23:00:00\t |Row|= 130085\n",
            "[3|\tUpper_time= 1999-05-18 23:00:00\t |Row|= 223589\n",
            "[4|\tUpper_time= 2000-10-13 23:00:00\t |Row|= 290597\n",
            "[5|\tUpper_time= 2002-03-11 23:00:00\t |Row|= 290597\n",
            "Graph 1:\t|V|=619\t|E|=6374\n",
            "Graph 2:\t|V|=1660\t|E|=23654\n",
            "Graph 3:\t|V|=3699\t|E|=99588\n",
            "Graph 4:\t|V|=5654\t|E|=167731\n",
            "Graph 5:\t|V|=6798\t|E|=214693\n",
            "Graph 6:\t|V|=22908\t|E|=2444795\n"
          ],
          "name": "stdout"
        }
      ]
    },
    {
      "cell_type": "code",
      "metadata": {
        "id": "ApKBEOueqJwA",
        "colab_type": "code",
        "colab": {
          "base_uri": "https://localhost:8080/",
          "height": 52
        },
        "outputId": "92dbf365-9abc-47b7-8dc2-dd3323d334d0"
      },
      "source": [
        "!ls data/cit_hepth"
      ],
      "execution_count": 15,
      "outputs": [
        {
          "output_type": "stream",
          "text": [
            "graph_00.edgelist  graph_02.edgelist  graph_04.edgelist\n",
            "graph_01.edgelist  graph_03.edgelist\n"
          ],
          "name": "stdout"
        }
      ]
    },
    {
      "cell_type": "markdown",
      "metadata": {
        "id": "a97dCKe2JIkL",
        "colab_type": "text"
      },
      "source": [
        "# 4. Training\n",
        "\n"
      ]
    },
    {
      "cell_type": "code",
      "metadata": {
        "id": "GzPdZl9RK0pM",
        "colab_type": "code",
        "colab": {}
      },
      "source": [
        "# !rm -rf /content/dynamic-graph-embedding/saved_data/models/cit_hepth_link_pred_ck"
      ],
      "execution_count": null,
      "outputs": []
    },
    {
      "cell_type": "markdown",
      "metadata": {
        "id": "TptxUYYVSafs",
        "colab_type": "text"
      },
      "source": [
        "## DynGEM\n",
        "\n",
        "Link_pred = 0.8069"
      ]
    },
    {
      "cell_type": "code",
      "metadata": {
        "id": "nOsX_6B7JBuM",
        "colab_type": "code",
        "colab": {
          "base_uri": "https://localhost:8080/",
          "height": 961
        },
        "outputId": "e43628e1-5106-482f-ac66-e8ccbcb2065c"
      },
      "source": [
        "!python train_link_pred.py"
      ],
      "execution_count": 10,
      "outputs": [
        {
          "output_type": "stream",
          "text": [
            "[0]Reading graph_00.edgelist\n",
            "[1]Reading graph_01.edgelist\n",
            "[2]Reading graph_02.edgelist\n",
            "[3]Reading graph_03.edgelist\n",
            "[4]Reading graph_04.edgelist\n",
            "Start convert graph to index ... 2.81s\n",
            "Number graphs:  5\n",
            "Origin graphs:\n",
            "Graph 0: |V|=619\t |E|=6374\tIsolate nodes: 0\n",
            "Graph 1: |V|=1660\t |E|=23654\tIsolate nodes: 0\n",
            "Graph 2: |V|=3699\t |E|=99588\tIsolate nodes: 0\n",
            "Graph 3: |V|=5654\t |E|=167731\tIsolate nodes: 0\n",
            "Graph 4: |V|=6798\t |E|=214693\tIsolate nodes: 0\n",
            "\n",
            "[ALL] Pre-processing graph for link prediction...\n",
            "==== Graph 5: \n",
            "Pre-processing graph for link prediction...\n",
            " 16% 34724/214693 [00:00<00:01, 140916.53it/s]\n",
            "\tDrop some current links... 1s\n",
            "\tGet possible unconnected link... 444s\n",
            "Rate:  0.008123435199622839\n",
            "\tCreate data frame have potential links and removed link.\n",
            "Processed graph in 444.95s\n",
            "[ALL] Processed in 451.61s\n",
            "\n",
            "After processing for link prediction graphs:\n",
            "Graph 0: |V|=619\t |E|=6374\tIsolate nodes: 0\n",
            "Graph 1: |V|=1660\t |E|=23654\tIsolate nodes: 0\n",
            "Graph 2: |V|=3699\t |E|=99588\tIsolate nodes: 0\n",
            "Graph 3: |V|=5654\t |E|=167731\tIsolate nodes: 0\n",
            "Graph 4: |V|=6798\t |E|=171754\tIsolate nodes: 0\n",
            "=============== DynGEM ============\n",
            "\n",
            "-----------\n",
            "Start load model...\n",
            "Loading models... 14.79s\n",
            "\n",
            "-->Run link predict evaluation ---\n",
            "tcmalloc: large alloc 2131509248 bytes == 0x154330000 @  0x7f9cd17821e7 0x7f9ccdb895e1 0x7f9ccdbedc78 0x7f9ccdbf0db8 0x7f9ccdbf1395 0x7f9ccdc8865d 0x50a7f5 0x50c1f4 0x507f24 0x509c50 0x50a64d 0x50cfd6 0x507f24 0x509c50 0x50a64d 0x50cfd6 0x507f24 0x50b053 0x634dd2 0x634e87 0x63863f 0x6391e1 0x4b0dc0 0x7f9cd137fb97 0x5b26fa\n",
            "train_test_split\n",
            "tcmalloc: large alloc 1598627840 bytes == 0x7f9b30d2e000 @  0x7f9cd17821e7 0x7f9ccdb895e1 0x7f9ccdbedc78 0x7f9ccdbedd93 0x7f9ccdc78ed6 0x7f9ccdc79338 0x50c4de 0x507f24 0x509c50 0x50a64d 0x50cfd6 0x507f24 0x509c50 0x50a64d 0x50c1f4 0x58e809 0x4c9306 0x588114 0x58834e 0x5517c1 0x5a9eec 0x50a783 0x50c1f4 0x507f24 0x509c50 0x50a64d 0x50cfd6 0x507f24 0x509c50 0x50a64d 0x50cfd6\n",
            "|Link=1|=42939\t|Link=0|=5285818\t\t|Percent Link=1/Link=0|=0.0081\n",
            "Training until validation scores don't improve for 100 rounds.\n",
            "[200]\tvalid_0's auc: 0.623946\n",
            "[400]\tvalid_0's auc: 0.632474\n",
            "[600]\tvalid_0's auc: 0.635189\n",
            "[800]\tvalid_0's auc: 0.637016\n",
            "[1000]\tvalid_0's auc: 0.638647\n",
            "Early stopping, best iteration is:\n",
            "[973]\tvalid_0's auc: 0.639285\n",
            "#----\n",
            "ROC AUC Score: 0.6393\n"
          ],
          "name": "stdout"
        }
      ]
    },
    {
      "cell_type": "markdown",
      "metadata": {
        "id": "8_3aZh-FSf9d",
        "colab_type": "text"
      },
      "source": [
        "## Node2Vec\n"
      ]
    },
    {
      "cell_type": "markdown",
      "metadata": {
        "id": "SSGVWEZ9SrC4",
        "colab_type": "text"
      },
      "source": [
        "Set parameter: \n",
        "```\n",
        "is_dyngem = False\n",
        "is_node2vec = True\n",
        "```"
      ]
    },
    {
      "cell_type": "code",
      "metadata": {
        "id": "oDkiqmfMShdB",
        "colab_type": "code",
        "colab": {
          "base_uri": "https://localhost:8080/",
          "height": 747
        },
        "outputId": "70b4ce92-aa56-4a06-c38f-63a8cfc90cc3"
      },
      "source": [
        "!python train_link_pred.py"
      ],
      "execution_count": 11,
      "outputs": [
        {
          "output_type": "stream",
          "text": [
            "[0]Reading graph_00.edgelist\n",
            "[1]Reading graph_01.edgelist\n",
            "[2]Reading graph_02.edgelist\n",
            "[3]Reading graph_03.edgelist\n",
            "[4]Reading graph_04.edgelist\n",
            "Start convert graph to index ... 2.81s\n",
            "Number graphs:  5\n",
            "Origin graphs:\n",
            "Graph 0: |V|=619\t |E|=6374\tIsolate nodes: 0\n",
            "Graph 1: |V|=1660\t |E|=23654\tIsolate nodes: 0\n",
            "Graph 2: |V|=3699\t |E|=99588\tIsolate nodes: 0\n",
            "Graph 3: |V|=5654\t |E|=167731\tIsolate nodes: 0\n",
            "Graph 4: |V|=6798\t |E|=214693\tIsolate nodes: 0\n",
            "Load processed data from disk...\n",
            "After processing for link prediction graphs:\n",
            "Graph 0: |V|=619\t |E|=6374\tIsolate nodes: 0\n",
            "Graph 1: |V|=1660\t |E|=23654\tIsolate nodes: 0\n",
            "Graph 2: |V|=3699\t |E|=99588\tIsolate nodes: 0\n",
            "Graph 3: |V|=5654\t |E|=167731\tIsolate nodes: 0\n",
            "Graph 4: |V|=6798\t |E|=171754\tIsolate nodes: 0\n",
            "=============== Node2vec ============\n",
            "Computing transition probabilities: 100% 6798/6798 [03:21<00:00, 33.67it/s]  \n",
            "Generating walks (CPU: 1): 100% 10/10 [08:08<00:00, 48.90s/it]\n",
            "Generating walks (CPU: 2): 100% 10/10 [08:08<00:00, 48.84s/it]\n",
            "\n",
            "-->Run link predict evaluation ---\n",
            "tcmalloc: large alloc 2131509248 bytes == 0xf63c6000 @  0x7f6e304711e7 0x7f6e2c8785e1 0x7f6e2c8dcc78 0x7f6e2c8dfdb8 0x7f6e2c8e0395 0x7f6e2c97765d 0x50a7f5 0x50c1f4 0x507f24 0x509c50 0x50a64d 0x50cfd6 0x507f24 0x509c50 0x50a64d 0x50cfd6 0x507f24 0x50b053 0x634dd2 0x634e87 0x63863f 0x6391e1 0x4b0dc0 0x7f6e3006eb97 0x5b26fa\n",
            "train_test_split\n",
            "tcmalloc: large alloc 1598627840 bytes == 0x17548a000 @  0x7f6e304711e7 0x7f6e2c8785e1 0x7f6e2c8dcc78 0x7f6e2c8dcd93 0x7f6e2c967ed6 0x7f6e2c968338 0x50c4de 0x507f24 0x509c50 0x50a64d 0x50cfd6 0x507f24 0x509c50 0x50a64d 0x50c1f4 0x58e809 0x4c9306 0x588114 0x58834e 0x5517c1 0x5a9eec 0x50a783 0x50c1f4 0x507f24 0x509c50 0x50a64d 0x50cfd6 0x507f24 0x509c50 0x50a64d 0x50cfd6\n",
            "|Link=1|=42939\t|Link=0|=5285818\t\t|Percent Link=1/Link=0|=0.0081\n",
            "Training until validation scores don't improve for 100 rounds.\n",
            "[200]\tvalid_0's auc: 0.949244\n",
            "[400]\tvalid_0's auc: 0.96165\n",
            "[600]\tvalid_0's auc: 0.967167\n",
            "[800]\tvalid_0's auc: 0.969386\n",
            "[1000]\tvalid_0's auc: 0.970394\n",
            "Early stopping, best iteration is:\n",
            "[982]\tvalid_0's auc: 0.970748\n",
            "#----\n",
            "ROC AUC Score: 0.9707\n"
          ],
          "name": "stdout"
        }
      ]
    },
    {
      "cell_type": "markdown",
      "metadata": {
        "id": "NukK8UI_lJgp",
        "colab_type": "text"
      },
      "source": [
        "## SDNE\n",
        "\n",
        "Set `is_sdne = True`"
      ]
    },
    {
      "cell_type": "code",
      "metadata": {
        "id": "7_t460yxlLcE",
        "colab_type": "code",
        "colab": {
          "base_uri": "https://localhost:8080/",
          "height": 747
        },
        "outputId": "b60c0cc2-8730-4511-de05-464dba795832"
      },
      "source": [
        "!python train_link_pred.py"
      ],
      "execution_count": 12,
      "outputs": [
        {
          "output_type": "stream",
          "text": [
            "[0]Reading graph_00.edgelist\n",
            "[1]Reading graph_01.edgelist\n",
            "[2]Reading graph_02.edgelist\n",
            "[3]Reading graph_03.edgelist\n",
            "[4]Reading graph_04.edgelist\n",
            "Start convert graph to index ... 2.79s\n",
            "Number graphs:  5\n",
            "Origin graphs:\n",
            "Graph 0: |V|=619\t |E|=6374\tIsolate nodes: 0\n",
            "Graph 1: |V|=1660\t |E|=23654\tIsolate nodes: 0\n",
            "Graph 2: |V|=3699\t |E|=99588\tIsolate nodes: 0\n",
            "Graph 3: |V|=5654\t |E|=167731\tIsolate nodes: 0\n",
            "Graph 4: |V|=6798\t |E|=214693\tIsolate nodes: 0\n",
            "Load processed data from disk...\n",
            "After processing for link prediction graphs:\n",
            "Graph 0: |V|=619\t |E|=6374\tIsolate nodes: 0\n",
            "Graph 1: |V|=1660\t |E|=23654\tIsolate nodes: 0\n",
            "Graph 2: |V|=3699\t |E|=99588\tIsolate nodes: 0\n",
            "Graph 3: |V|=5654\t |E|=167731\tIsolate nodes: 0\n",
            "Graph 4: |V|=6798\t |E|=171754\tIsolate nodes: 0\n",
            "=============== SDNE ============\n",
            "[4] SDNE load model...\n",
            "\n",
            "-->Run link predict evaluation ---\n",
            "tcmalloc: large alloc 2131509248 bytes == 0x151d62000 @  0x7f800bbd31e7 0x7f8007fda5e1 0x7f800803ec78 0x7f8008041db8 0x7f8008042395 0x7f80080d965d 0x50a7f5 0x50c1f4 0x507f24 0x509c50 0x50a64d 0x50cfd6 0x507f24 0x509c50 0x50a64d 0x50cfd6 0x507f24 0x50b053 0x634dd2 0x634e87 0x63863f 0x6391e1 0x4b0dc0 0x7f800b7d0b97 0x5b26fa\n",
            "train_test_split\n",
            "tcmalloc: large alloc 1598627840 bytes == 0x7f7ea3f2e000 @  0x7f800bbd31e7 0x7f8007fda5e1 0x7f800803ec78 0x7f800803ed93 0x7f80080c9ed6 0x7f80080ca338 0x50c4de 0x507f24 0x509c50 0x50a64d 0x50cfd6 0x507f24 0x509c50 0x50a64d 0x50c1f4 0x58e809 0x4c9306 0x588114 0x58834e 0x5517c1 0x5a9eec 0x50a783 0x50c1f4 0x507f24 0x509c50 0x50a64d 0x50cfd6 0x507f24 0x509c50 0x50a64d 0x50cfd6\n",
            "|Link=1|=42939\t|Link=0|=5285818\t\t|Percent Link=1/Link=0|=0.0081\n",
            "Training until validation scores don't improve for 100 rounds.\n",
            "[200]\tvalid_0's auc: 0.630503\n",
            "[400]\tvalid_0's auc: 0.638613\n",
            "[600]\tvalid_0's auc: 0.642751\n",
            "[800]\tvalid_0's auc: 0.646302\n",
            "[1000]\tvalid_0's auc: 0.649711\n",
            "[1200]\tvalid_0's auc: 0.651441\n",
            "[1400]\tvalid_0's auc: 0.652495\n",
            "Early stopping, best iteration is:\n",
            "[1308]\tvalid_0's auc: 0.652727\n",
            "#----\n",
            "ROC AUC Score: 0.6527\n"
          ],
          "name": "stdout"
        }
      ]
    },
    {
      "cell_type": "markdown",
      "metadata": {
        "id": "Z0sG1gLDsW7z",
        "colab_type": "text"
      },
      "source": [
        "# Evaluation\n"
      ]
    },
    {
      "cell_type": "code",
      "metadata": {
        "id": "jK8Rp129sYEQ",
        "colab_type": "code",
        "colab": {
          "base_uri": "https://localhost:8080/",
          "height": 1000
        },
        "outputId": "13ed6497-c04d-4e63-ccae-f1645d6831d1"
      },
      "source": [
        "!python eval_link_pred.py"
      ],
      "execution_count": 19,
      "outputs": [
        {
          "output_type": "stream",
          "text": [
            "[0]Reading graph_00.edgelist\n",
            "[1]Reading graph_01.edgelist\n",
            "[2]Reading graph_02.edgelist\n",
            "[3]Reading graph_03.edgelist\n",
            "[4]Reading graph_04.edgelist\n",
            "Start convert graph to index ... 2.66s\n",
            "Origin graphs:\n",
            "Graph 0: |V|=619\t |E|=6374\tIsolate nodes: 0\n",
            "Graph 1: |V|=1660\t |E|=23654\tIsolate nodes: 0\n",
            "Graph 2: |V|=3699\t |E|=99588\tIsolate nodes: 0\n",
            "Graph 3: |V|=5654\t |E|=167731\tIsolate nodes: 0\n",
            "Graph 4: |V|=6798\t |E|=214693\tIsolate nodes: 0\n",
            "Load processed data from disk...\n",
            "After processing for link prediction graphs:\n",
            "Graph 0: |V|=619\t |E|=6374\tIsolate nodes: 0\n",
            "Graph 1: |V|=1660\t |E|=23654\tIsolate nodes: 0\n",
            "Graph 2: |V|=3699\t |E|=99588\tIsolate nodes: 0\n",
            "Graph 3: |V|=5654\t |E|=167731\tIsolate nodes: 0\n",
            "Graph 4: |V|=6798\t |E|=171754\tIsolate nodes: 0\n",
            "=============== DynGEM ============\n",
            "Folder_path:  ./saved_data/embeddings/cit_hepth_link_pred\n",
            "\n",
            "-->Run link predict evaluation ---\n",
            "tcmalloc: large alloc 2131509248 bytes == 0xa38b4000 @  0x7f3f0cc111e7 0x7f3f090185e1 0x7f3f0907cc78 0x7f3f0907fdb8 0x7f3f09080395 0x7f3f0911765d 0x50a7f5 0x50c1f4 0x507f24 0x509c50 0x50a64d 0x50cfd6 0x507f24 0x509c50 0x50a64d 0x50cfd6 0x507f24 0x50b053 0x634dd2 0x634e87 0x63863f 0x6391e1 0x4b0dc0 0x7f3f0c80eb97 0x5b26fa\n",
            "train_test_split\n",
            "tcmalloc: large alloc 1598627840 bytes == 0x127ac8000 @  0x7f3f0cc111e7 0x7f3f090185e1 0x7f3f0907cc78 0x7f3f0907cd93 0x7f3f09107ed6 0x7f3f09108338 0x50c4de 0x507f24 0x509c50 0x50a64d 0x50cfd6 0x507f24 0x509c50 0x50a64d 0x50c1f4 0x58e809 0x4c9306 0x588114 0x58834e 0x5517c1 0x5a9eec 0x50a783 0x50c1f4 0x507f24 0x509c50 0x50a64d 0x50cfd6 0x507f24 0x509c50 0x50a64d 0x50cfd6\n",
            "|Link=1|=42939\t|Link=0|=5285818\t\t|Percent Link=1/Link=0|=0.0081\n",
            "Training until validation scores don't improve for 100 rounds.\n",
            "[200]\tvalid_0's auc: 0.6246\n",
            "[400]\tvalid_0's auc: 0.629527\n",
            "[600]\tvalid_0's auc: 0.633431\n",
            "[800]\tvalid_0's auc: 0.636384\n",
            "[1000]\tvalid_0's auc: 0.637951\n",
            "[1200]\tvalid_0's auc: 0.638221\n",
            "Early stopping, best iteration is:\n",
            "[1153]\tvalid_0's auc: 0.638719\n",
            "#----\n",
            "ROC AUC Score: 0.6387\n",
            "=============== Node2vec ============\n",
            "\n",
            "-->Run link predict evaluation ---\n",
            "tcmalloc: large alloc 2131509248 bytes == 0xa38b4000 @  0x7f3f0cc111e7 0x7f3f090185e1 0x7f3f0907cc78 0x7f3f0907fdb8 0x7f3f09080395 0x7f3f0911765d 0x50a7f5 0x50c1f4 0x507f24 0x509c50 0x50a64d 0x50cfd6 0x507f24 0x509c50 0x50a64d 0x50cfd6 0x507f24 0x50b053 0x634dd2 0x634e87 0x63863f 0x6391e1 0x4b0dc0 0x7f3f0c80eb97 0x5b26fa\n",
            "train_test_split\n",
            "tcmalloc: large alloc 1598627840 bytes == 0x127ac6000 @  0x7f3f0cc111e7 0x7f3f090185e1 0x7f3f0907cc78 0x7f3f0907cd93 0x7f3f09107ed6 0x7f3f09108338 0x50c4de 0x507f24 0x509c50 0x50a64d 0x50cfd6 0x507f24 0x509c50 0x50a64d 0x50c1f4 0x58e809 0x4c9306 0x588114 0x58834e 0x5517c1 0x5a9eec 0x50a783 0x50c1f4 0x507f24 0x509c50 0x50a64d 0x50cfd6 0x507f24 0x509c50 0x50a64d 0x50cfd6\n",
            "|Link=1|=42939\t|Link=0|=5285818\t\t|Percent Link=1/Link=0|=0.0081\n",
            "Training until validation scores don't improve for 100 rounds.\n",
            "[200]\tvalid_0's auc: 0.949244\n",
            "[400]\tvalid_0's auc: 0.96165\n",
            "[600]\tvalid_0's auc: 0.967167\n",
            "[800]\tvalid_0's auc: 0.969386\n",
            "[1000]\tvalid_0's auc: 0.970394\n",
            "Early stopping, best iteration is:\n",
            "[982]\tvalid_0's auc: 0.970748\n",
            "#----\n",
            "ROC AUC Score: 0.9707\n",
            "=============== SDNE ============\n",
            "Folder_path:  ./saved_data/sdne_emb/cit_hepth_link_pred\n",
            "\n",
            "-->Run link predict evaluation ---\n",
            "tcmalloc: large alloc 2131509248 bytes == 0xa38b4000 @  0x7f3f0cc111e7 0x7f3f090185e1 0x7f3f0907cc78 0x7f3f0907fdb8 0x7f3f09080395 0x7f3f0911765d 0x50a7f5 0x50c1f4 0x507f24 0x509c50 0x50a64d 0x50cfd6 0x507f24 0x509c50 0x50a64d 0x50cfd6 0x507f24 0x50b053 0x634dd2 0x634e87 0x63863f 0x6391e1 0x4b0dc0 0x7f3f0c80eb97 0x5b26fa\n",
            "train_test_split\n",
            "|Link=1|=42939\t|Link=0|=5285818\t\t|Percent Link=1/Link=0|=0.0081\n",
            "Training until validation scores don't improve for 100 rounds.\n",
            "[200]\tvalid_0's auc: 0.630503\n",
            "[400]\tvalid_0's auc: 0.638613\n",
            "[600]\tvalid_0's auc: 0.642751\n",
            "[800]\tvalid_0's auc: 0.646302\n",
            "[1000]\tvalid_0's auc: 0.649711\n",
            "[1200]\tvalid_0's auc: 0.651441\n",
            "[1400]\tvalid_0's auc: 0.652495\n",
            "Early stopping, best iteration is:\n",
            "[1308]\tvalid_0's auc: 0.652727\n",
            "#----\n",
            "ROC AUC Score: 0.6527\n"
          ],
          "name": "stdout"
        }
      ]
    }
  ]
}