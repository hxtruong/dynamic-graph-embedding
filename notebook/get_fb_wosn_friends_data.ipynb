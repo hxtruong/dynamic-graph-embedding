{
 "nbformat": 4,
 "nbformat_minor": 0,
 "metadata": {
  "colab": {
   "name": "get_fb_wosn_friends_data",
   "provenance": [],
   "collapsed_sections": [
    "0OdvKxUVit9P",
    "Xxbr4Pmrevn0"
   ],
   "toc_visible": true
  },
  "kernelspec": {
   "name": "python3",
   "display_name": "Python 3"
  }
 },
 "cells": [
  {
   "cell_type": "markdown",
   "metadata": {
    "id": "DJbQZQALeaM-",
    "colab_type": "text"
   },
   "source": [
    "# FB-WOSN-FRIENDS\n",
    "\n",
    "Reference: http://networkrepository.com/fb-wosn-friends.php\n",
    "\n",
    "**Describe**: \n",
    "> Facebook friendship graph where nodes are users and edges between the users represent friendship relations/edges. The fourth column represents the time of an edge (unix timestamp). Note that some edge timestamps are missing and are assigned 0."
   ]
  },
  {
   "cell_type": "markdown",
   "metadata": {
    "id": "e_O7UOI1eqiQ",
    "colab_type": "text"
   },
   "source": [
    "# Library"
   ]
  },
  {
   "cell_type": "code",
   "metadata": {
    "id": "4og-QbrUKYIx",
    "colab_type": "code",
    "colab": {}
   },
   "source": [
    "import pandas as pd\n",
    "import numpy as np\n",
    "import networkx as nx\n",
    "import matplotlib.pyplot as plt\n",
    "import requests\n",
    "import zipfile\n",
    "from datetime import datetime\n",
    "import os"
   ],
   "execution_count": 63,
   "outputs": []
  },
  {
   "cell_type": "markdown",
   "metadata": {
    "id": "0OdvKxUVit9P",
    "colab_type": "text"
   },
   "source": [
    "# Download"
   ]
  },
  {
   "cell_type": "code",
   "metadata": {
    "id": "YtFWFNoYKoVQ",
    "colab_type": "code",
    "colab": {}
   },
   "source": [
    "link_dts = 'http://nrvis.com/download/data/dynamic/fb-wosn-friends.zip'\n",
    "dts_zip = 'fb-wosn-friends.zip'\n",
    "dts_name = 'fb-wosn-friends.edges'"
   ],
   "execution_count": 64,
   "outputs": []
  },
  {
   "cell_type": "code",
   "metadata": {
    "id": "ed0ppwRIKvP8",
    "colab_type": "code",
    "colab": {
     "base_uri": "https://localhost:8080/",
     "height": 0
    },
    "outputId": "d9be326e-bcf1-4795-af22-5885fcb6a5f9"
   },
   "source": [
    "r1 = requests.get(link_dts, allow_redirects=True)\n",
    "open(dts_zip, 'wb').write(r1.content)"
   ],
   "execution_count": 65,
   "outputs": [
    {
     "output_type": "execute_result",
     "data": {
      "text/plain": [
       "7481438"
      ]
     },
     "metadata": {
      "tags": []
     },
     "execution_count": 65
    }
   ]
  },
  {
   "cell_type": "code",
   "metadata": {
    "id": "o3w-pii8K9aV",
    "colab_type": "code",
    "colab": {}
   },
   "source": [
    "with zipfile.ZipFile(dts_zip, 'r') as zip_ref:\n",
    "    zip_ref.extractall()"
   ],
   "execution_count": 66,
   "outputs": []
  },
  {
   "cell_type": "markdown",
   "metadata": {
    "id": "Xxbr4Pmrevn0",
    "colab_type": "text"
   },
   "source": [
    "# Handle data"
   ]
  },
  {
   "cell_type": "code",
   "metadata": {
    "id": "FS5CRpoHLpZF",
    "colab_type": "code",
    "colab": {
     "base_uri": "https://localhost:8080/",
     "height": 0
    },
    "outputId": "18306e61-fba6-42ed-bf7a-1c23be8928af"
   },
   "source": [
    "df = None\n",
    "with open(dts_name, 'r') as fi:\n",
    "    lines = fi.readlines() \n",
    "    print(lines[:6])\n",
    "    lines = lines[4:]\n",
    "    lines_ = [list(map(int, line.strip().split())) for line in lines ]\n",
    "    print(lines_[:4])\n",
    "    df = pd.DataFrame(data=lines_, columns=['node_1', 'node_2', 'group', 'timestamp'])\n",
    "\n",
    "print()\n",
    "print(df.dtypes)\n"
   ],
   "execution_count": 67,
   "outputs": [
    {
     "output_type": "stream",
     "text": [
      "['% sym unweighted\\n', '% 1269502 63731 63731\\n', '1 2 1 0\\n', '1 2 1 1202446730\\n', '1 3 1 0\\n', '1 4 1 0\\n']\n",
      "[[1, 3, 1, 0], [1, 4, 1, 0], [1, 4, 1, 1213591678], [1, 5, 1, 0]]\n",
      "\n",
      "node_1       int64\n",
      "node_2       int64\n",
      "group        int64\n",
      "timestamp    int64\n",
      "dtype: object\n"
     ],
     "name": "stdout"
    }
   ]
  },
  {
   "cell_type": "code",
   "metadata": {
    "id": "fS0egw4fPxpW",
    "colab_type": "code",
    "colab": {
     "base_uri": "https://localhost:8080/",
     "height": 0
    },
    "outputId": "22775022-79cc-4c46-e256-a92c4d5e0f99"
   },
   "source": [
    "df.info()"
   ],
   "execution_count": 68,
   "outputs": [
    {
     "output_type": "stream",
     "text": [
      "<class 'pandas.core.frame.DataFrame'>\n",
      "RangeIndex: 1269500 entries, 0 to 1269499\n",
      "Data columns (total 4 columns):\n",
      " #   Column     Non-Null Count    Dtype\n",
      "---  ------     --------------    -----\n",
      " 0   node_1     1269500 non-null  int64\n",
      " 1   node_2     1269500 non-null  int64\n",
      " 2   group      1269500 non-null  int64\n",
      " 3   timestamp  1269500 non-null  int64\n",
      "dtypes: int64(4)\n",
      "memory usage: 38.7 MB\n"
     ],
     "name": "stdout"
    }
   ]
  },
  {
   "cell_type": "code",
   "metadata": {
    "id": "4CyCMv7HNJOR",
    "colab_type": "code",
    "colab": {
     "base_uri": "https://localhost:8080/",
     "height": 0
    },
    "outputId": "18c178c5-2b28-4586-aea8-0c7d8d4a8259"
   },
   "source": [
    "df.describe()"
   ],
   "execution_count": 69,
   "outputs": [
    {
     "output_type": "execute_result",
     "data": {
      "text/html": [
       "<div>\n",
       "<style scoped>\n",
       "    .dataframe tbody tr th:only-of-type {\n",
       "        vertical-align: middle;\n",
       "    }\n",
       "\n",
       "    .dataframe tbody tr th {\n",
       "        vertical-align: top;\n",
       "    }\n",
       "\n",
       "    .dataframe thead th {\n",
       "        text-align: right;\n",
       "    }\n",
       "</style>\n",
       "<table border=\"1\" class=\"dataframe\">\n",
       "  <thead>\n",
       "    <tr style=\"text-align: right;\">\n",
       "      <th></th>\n",
       "      <th>node_1</th>\n",
       "      <th>node_2</th>\n",
       "      <th>group</th>\n",
       "      <th>timestamp</th>\n",
       "    </tr>\n",
       "  </thead>\n",
       "  <tbody>\n",
       "    <tr>\n",
       "      <th>count</th>\n",
       "      <td>1.269500e+06</td>\n",
       "      <td>1.269500e+06</td>\n",
       "      <td>1269500.0</td>\n",
       "      <td>1.269500e+06</td>\n",
       "    </tr>\n",
       "    <tr>\n",
       "      <th>mean</th>\n",
       "      <td>1.373285e+04</td>\n",
       "      <td>2.452445e+04</td>\n",
       "      <td>1.0</td>\n",
       "      <td>7.507268e+08</td>\n",
       "    </tr>\n",
       "    <tr>\n",
       "      <th>std</th>\n",
       "      <td>1.130070e+04</td>\n",
       "      <td>1.382840e+04</td>\n",
       "      <td>0.0</td>\n",
       "      <td>5.868973e+08</td>\n",
       "    </tr>\n",
       "    <tr>\n",
       "      <th>min</th>\n",
       "      <td>1.000000e+00</td>\n",
       "      <td>3.000000e+00</td>\n",
       "      <td>1.0</td>\n",
       "      <td>0.000000e+00</td>\n",
       "    </tr>\n",
       "    <tr>\n",
       "      <th>25%</th>\n",
       "      <td>4.743000e+03</td>\n",
       "      <td>1.342600e+04</td>\n",
       "      <td>1.0</td>\n",
       "      <td>0.000000e+00</td>\n",
       "    </tr>\n",
       "    <tr>\n",
       "      <th>50%</th>\n",
       "      <td>1.104100e+04</td>\n",
       "      <td>2.362600e+04</td>\n",
       "      <td>1.0</td>\n",
       "      <td>1.190734e+09</td>\n",
       "    </tr>\n",
       "    <tr>\n",
       "      <th>75%</th>\n",
       "      <td>2.024700e+04</td>\n",
       "      <td>3.440700e+04</td>\n",
       "      <td>1.0</td>\n",
       "      <td>1.219291e+09</td>\n",
       "    </tr>\n",
       "    <tr>\n",
       "      <th>max</th>\n",
       "      <td>6.369700e+04</td>\n",
       "      <td>6.373100e+04</td>\n",
       "      <td>1.0</td>\n",
       "      <td>1.232576e+09</td>\n",
       "    </tr>\n",
       "  </tbody>\n",
       "</table>\n",
       "</div>"
      ],
      "text/plain": [
       "             node_1        node_2      group     timestamp\n",
       "count  1.269500e+06  1.269500e+06  1269500.0  1.269500e+06\n",
       "mean   1.373285e+04  2.452445e+04        1.0  7.507268e+08\n",
       "std    1.130070e+04  1.382840e+04        0.0  5.868973e+08\n",
       "min    1.000000e+00  3.000000e+00        1.0  0.000000e+00\n",
       "25%    4.743000e+03  1.342600e+04        1.0  0.000000e+00\n",
       "50%    1.104100e+04  2.362600e+04        1.0  1.190734e+09\n",
       "75%    2.024700e+04  3.440700e+04        1.0  1.219291e+09\n",
       "max    6.369700e+04  6.373100e+04        1.0  1.232576e+09"
      ]
     },
     "metadata": {
      "tags": []
     },
     "execution_count": 69
    }
   ]
  },
  {
   "cell_type": "markdown",
   "metadata": {
    "id": "ba9rFO3VQtAY",
    "colab_type": "text"
   },
   "source": [
    "We will drop `group` column and which row has value `timestamp = 0`. We can not create a temporal network without getting time stamp"
   ]
  },
  {
   "cell_type": "code",
   "metadata": {
    "id": "X8pEsnP5PA8o",
    "colab_type": "code",
    "colab": {}
   },
   "source": [
    "df.drop(columns='group', inplace=True)"
   ],
   "execution_count": 70,
   "outputs": []
  },
  {
   "cell_type": "code",
   "metadata": {
    "id": "BghtEofSROlx",
    "colab_type": "code",
    "colab": {}
   },
   "source": [
    "df = df[df.timestamp != 0]"
   ],
   "execution_count": 71,
   "outputs": []
  },
  {
   "cell_type": "code",
   "metadata": {
    "id": "ev7kkMjLRW5Z",
    "colab_type": "code",
    "colab": {
     "base_uri": "https://localhost:8080/",
     "height": 0
    },
    "outputId": "4ba1420c-e7ed-4117-ed8c-55a7d22fe1dc"
   },
   "source": [
    "df.describe()"
   ],
   "execution_count": 72,
   "outputs": [
    {
     "output_type": "execute_result",
     "data": {
      "text/html": [
       "<div>\n",
       "<style scoped>\n",
       "    .dataframe tbody tr th:only-of-type {\n",
       "        vertical-align: middle;\n",
       "    }\n",
       "\n",
       "    .dataframe tbody tr th {\n",
       "        vertical-align: top;\n",
       "    }\n",
       "\n",
       "    .dataframe thead th {\n",
       "        text-align: right;\n",
       "    }\n",
       "</style>\n",
       "<table border=\"1\" class=\"dataframe\">\n",
       "  <thead>\n",
       "    <tr style=\"text-align: right;\">\n",
       "      <th></th>\n",
       "      <th>node_1</th>\n",
       "      <th>node_2</th>\n",
       "      <th>timestamp</th>\n",
       "    </tr>\n",
       "  </thead>\n",
       "  <tbody>\n",
       "    <tr>\n",
       "      <th>count</th>\n",
       "      <td>788134.000000</td>\n",
       "      <td>788134.000000</td>\n",
       "      <td>7.881340e+05</td>\n",
       "    </tr>\n",
       "    <tr>\n",
       "      <th>mean</th>\n",
       "      <td>14852.746297</td>\n",
       "      <td>26157.133782</td>\n",
       "      <td>1.209246e+09</td>\n",
       "    </tr>\n",
       "    <tr>\n",
       "      <th>std</th>\n",
       "      <td>11659.723044</td>\n",
       "      <td>13860.294103</td>\n",
       "      <td>1.906904e+07</td>\n",
       "    </tr>\n",
       "    <tr>\n",
       "      <th>min</th>\n",
       "      <td>1.000000</td>\n",
       "      <td>3.000000</td>\n",
       "      <td>1.157455e+09</td>\n",
       "    </tr>\n",
       "    <tr>\n",
       "      <th>25%</th>\n",
       "      <td>5494.000000</td>\n",
       "      <td>15213.000000</td>\n",
       "      <td>1.196929e+09</td>\n",
       "    </tr>\n",
       "    <tr>\n",
       "      <th>50%</th>\n",
       "      <td>12017.000000</td>\n",
       "      <td>25490.000000</td>\n",
       "      <td>1.215498e+09</td>\n",
       "    </tr>\n",
       "    <tr>\n",
       "      <th>75%</th>\n",
       "      <td>21975.000000</td>\n",
       "      <td>35869.000000</td>\n",
       "      <td>1.224544e+09</td>\n",
       "    </tr>\n",
       "    <tr>\n",
       "      <th>max</th>\n",
       "      <td>63697.000000</td>\n",
       "      <td>63731.000000</td>\n",
       "      <td>1.232576e+09</td>\n",
       "    </tr>\n",
       "  </tbody>\n",
       "</table>\n",
       "</div>"
      ],
      "text/plain": [
       "              node_1         node_2     timestamp\n",
       "count  788134.000000  788134.000000  7.881340e+05\n",
       "mean    14852.746297   26157.133782  1.209246e+09\n",
       "std     11659.723044   13860.294103  1.906904e+07\n",
       "min         1.000000       3.000000  1.157455e+09\n",
       "25%      5494.000000   15213.000000  1.196929e+09\n",
       "50%     12017.000000   25490.000000  1.215498e+09\n",
       "75%     21975.000000   35869.000000  1.224544e+09\n",
       "max     63697.000000   63731.000000  1.232576e+09"
      ]
     },
     "metadata": {
      "tags": []
     },
     "execution_count": 72
    }
   ]
  },
  {
   "cell_type": "markdown",
   "metadata": {
    "id": "Bemv157ZWDx6",
    "colab_type": "text"
   },
   "source": [
    "# Creating dynamic graph\n",
    "Divide timestamp to `k` bin means `k` graph. Afterthat, we have 1 dynamic graph with `k` snapshot (static graph)"
   ]
  },
  {
   "cell_type": "code",
   "metadata": {
    "id": "tXaafQoVWDjD",
    "colab_type": "code",
    "colab": {}
   },
   "source": [
    "k = 25"
   ],
   "execution_count": 73,
   "outputs": []
  },
  {
   "cell_type": "code",
   "metadata": {
    "id": "bsr8WibPRYK-",
    "colab_type": "code",
    "colab": {
     "base_uri": "https://localhost:8080/",
     "height": 34
    },
    "outputId": "89b9c5db-6881-42af-a469-a8f94ac166d4"
   },
   "source": [
    "timestamp_range = (df.timestamp.max() - df.timestamp.min() + 1)//k \n",
    "timestamp_range"
   ],
   "execution_count": 74,
   "outputs": [
    {
     "output_type": "execute_result",
     "data": {
      "text/plain": [
       "3004847"
      ]
     },
     "metadata": {
      "tags": []
     },
     "execution_count": 74
    }
   ]
  },
  {
   "cell_type": "code",
   "metadata": {
    "id": "pJsG0v7iXUA1",
    "colab_type": "code",
    "colab": {
     "base_uri": "https://localhost:8080/",
     "height": 459
    },
    "outputId": "2d4ad0c1-83c0-4874-fea9-c91948e8aeda"
   },
   "source": [
    "graphs_df = []\n",
    "print(\"Start time: \", datetime.fromtimestamp(df.timestamp.min()) )\n",
    "for i in range(k):\n",
    "    upper_time = df.timestamp.min() + timestamp_range*(i+1)\n",
    "    print(f\"[{i}|\\tUpper_time= {datetime.fromtimestamp(upper_time)}\\t |Row|= {len(df[df.timestamp<upper_time])}\")\n",
    "    if i == k-1:\n",
    "        graph_df = df.copy()\n",
    "    else:\n",
    "        graph_df = df[df.timestamp<upper_time].copy()\n",
    "    graphs_df.append(graph_df)"
   ],
   "execution_count": 75,
   "outputs": [
    {
     "output_type": "stream",
     "text": [
      "Start time:  2006-09-05 11:15:29\n",
      "[0|\tUpper_time= 2006-10-10 05:56:16\t |Row|= 8861\n",
      "[1|\tUpper_time= 2006-11-14 00:37:03\t |Row|= 19356\n",
      "[2|\tUpper_time= 2006-12-18 19:17:50\t |Row|= 29801\n",
      "[3|\tUpper_time= 2007-01-22 13:58:37\t |Row|= 40598\n",
      "[4|\tUpper_time= 2007-02-26 08:39:24\t |Row|= 52674\n",
      "[5|\tUpper_time= 2007-04-02 03:20:11\t |Row|= 65483\n",
      "[6|\tUpper_time= 2007-05-06 22:00:58\t |Row|= 78461\n",
      "[7|\tUpper_time= 2007-06-10 16:41:45\t |Row|= 93314\n",
      "[8|\tUpper_time= 2007-07-15 11:22:32\t |Row|= 110335\n",
      "[9|\tUpper_time= 2007-08-19 06:03:19\t |Row|= 131464\n",
      "[10|\tUpper_time= 2007-09-23 00:44:06\t |Row|= 151754\n",
      "[11|\tUpper_time= 2007-10-27 19:24:53\t |Row|= 173696\n",
      "[12|\tUpper_time= 2007-12-01 14:05:40\t |Row|= 194268\n",
      "[13|\tUpper_time= 2008-01-05 08:46:27\t |Row|= 210541\n",
      "[14|\tUpper_time= 2008-02-09 03:27:14\t |Row|= 227698\n",
      "[15|\tUpper_time= 2008-03-14 22:08:01\t |Row|= 248294\n",
      "[16|\tUpper_time= 2008-04-18 16:48:48\t |Row|= 288180\n",
      "[17|\tUpper_time= 2008-05-23 11:29:35\t |Row|= 332550\n",
      "[18|\tUpper_time= 2008-06-27 06:10:22\t |Row|= 378748\n",
      "[19|\tUpper_time= 2008-08-01 00:51:09\t |Row|= 433570\n",
      "[20|\tUpper_time= 2008-09-04 19:31:56\t |Row|= 495842\n",
      "[21|\tUpper_time= 2008-10-09 14:12:43\t |Row|= 566364\n",
      "[22|\tUpper_time= 2008-11-13 08:53:30\t |Row|= 646763\n",
      "[23|\tUpper_time= 2008-12-18 03:34:17\t |Row|= 743265\n",
      "[24|\tUpper_time= 2009-01-21 22:15:04\t |Row|= 788133\n"
     ],
     "name": "stdout"
    }
   ]
  },
  {
   "cell_type": "code",
   "metadata": {
    "id": "51xrkionZbti",
    "colab_type": "code",
    "colab": {
     "base_uri": "https://localhost:8080/",
     "height": 442
    },
    "outputId": "ec61ca9d-fdb0-4b68-ec55-b0b2c2bae165"
   },
   "source": [
    "graphs = []\n",
    "for i in range(k):\n",
    "    g = nx.from_pandas_edgelist(graphs_df[i], \"node_1\", \"node_2\", create_using=nx.Graph())\n",
    "    graphs.append(g)\n",
    "    print(f\"Graph {i+1}:\\t|V|={g.number_of_nodes()}\\t|E|={g.number_of_edges()}\")"
   ],
   "execution_count": 76,
   "outputs": [
    {
     "output_type": "stream",
     "text": [
      "Graph 1:\t|V|=4664\t|E|=7230\n",
      "Graph 2:\t|V|=7005\t|E|=15753\n",
      "Graph 3:\t|V|=8624\t|E|=24250\n",
      "Graph 4:\t|V|=9944\t|E|=33001\n",
      "Graph 5:\t|V|=11210\t|E|=42760\n",
      "Graph 6:\t|V|=12385\t|E|=53116\n",
      "Graph 7:\t|V|=13535\t|E|=63574\n",
      "Graph 8:\t|V|=14816\t|E|=75523\n",
      "Graph 9:\t|V|=16203\t|E|=89113\n",
      "Graph 10:\t|V|=17770\t|E|=105774\n",
      "Graph 11:\t|V|=19568\t|E|=121876\n",
      "Graph 12:\t|V|=21692\t|E|=139376\n",
      "Graph 13:\t|V|=23795\t|E|=155790\n",
      "Graph 14:\t|V|=25510\t|E|=168976\n",
      "Graph 15:\t|V|=27582\t|E|=182773\n",
      "Graph 16:\t|V|=29890\t|E|=199180\n",
      "Graph 17:\t|V|=32247\t|E|=230491\n",
      "Graph 18:\t|V|=34656\t|E|=265211\n",
      "Graph 19:\t|V|=37452\t|E|=301329\n",
      "Graph 20:\t|V|=40925\t|E|=343844\n",
      "Graph 21:\t|V|=44756\t|E|=391987\n",
      "Graph 22:\t|V|=48700\t|E|=445780\n",
      "Graph 23:\t|V|=53127\t|E|=507331\n",
      "Graph 24:\t|V|=58502\t|E|=580808\n",
      "Graph 25:\t|V|=61096\t|E|=614796\n"
     ],
     "name": "stdout"
    }
   ]
  },
  {
   "cell_type": "markdown",
   "metadata": {
    "id": "gGaEckOpi5gp",
    "colab_type": "text"
   },
   "source": [
    "# Save dynamic graph"
   ]
  },
  {
   "cell_type": "code",
   "metadata": {
    "id": "ihrDZ0lElNNA",
    "colab_type": "code",
    "colab": {}
   },
   "source": [
    "NUMBER_SAVE_GRAPH = 10"
   ],
   "execution_count": 77,
   "outputs": []
  },
  {
   "cell_type": "code",
   "metadata": {
    "id": "kdqHsFQ_kXAo",
    "colab_type": "code",
    "colab": {}
   },
   "source": [
    "folder = \"../data/fb\"\n",
    "if not os.path.exists(folder):\n",
    "    os.makedirs(folder)"
   ],
   "execution_count": 78,
   "outputs": []
  },
  {
   "cell_type": "code",
   "metadata": {
    "id": "Bs5L_Nsfi48r",
    "colab_type": "code",
    "colab": {}
   },
   "source": [
    "for i in range(min(NUMBER_SAVE_GRAPH, k)):\n",
    "    nx.write_edgelist(graphs[i],f'{folder}/graph_{str(i//10)+str(i%10)}.edgelist',data=False)"
   ],
   "execution_count": 79,
   "outputs": []
  }
 ]
}