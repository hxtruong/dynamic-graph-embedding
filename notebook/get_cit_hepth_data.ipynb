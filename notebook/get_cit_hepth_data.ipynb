{
  "nbformat": 4,
  "nbformat_minor": 0,
  "metadata": {
    "colab": {
      "name": "get_cit-hepth_data.ipynb",
      "provenance": [],
      "collapsed_sections": [],
      "toc_visible": true
    },
    "kernelspec": {
      "name": "python3",
      "display_name": "Python 3"
    }
  },
  "cells": [
    {
      "cell_type": "markdown",
      "metadata": {
        "id": "DJbQZQALeaM-",
        "colab_type": "text"
      },
      "source": [
        "# CIT-HEPTH\n",
        "\n",
        "Reference: \n",
        "    - http://networkrepository.com/ca-cit-HepTh.php\n",
        "\n",
        "**Describe**: \n",
        "> Arxiv HEP-TH (high energy physics theory) citation graph is from arXiv and covers all the citations. Edges from u to v indicate that a paper u cited another paper v. If a paper cites, or is cited by, a paper outside the dataset, the graph does not contain any information about this. The data is of the papers in the period from January 1993 to April 2003.\n",
        "\n"
      ]
    },
    {
      "cell_type": "markdown",
      "metadata": {
        "id": "e_O7UOI1eqiQ",
        "colab_type": "text"
      },
      "source": [
        "# Library"
      ]
    },
    {
      "cell_type": "code",
      "metadata": {
        "id": "4og-QbrUKYIx",
        "colab_type": "code",
        "colab": {}
      },
      "source": [
        "import pandas as pd\n",
        "import numpy as np\n",
        "import networkx as nx\n",
        "import matplotlib.pyplot as plt\n",
        "import tensorflow as tf\n",
        "import requests\n",
        "import zipfile\n",
        "from datetime import datetime\n",
        "import os"
      ],
      "execution_count": 1,
      "outputs": []
    },
    {
      "cell_type": "markdown",
      "metadata": {
        "id": "0OdvKxUVit9P",
        "colab_type": "text"
      },
      "source": [
        "# Download"
      ]
    },
    {
      "cell_type": "code",
      "metadata": {
        "id": "YtFWFNoYKoVQ",
        "colab_type": "code",
        "colab": {}
      },
      "source": [
        "link_dts = 'http://nrvis.com/download/data/ca/ca-cit-HepTh.zip'\n",
        "dts_zip = 'ca-cit-HepTh.zip'\n",
        "dts_name = 'ca-cit-HepTh.edges'"
      ],
      "execution_count": 19,
      "outputs": []
    },
    {
      "cell_type": "code",
      "metadata": {
        "id": "ed0ppwRIKvP8",
        "colab_type": "code",
        "colab": {
          "base_uri": "https://localhost:8080/",
          "height": 34
        },
        "outputId": "13aa2179-954c-4538-a1a6-2623fcd69ddc"
      },
      "source": [
        "r1 = requests.get(link_dts, allow_redirects=True)\n",
        "open(dts_zip, 'wb').write(r1.content)"
      ],
      "execution_count": 20,
      "outputs": [
        {
          "output_type": "execute_result",
          "data": {
            "text/plain": [
              "7779843"
            ]
          },
          "metadata": {
            "tags": []
          },
          "execution_count": 20
        }
      ]
    },
    {
      "cell_type": "code",
      "metadata": {
        "id": "o3w-pii8K9aV",
        "colab_type": "code",
        "colab": {}
      },
      "source": [
        "with zipfile.ZipFile(dts_zip, 'r') as zip_ref:\n",
        "    zip_ref.extractall()"
      ],
      "execution_count": 21,
      "outputs": []
    },
    {
      "cell_type": "markdown",
      "metadata": {
        "id": "Xxbr4Pmrevn0",
        "colab_type": "text"
      },
      "source": [
        "# Handle data"
      ]
    },
    {
      "cell_type": "code",
      "metadata": {
        "id": "FS5CRpoHLpZF",
        "colab_type": "code",
        "colab": {
          "base_uri": "https://localhost:8080/",
          "height": 158
        },
        "outputId": "7d571278-ecfd-4566-8f0f-e4523616ccae"
      },
      "source": [
        "df = None\n",
        "with open(dts_name, 'r') as fi:\n",
        "    lines = fi.readlines() \n",
        "    print(lines[:6])\n",
        "    lines = lines[4:]\n",
        "    lines_ = [list(map(int, line.strip().split())) for line in lines ]\n",
        "    print(lines_[:4])\n",
        "    df = pd.DataFrame(data=lines_, columns=['node_1', 'node_2', 'weight', 'timestamp'])\n",
        "\n",
        "print()\n",
        "print(df.dtypes)\n"
      ],
      "execution_count": 27,
      "outputs": [
        {
          "output_type": "stream",
          "text": [
            "['% sym unweighted\\n', '1 2 1 1015887601\\n', '1 3 1 1015887601\\n', '1 4 1 1015887601\\n', '1 5 1 1015887601\\n', '1 6 1 1015887601\\n']\n",
            "[[1, 5, 1, 1015887601], [1, 6, 1, 1015887601], [1, 7, 1, 1015887601], [1, 8, 1, 1015887601]]\n",
            "\n",
            "node_1       int64\n",
            "node_2       int64\n",
            "weight       int64\n",
            "timestamp    int64\n",
            "dtype: object\n"
          ],
          "name": "stdout"
        }
      ]
    },
    {
      "cell_type": "code",
      "metadata": {
        "id": "fS0egw4fPxpW",
        "colab_type": "code",
        "colab": {
          "base_uri": "https://localhost:8080/",
          "height": 212
        },
        "outputId": "e90b64bd-da77-47e8-dd5d-01183f56e852"
      },
      "source": [
        "df.info()"
      ],
      "execution_count": 28,
      "outputs": [
        {
          "output_type": "stream",
          "text": [
            "<class 'pandas.core.frame.DataFrame'>\n",
            "RangeIndex: 2673130 entries, 0 to 2673129\n",
            "Data columns (total 4 columns):\n",
            " #   Column     Dtype\n",
            "---  ------     -----\n",
            " 0   node_1     int64\n",
            " 1   node_2     int64\n",
            " 2   weight     int64\n",
            " 3   timestamp  int64\n",
            "dtypes: int64(4)\n",
            "memory usage: 81.6 MB\n"
          ],
          "name": "stdout"
        }
      ]
    },
    {
      "cell_type": "code",
      "metadata": {
        "id": "4CyCMv7HNJOR",
        "colab_type": "code",
        "colab": {
          "base_uri": "https://localhost:8080/",
          "height": 287
        },
        "outputId": "8a9fadce-3a52-4ebd-dadd-f8450c56ae44"
      },
      "source": [
        "df.describe()"
      ],
      "execution_count": 29,
      "outputs": [
        {
          "output_type": "execute_result",
          "data": {
            "text/html": [
              "<div>\n",
              "<style scoped>\n",
              "    .dataframe tbody tr th:only-of-type {\n",
              "        vertical-align: middle;\n",
              "    }\n",
              "\n",
              "    .dataframe tbody tr th {\n",
              "        vertical-align: top;\n",
              "    }\n",
              "\n",
              "    .dataframe thead th {\n",
              "        text-align: right;\n",
              "    }\n",
              "</style>\n",
              "<table border=\"1\" class=\"dataframe\">\n",
              "  <thead>\n",
              "    <tr style=\"text-align: right;\">\n",
              "      <th></th>\n",
              "      <th>node_1</th>\n",
              "      <th>node_2</th>\n",
              "      <th>weight</th>\n",
              "      <th>timestamp</th>\n",
              "    </tr>\n",
              "  </thead>\n",
              "  <tbody>\n",
              "    <tr>\n",
              "      <th>count</th>\n",
              "      <td>2.673130e+06</td>\n",
              "      <td>2.673130e+06</td>\n",
              "      <td>2673130.0</td>\n",
              "      <td>2.673130e+06</td>\n",
              "    </tr>\n",
              "    <tr>\n",
              "      <th>mean</th>\n",
              "      <td>3.769401e+03</td>\n",
              "      <td>8.666282e+03</td>\n",
              "      <td>1.0</td>\n",
              "      <td>1.002332e+09</td>\n",
              "    </tr>\n",
              "    <tr>\n",
              "      <th>std</th>\n",
              "      <td>4.792042e+03</td>\n",
              "      <td>6.395250e+03</td>\n",
              "      <td>0.0</td>\n",
              "      <td>4.088860e+07</td>\n",
              "    </tr>\n",
              "    <tr>\n",
              "      <th>min</th>\n",
              "      <td>1.000000e+00</td>\n",
              "      <td>3.000000e+00</td>\n",
              "      <td>1.0</td>\n",
              "      <td>7.494300e+08</td>\n",
              "    </tr>\n",
              "    <tr>\n",
              "      <th>25%</th>\n",
              "      <td>5.590000e+02</td>\n",
              "      <td>3.093000e+03</td>\n",
              "      <td>1.0</td>\n",
              "      <td>1.015888e+09</td>\n",
              "    </tr>\n",
              "    <tr>\n",
              "      <th>50%</th>\n",
              "      <td>1.561000e+03</td>\n",
              "      <td>6.939500e+03</td>\n",
              "      <td>1.0</td>\n",
              "      <td>1.015888e+09</td>\n",
              "    </tr>\n",
              "    <tr>\n",
              "      <th>75%</th>\n",
              "      <td>4.823000e+03</td>\n",
              "      <td>1.461300e+04</td>\n",
              "      <td>1.0</td>\n",
              "      <td>1.015888e+09</td>\n",
              "    </tr>\n",
              "    <tr>\n",
              "      <th>max</th>\n",
              "      <td>2.290600e+04</td>\n",
              "      <td>2.290800e+04</td>\n",
              "      <td>1.0</td>\n",
              "      <td>1.015888e+09</td>\n",
              "    </tr>\n",
              "  </tbody>\n",
              "</table>\n",
              "</div>"
            ],
            "text/plain": [
              "             node_1        node_2     weight     timestamp\n",
              "count  2.673130e+06  2.673130e+06  2673130.0  2.673130e+06\n",
              "mean   3.769401e+03  8.666282e+03        1.0  1.002332e+09\n",
              "std    4.792042e+03  6.395250e+03        0.0  4.088860e+07\n",
              "min    1.000000e+00  3.000000e+00        1.0  7.494300e+08\n",
              "25%    5.590000e+02  3.093000e+03        1.0  1.015888e+09\n",
              "50%    1.561000e+03  6.939500e+03        1.0  1.015888e+09\n",
              "75%    4.823000e+03  1.461300e+04        1.0  1.015888e+09\n",
              "max    2.290600e+04  2.290800e+04        1.0  1.015888e+09"
            ]
          },
          "metadata": {
            "tags": []
          },
          "execution_count": 29
        }
      ]
    },
    {
      "cell_type": "markdown",
      "metadata": {
        "id": "ba9rFO3VQtAY",
        "colab_type": "text"
      },
      "source": [
        "We will drop `weight` column and which row has value `timestamp = 0`. We can not create a temporal network without getting time stamp"
      ]
    },
    {
      "cell_type": "code",
      "metadata": {
        "id": "X8pEsnP5PA8o",
        "colab_type": "code",
        "colab": {}
      },
      "source": [
        "df.drop(columns='weight', inplace=True)"
      ],
      "execution_count": 30,
      "outputs": []
    },
    {
      "cell_type": "code",
      "metadata": {
        "id": "BghtEofSROlx",
        "colab_type": "code",
        "colab": {}
      },
      "source": [
        "df = df[df.timestamp != 0]"
      ],
      "execution_count": 31,
      "outputs": []
    },
    {
      "cell_type": "code",
      "metadata": {
        "id": "ev7kkMjLRW5Z",
        "colab_type": "code",
        "colab": {
          "base_uri": "https://localhost:8080/",
          "height": 287
        },
        "outputId": "185612cc-07f8-4601-ed12-6065d66b4cfd"
      },
      "source": [
        "df.describe()"
      ],
      "execution_count": 32,
      "outputs": [
        {
          "output_type": "execute_result",
          "data": {
            "text/html": [
              "<div>\n",
              "<style scoped>\n",
              "    .dataframe tbody tr th:only-of-type {\n",
              "        vertical-align: middle;\n",
              "    }\n",
              "\n",
              "    .dataframe tbody tr th {\n",
              "        vertical-align: top;\n",
              "    }\n",
              "\n",
              "    .dataframe thead th {\n",
              "        text-align: right;\n",
              "    }\n",
              "</style>\n",
              "<table border=\"1\" class=\"dataframe\">\n",
              "  <thead>\n",
              "    <tr style=\"text-align: right;\">\n",
              "      <th></th>\n",
              "      <th>node_1</th>\n",
              "      <th>node_2</th>\n",
              "      <th>timestamp</th>\n",
              "    </tr>\n",
              "  </thead>\n",
              "  <tbody>\n",
              "    <tr>\n",
              "      <th>count</th>\n",
              "      <td>2.673130e+06</td>\n",
              "      <td>2.673130e+06</td>\n",
              "      <td>2.673130e+06</td>\n",
              "    </tr>\n",
              "    <tr>\n",
              "      <th>mean</th>\n",
              "      <td>3.769401e+03</td>\n",
              "      <td>8.666282e+03</td>\n",
              "      <td>1.002332e+09</td>\n",
              "    </tr>\n",
              "    <tr>\n",
              "      <th>std</th>\n",
              "      <td>4.792042e+03</td>\n",
              "      <td>6.395250e+03</td>\n",
              "      <td>4.088860e+07</td>\n",
              "    </tr>\n",
              "    <tr>\n",
              "      <th>min</th>\n",
              "      <td>1.000000e+00</td>\n",
              "      <td>3.000000e+00</td>\n",
              "      <td>7.494300e+08</td>\n",
              "    </tr>\n",
              "    <tr>\n",
              "      <th>25%</th>\n",
              "      <td>5.590000e+02</td>\n",
              "      <td>3.093000e+03</td>\n",
              "      <td>1.015888e+09</td>\n",
              "    </tr>\n",
              "    <tr>\n",
              "      <th>50%</th>\n",
              "      <td>1.561000e+03</td>\n",
              "      <td>6.939500e+03</td>\n",
              "      <td>1.015888e+09</td>\n",
              "    </tr>\n",
              "    <tr>\n",
              "      <th>75%</th>\n",
              "      <td>4.823000e+03</td>\n",
              "      <td>1.461300e+04</td>\n",
              "      <td>1.015888e+09</td>\n",
              "    </tr>\n",
              "    <tr>\n",
              "      <th>max</th>\n",
              "      <td>2.290600e+04</td>\n",
              "      <td>2.290800e+04</td>\n",
              "      <td>1.015888e+09</td>\n",
              "    </tr>\n",
              "  </tbody>\n",
              "</table>\n",
              "</div>"
            ],
            "text/plain": [
              "             node_1        node_2     timestamp\n",
              "count  2.673130e+06  2.673130e+06  2.673130e+06\n",
              "mean   3.769401e+03  8.666282e+03  1.002332e+09\n",
              "std    4.792042e+03  6.395250e+03  4.088860e+07\n",
              "min    1.000000e+00  3.000000e+00  7.494300e+08\n",
              "25%    5.590000e+02  3.093000e+03  1.015888e+09\n",
              "50%    1.561000e+03  6.939500e+03  1.015888e+09\n",
              "75%    4.823000e+03  1.461300e+04  1.015888e+09\n",
              "max    2.290600e+04  2.290800e+04  1.015888e+09"
            ]
          },
          "metadata": {
            "tags": []
          },
          "execution_count": 32
        }
      ]
    },
    {
      "cell_type": "markdown",
      "metadata": {
        "id": "Bemv157ZWDx6",
        "colab_type": "text"
      },
      "source": [
        "# Creating dynamic graph\n",
        "Divide timestamp to `k` bin means `k` graph. Afterthat, we have 1 dynamic graph with `k` snapshot (static graph)"
      ]
    },
    {
      "cell_type": "code",
      "metadata": {
        "id": "tXaafQoVWDjD",
        "colab_type": "code",
        "colab": {}
      },
      "source": [
        "k = 6"
      ],
      "execution_count": 41,
      "outputs": []
    },
    {
      "cell_type": "code",
      "metadata": {
        "id": "bsr8WibPRYK-",
        "colab_type": "code",
        "colab": {
          "base_uri": "https://localhost:8080/",
          "height": 34
        },
        "outputId": "0328a941-94da-428a-e5b0-a40130dcea0d"
      },
      "source": [
        "timestamp_range = (df.timestamp.max() - df.timestamp.min() + 1)//k \n",
        "timestamp_range"
      ],
      "execution_count": 42,
      "outputs": [
        {
          "output_type": "execute_result",
          "data": {
            "text/plain": [
              "44409600"
            ]
          },
          "metadata": {
            "tags": []
          },
          "execution_count": 42
        }
      ]
    },
    {
      "cell_type": "code",
      "metadata": {
        "id": "pJsG0v7iXUA1",
        "colab_type": "code",
        "colab": {
          "base_uri": "https://localhost:8080/",
          "height": 141
        },
        "outputId": "1edfd2da-fffc-45d2-a7cc-f7586c51d26e"
      },
      "source": [
        "graphs_df = []\n",
        "print(\"Start time: \", datetime.fromtimestamp(df.timestamp.min()) )\n",
        "for i in range(k):\n",
        "    upper_time = df.timestamp.min() + timestamp_range*(i+1)\n",
        "    print(f\"[{i}|\\tUpper_time= {datetime.fromtimestamp(upper_time)}\\t |Row|= {len(df[df.timestamp<upper_time])}\")\n",
        "    if i == k-1:\n",
        "        graph_df = df.copy()\n",
        "    else:\n",
        "        graph_df = df[df.timestamp<upper_time].copy()\n",
        "    graphs_df.append(graph_df)"
      ],
      "execution_count": 43,
      "outputs": [
        {
          "output_type": "stream",
          "text": [
            "Start time:  1993-09-30 23:00:00\n",
            "[0|\tUpper_time= 1995-02-26 23:00:00\t |Row|= 6514\n",
            "[1|\tUpper_time= 1996-07-24 23:00:00\t |Row|= 26938\n",
            "[2|\tUpper_time= 1997-12-20 23:00:00\t |Row|= 130085\n",
            "[3|\tUpper_time= 1999-05-18 23:00:00\t |Row|= 223589\n",
            "[4|\tUpper_time= 2000-10-13 23:00:00\t |Row|= 290597\n",
            "[5|\tUpper_time= 2002-03-11 23:00:00\t |Row|= 290597\n"
          ],
          "name": "stdout"
        }
      ]
    },
    {
      "cell_type": "code",
      "metadata": {
        "id": "51xrkionZbti",
        "colab_type": "code",
        "colab": {
          "base_uri": "https://localhost:8080/",
          "height": 123
        },
        "outputId": "d617e605-6df0-43e1-e55e-1308e1c36ebd"
      },
      "source": [
        "graphs = []\n",
        "for i in range(k):\n",
        "    g = nx.from_pandas_edgelist(graphs_df[i], \"node_1\", \"node_2\", create_using=nx.Graph())\n",
        "    graphs.append(g)\n",
        "    print(f\"Graph {i+1}:\\t|V|={g.number_of_nodes()}\\t|E|={g.number_of_edges()}\")"
      ],
      "execution_count": 44,
      "outputs": [
        {
          "output_type": "stream",
          "text": [
            "Graph 1:\t|V|=619\t|E|=6374\n",
            "Graph 2:\t|V|=1660\t|E|=23654\n",
            "Graph 3:\t|V|=3699\t|E|=99588\n",
            "Graph 4:\t|V|=5654\t|E|=167731\n",
            "Graph 5:\t|V|=6798\t|E|=214693\n",
            "Graph 6:\t|V|=22908\t|E|=2444795\n"
          ],
          "name": "stdout"
        }
      ]
    },
    {
      "cell_type": "markdown",
      "metadata": {
        "id": "gGaEckOpi5gp",
        "colab_type": "text"
      },
      "source": [
        "# Save dynamic graph"
      ]
    },
    {
      "cell_type": "code",
      "metadata": {
        "id": "ihrDZ0lElNNA",
        "colab_type": "code",
        "colab": {}
      },
      "source": [
        "NUMBER_SAVE_GRAPH = 6"
      ],
      "execution_count": 45,
      "outputs": []
    },
    {
      "cell_type": "code",
      "metadata": {
        "id": "kdqHsFQ_kXAo",
        "colab_type": "code",
        "colab": {}
      },
      "source": [
        "folder = \"../data/\"\n",
        "if not os.path.exists(folder):\n",
        "    os.makedirs(folder)"
      ],
      "execution_count": 46,
      "outputs": []
    },
    {
      "cell_type": "code",
      "metadata": {
        "id": "Bs5L_Nsfi48r",
        "colab_type": "code",
        "colab": {}
      },
      "source": [
        "for i in range(min(NUMBER_SAVE_GRAPH, k)):\n",
        "    nx.write_edgelist(graphs[i],f'{folder}/graph_{str(i//10)+str(i%10)}.edgelist',data=False)"
      ],
      "execution_count": 47,
      "outputs": []
    },
    {
      "cell_type": "code",
      "metadata": {
        "id": "x8uoqtxHgKrd",
        "colab_type": "code",
        "colab": {}
      },
      "source": [
        ""
      ],
      "execution_count": null,
      "outputs": []
    }
  ]
}