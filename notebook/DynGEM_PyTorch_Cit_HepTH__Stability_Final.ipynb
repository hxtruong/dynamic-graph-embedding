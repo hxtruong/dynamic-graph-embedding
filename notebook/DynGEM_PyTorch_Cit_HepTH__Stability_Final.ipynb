{
  "nbformat": 4,
  "nbformat_minor": 0,
  "metadata": {
    "colab": {
      "name": "DynGEM_PyTorch_Cit_HepTH__Stability_Final.ipynb",
      "provenance": [],
      "collapsed_sections": [
        "_yJLltZjktXC",
        "PDUsqrnckwNp",
        "NlDRdr08IZG-",
        "TptxUYYVSafs",
        "8_3aZh-FSf9d",
        "A74OHdVYnyBc"
      ],
      "toc_visible": true
    },
    "kernelspec": {
      "name": "python3",
      "display_name": "Python 3"
    },
    "accelerator": "GPU"
  },
  "cells": [
    {
      "cell_type": "markdown",
      "metadata": {
        "id": "bmPcfxjMP9mN",
        "colab_type": "text"
      },
      "source": [
        "# 0.Transffering drive data\n",
        "Run this code if resuming training (Not recommend- should train from scratch)"
      ]
    },
    {
      "cell_type": "code",
      "metadata": {
        "id": "otCVPODxQN5J",
        "colab_type": "code",
        "colab": {
          "base_uri": "https://localhost:8080/",
          "height": 125
        },
        "outputId": "5b502d97-9362-4684-ba0d-91ce5160d29f"
      },
      "source": [
        "from google.colab import auth\n",
        "auth.authenticate_user()\n",
        "from google.colab import drive\n",
        "drive.mount('/content/gdrive', force_remount=True)"
      ],
      "execution_count": 10,
      "outputs": [
        {
          "output_type": "stream",
          "text": [
            "Go to this URL in a browser: https://accounts.google.com/o/oauth2/auth?client_id=947318989803-6bn6qk8qdgf4n4g3pfee6491hc0brc4i.apps.googleusercontent.com&redirect_uri=urn%3aietf%3awg%3aoauth%3a2.0%3aoob&scope=email%20https%3a%2f%2fwww.googleapis.com%2fauth%2fdocs.test%20https%3a%2f%2fwww.googleapis.com%2fauth%2fdrive%20https%3a%2f%2fwww.googleapis.com%2fauth%2fdrive.photos.readonly%20https%3a%2f%2fwww.googleapis.com%2fauth%2fpeopleapi.readonly&response_type=code\n",
            "\n",
            "Enter your authorization code:\n",
            "··········\n",
            "Mounted at /content/gdrive\n"
          ],
          "name": "stdout"
        }
      ]
    },
    {
      "cell_type": "code",
      "metadata": {
        "id": "lnvAUXlFQOsr",
        "colab_type": "code",
        "colab": {
          "base_uri": "https://localhost:8080/",
          "height": 34
        },
        "outputId": "215face7-25f3-48e5-8224-1d57661316cf"
      },
      "source": [
        "!pwd"
      ],
      "execution_count": null,
      "outputs": [
        {
          "output_type": "stream",
          "text": [
            "/content/dynamic-graph-embedding\n"
          ],
          "name": "stdout"
        }
      ]
    },
    {
      "cell_type": "markdown",
      "metadata": {
        "id": "0Y6X-4uo7Djz",
        "colab_type": "text"
      },
      "source": [
        "## Saved data folder"
      ]
    },
    {
      "cell_type": "code",
      "metadata": {
        "id": "4eiynNll7BWy",
        "colab_type": "code",
        "colab": {
          "base_uri": "https://localhost:8080/",
          "height": 1000
        },
        "outputId": "e7c62b32-4b0e-4f8a-f0de-43862107728b"
      },
      "source": [
        "# Save data\n",
        "!zip -r ./cit_hepth_saved_data_stab.zip ./saved_data ./data/cit_hepth\n",
        "!cp ./cit_hepth_saved_data_stab.zip /content/gdrive/Shared\\ drives/UNLIMITED\\ DRIVE/"
      ],
      "execution_count": 18,
      "outputs": [
        {
          "output_type": "stream",
          "text": [
            "updating: saved_data/ (stored 0%)\n",
            "updating: saved_data/embeddings/ (stored 0%)\n",
            "updating: saved_data/embeddings/cit_hepth_stability/ (stored 0%)\n",
            "updating: saved_data/embeddings/cit_hepth_stability/_3 (deflated 14%)\n",
            "updating: saved_data/embeddings/cit_hepth_stability/_1 (deflated 14%)\n",
            "updating: saved_data/embeddings/cit_hepth_stability/_2 (deflated 15%)\n",
            "updating: saved_data/embeddings/cit_hepth_stability/_4 (deflated 13%)\n",
            "updating: saved_data/embeddings/cit_hepth_stability/_0 (deflated 18%)\n",
            "updating: saved_data/models/ (stored 0%)\n",
            "updating: saved_data/models/cit_hepth_stability/ (stored 0%)\n",
            "updating: saved_data/models/cit_hepth_stability/graph_0.pt (deflated 7%)\n",
            "updating: saved_data/models/cit_hepth_stability/graph_0.json (deflated 25%)\n",
            "updating: saved_data/models/cit_hepth_stability/graph_1.pt (deflated 7%)\n",
            "updating: saved_data/models/cit_hepth_stability/graph_3.json (deflated 29%)\n",
            "updating: saved_data/models/cit_hepth_stability/graph_3.pt (deflated 11%)\n",
            "updating: saved_data/models/cit_hepth_stability/graph_2.json (deflated 27%)\n",
            "updating: saved_data/models/cit_hepth_stability/graph_2.pt (deflated 10%)\n",
            "updating: saved_data/models/cit_hepth_stability/graph_4.pt (deflated 9%)\n",
            "updating: saved_data/models/cit_hepth_stability/graph_1.json (deflated 27%)\n",
            "updating: saved_data/models/cit_hepth_stability/graph_4.json (deflated 31%)\n",
            "updating: saved_data/node2vec_emb/ (stored 0%)\n",
            "updating: saved_data/node2vec_emb/cit_hepth_stability/ (stored 0%)\n",
            "updating: data/cit_hepth/ (stored 0%)\n",
            "updating: data/cit_hepth/graph_01.edgelist (deflated 71%)\n",
            "updating: data/cit_hepth/graph_00.edgelist (deflated 74%)\n",
            "updating: data/cit_hepth/graph_04.edgelist (deflated 72%)\n",
            "updating: data/cit_hepth/graph_03.edgelist (deflated 72%)\n",
            "updating: data/cit_hepth/graph_02.edgelist (deflated 72%)\n",
            "updating: saved_data/node2vec_emb/cit_hepth_stability/n2v_emb4 (deflated 56%)\n",
            "updating: saved_data/node2vec_emb/cit_hepth_stability/n2v_emb0 (deflated 57%)\n",
            "updating: saved_data/node2vec_emb/cit_hepth_stability/n2v_emb3 (deflated 56%)\n",
            "updating: saved_data/node2vec_emb/cit_hepth_stability/n2v_emb1 (deflated 57%)\n",
            "updating: saved_data/node2vec_emb/cit_hepth_stability/n2v_emb2 (deflated 57%)\n",
            "updating: saved_data/sdne_models/ (stored 0%)\n",
            "updating: saved_data/sdne_models/cit_hepth_stability/ (stored 0%)\n",
            "updating: saved_data/sdne_models/cit_hepth_stability/graph_0.pt (deflated 8%)\n",
            "updating: saved_data/sdne_models/cit_hepth_stability/graph_0.json (deflated 25%)\n",
            "updating: saved_data/sdne_models/cit_hepth_stability/graph_1.pt (deflated 7%)\n",
            "updating: saved_data/sdne_models/cit_hepth_stability/graph_3.json (deflated 26%)\n",
            "updating: saved_data/sdne_models/cit_hepth_stability/graph_3.pt (deflated 8%)\n",
            "updating: saved_data/sdne_models/cit_hepth_stability/graph_2.json (deflated 24%)\n",
            "updating: saved_data/sdne_models/cit_hepth_stability/graph_2.pt (deflated 8%)\n",
            "updating: saved_data/sdne_models/cit_hepth_stability/graph_4.pt (deflated 8%)\n",
            "updating: saved_data/sdne_models/cit_hepth_stability/graph_1.json (deflated 26%)\n",
            "updating: saved_data/sdne_models/cit_hepth_stability/graph_4.json (deflated 26%)\n",
            "updating: saved_data/sdne_models/.ipynb_checkpoints/ (stored 0%)\n",
            "  adding: saved_data/sdne_emb/ (stored 0%)\n",
            "  adding: saved_data/sdne_emb/cit_hepth_stability/ (stored 0%)\n",
            "  adding: saved_data/sdne_emb/cit_hepth_stability/_3 (deflated 11%)\n",
            "  adding: saved_data/sdne_emb/cit_hepth_stability/_1 (deflated 13%)\n",
            "  adding: saved_data/sdne_emb/cit_hepth_stability/_2 (deflated 11%)\n",
            "  adding: saved_data/sdne_emb/cit_hepth_stability/_4 (deflated 11%)\n",
            "  adding: saved_data/sdne_emb/cit_hepth_stability/_0 (deflated 15%)\n",
            "  adding: saved_data/node2vec_emb/cit_hepth_stability/n2v_emb_3 (deflated 7%)\n",
            "  adding: saved_data/node2vec_emb/cit_hepth_stability/n2v_emb_4 (deflated 7%)\n",
            "  adding: saved_data/node2vec_emb/cit_hepth_stability/n2v_emb_2 (deflated 7%)\n",
            "  adding: saved_data/node2vec_emb/cit_hepth_stability/n2v_emb_1 (deflated 7%)\n",
            "  adding: saved_data/node2vec_emb/cit_hepth_stability/n2v_emb_0 (deflated 7%)\n"
          ],
          "name": "stdout"
        }
      ]
    },
    {
      "cell_type": "code",
      "metadata": {
        "id": "JkpfjPiH7Qyo",
        "colab_type": "code",
        "colab": {
          "base_uri": "https://localhost:8080/",
          "height": 1000
        },
        "outputId": "f931c511-5c4f-4da6-9e77-e54a8d558209"
      },
      "source": [
        "# Load data\n",
        "!cp /content/gdrive/Shared\\ drives/UNLIMITED\\ DRIVE/cit_hepth_saved_data_stab.zip ./\n",
        "!unzip cit_hepth_saved_data_stab.zip -d ./"
      ],
      "execution_count": 11,
      "outputs": [
        {
          "output_type": "stream",
          "text": [
            "Archive:  cit_hepth_saved_data_stab.zip\n",
            "   creating: ./saved_data/\n",
            "   creating: ./saved_data/embeddings/\n",
            "   creating: ./saved_data/embeddings/cit_hepth_stability/\n",
            "  inflating: ./saved_data/embeddings/cit_hepth_stability/_3  \n",
            "  inflating: ./saved_data/embeddings/cit_hepth_stability/_1  \n",
            "  inflating: ./saved_data/embeddings/cit_hepth_stability/_2  \n",
            "  inflating: ./saved_data/embeddings/cit_hepth_stability/_4  \n",
            "  inflating: ./saved_data/embeddings/cit_hepth_stability/_0  \n",
            "   creating: ./saved_data/models/\n",
            "   creating: ./saved_data/models/cit_hepth_stability_ck/\n",
            "  inflating: ./saved_data/models/cit_hepth_stability_ck/graph_0.pt  \n",
            "  inflating: ./saved_data/models/cit_hepth_stability_ck/graph_0.json  \n",
            "  inflating: ./saved_data/models/cit_hepth_stability_ck/graph_1.pt  \n",
            "  inflating: ./saved_data/models/cit_hepth_stability_ck/graph_3.json  \n",
            "  inflating: ./saved_data/models/cit_hepth_stability_ck/graph_3.pt  \n",
            "  inflating: ./saved_data/models/cit_hepth_stability_ck/graph_2.json  \n",
            "  inflating: ./saved_data/models/cit_hepth_stability_ck/graph_2.pt  \n",
            "  inflating: ./saved_data/models/cit_hepth_stability_ck/graph_4.pt  \n",
            "  inflating: ./saved_data/models/cit_hepth_stability_ck/graph_1.json  \n",
            "  inflating: ./saved_data/models/cit_hepth_stability_ck/graph_4.json  \n",
            "   creating: ./saved_data/models/cit_hepth_stability/\n",
            "  inflating: ./saved_data/models/cit_hepth_stability/graph_0.pt  \n",
            "  inflating: ./saved_data/models/cit_hepth_stability/graph_0.json  \n",
            "  inflating: ./saved_data/models/cit_hepth_stability/graph_1.pt  \n",
            "  inflating: ./saved_data/models/cit_hepth_stability/graph_3.json  \n",
            "  inflating: ./saved_data/models/cit_hepth_stability/graph_3.pt  \n",
            "  inflating: ./saved_data/models/cit_hepth_stability/graph_2.json  \n",
            "  inflating: ./saved_data/models/cit_hepth_stability/graph_2.pt  \n",
            "  inflating: ./saved_data/models/cit_hepth_stability/graph_4.pt  \n",
            "  inflating: ./saved_data/models/cit_hepth_stability/graph_1.json  \n",
            "  inflating: ./saved_data/models/cit_hepth_stability/graph_4.json  \n",
            "   creating: ./saved_data/node2vec_emb/\n",
            "   creating: ./saved_data/node2vec_emb/cit_hepth_stability/\n",
            "   creating: ./data/cit_hepth/\n",
            "  inflating: ./data/cit_hepth/graph_01.edgelist  \n",
            "  inflating: ./data/cit_hepth/graph_00.edgelist  \n",
            "  inflating: ./data/cit_hepth/graph_04.edgelist  \n",
            "  inflating: ./data/cit_hepth/graph_03.edgelist  \n",
            "  inflating: ./data/cit_hepth/graph_02.edgelist  \n",
            "  inflating: ./saved_data/node2vec_emb/cit_hepth_stability/n2v_emb4  \n",
            "  inflating: ./saved_data/node2vec_emb/cit_hepth_stability/n2v_emb0  \n",
            "  inflating: ./saved_data/node2vec_emb/cit_hepth_stability/n2v_emb3  \n",
            "  inflating: ./saved_data/node2vec_emb/cit_hepth_stability/n2v_emb1  \n",
            "  inflating: ./saved_data/node2vec_emb/cit_hepth_stability/n2v_emb2  \n",
            "   creating: ./saved_data/sdne_models/\n",
            "   creating: ./saved_data/sdne_models/cit_hepth_stability/\n",
            "  inflating: ./saved_data/sdne_models/cit_hepth_stability/graph_0.pt  \n",
            "  inflating: ./saved_data/sdne_models/cit_hepth_stability/graph_0.json  \n",
            "  inflating: ./saved_data/sdne_models/cit_hepth_stability/graph_1.pt  \n",
            "  inflating: ./saved_data/sdne_models/cit_hepth_stability/graph_3.json  \n",
            "  inflating: ./saved_data/sdne_models/cit_hepth_stability/graph_3.pt  \n",
            "  inflating: ./saved_data/sdne_models/cit_hepth_stability/graph_2.json  \n",
            "  inflating: ./saved_data/sdne_models/cit_hepth_stability/graph_2.pt  \n",
            "  inflating: ./saved_data/sdne_models/cit_hepth_stability/graph_4.pt  \n",
            "  inflating: ./saved_data/sdne_models/cit_hepth_stability/graph_1.json  \n",
            "  inflating: ./saved_data/sdne_models/cit_hepth_stability/graph_4.json  \n",
            "   creating: ./saved_data/sdne_models/.ipynb_checkpoints/\n"
          ],
          "name": "stdout"
        }
      ]
    },
    {
      "cell_type": "markdown",
      "metadata": {
        "id": "_yJLltZjktXC",
        "colab_type": "text"
      },
      "source": [
        "#1. Library"
      ]
    },
    {
      "cell_type": "code",
      "metadata": {
        "id": "0sfVWIZmtTOk",
        "colab_type": "code",
        "colab": {
          "base_uri": "https://localhost:8080/",
          "height": 0
        },
        "outputId": "daff6f5c-faf5-449c-e562-1e240442399c"
      },
      "source": [
        "!pip install node2vec"
      ],
      "execution_count": 2,
      "outputs": [
        {
          "output_type": "stream",
          "text": [
            "Collecting node2vec\n",
            "  Downloading https://files.pythonhosted.org/packages/c0/da/7f0c49433ef91033e21d523e82be1570074a5d6ab8c74f8771774e9d2fd1/node2vec-0.3.2-py3-none-any.whl\n",
            "Requirement already satisfied: gensim in /usr/local/lib/python3.6/dist-packages (from node2vec) (3.6.0)\n",
            "Requirement already satisfied: networkx in /usr/local/lib/python3.6/dist-packages (from node2vec) (2.4)\n",
            "Requirement already satisfied: tqdm in /usr/local/lib/python3.6/dist-packages (from node2vec) (4.41.1)\n",
            "Requirement already satisfied: numpy in /usr/local/lib/python3.6/dist-packages (from node2vec) (1.18.5)\n",
            "Requirement already satisfied: joblib>=0.13.2 in /usr/local/lib/python3.6/dist-packages (from node2vec) (0.16.0)\n",
            "Requirement already satisfied: scipy>=0.18.1 in /usr/local/lib/python3.6/dist-packages (from gensim->node2vec) (1.4.1)\n",
            "Requirement already satisfied: smart-open>=1.2.1 in /usr/local/lib/python3.6/dist-packages (from gensim->node2vec) (2.1.0)\n",
            "Requirement already satisfied: six>=1.5.0 in /usr/local/lib/python3.6/dist-packages (from gensim->node2vec) (1.15.0)\n",
            "Requirement already satisfied: decorator>=4.3.0 in /usr/local/lib/python3.6/dist-packages (from networkx->node2vec) (4.4.2)\n",
            "Requirement already satisfied: requests in /usr/local/lib/python3.6/dist-packages (from smart-open>=1.2.1->gensim->node2vec) (2.23.0)\n",
            "Requirement already satisfied: boto in /usr/local/lib/python3.6/dist-packages (from smart-open>=1.2.1->gensim->node2vec) (2.49.0)\n",
            "Requirement already satisfied: boto3 in /usr/local/lib/python3.6/dist-packages (from smart-open>=1.2.1->gensim->node2vec) (1.14.37)\n",
            "Requirement already satisfied: chardet<4,>=3.0.2 in /usr/local/lib/python3.6/dist-packages (from requests->smart-open>=1.2.1->gensim->node2vec) (3.0.4)\n",
            "Requirement already satisfied: idna<3,>=2.5 in /usr/local/lib/python3.6/dist-packages (from requests->smart-open>=1.2.1->gensim->node2vec) (2.10)\n",
            "Requirement already satisfied: certifi>=2017.4.17 in /usr/local/lib/python3.6/dist-packages (from requests->smart-open>=1.2.1->gensim->node2vec) (2020.6.20)\n",
            "Requirement already satisfied: urllib3!=1.25.0,!=1.25.1,<1.26,>=1.21.1 in /usr/local/lib/python3.6/dist-packages (from requests->smart-open>=1.2.1->gensim->node2vec) (1.24.3)\n",
            "Requirement already satisfied: jmespath<1.0.0,>=0.7.1 in /usr/local/lib/python3.6/dist-packages (from boto3->smart-open>=1.2.1->gensim->node2vec) (0.10.0)\n",
            "Requirement already satisfied: botocore<1.18.0,>=1.17.37 in /usr/local/lib/python3.6/dist-packages (from boto3->smart-open>=1.2.1->gensim->node2vec) (1.17.37)\n",
            "Requirement already satisfied: s3transfer<0.4.0,>=0.3.0 in /usr/local/lib/python3.6/dist-packages (from boto3->smart-open>=1.2.1->gensim->node2vec) (0.3.3)\n",
            "Requirement already satisfied: python-dateutil<3.0.0,>=2.1 in /usr/local/lib/python3.6/dist-packages (from botocore<1.18.0,>=1.17.37->boto3->smart-open>=1.2.1->gensim->node2vec) (2.8.1)\n",
            "Requirement already satisfied: docutils<0.16,>=0.10 in /usr/local/lib/python3.6/dist-packages (from botocore<1.18.0,>=1.17.37->boto3->smart-open>=1.2.1->gensim->node2vec) (0.15.2)\n",
            "Installing collected packages: node2vec\n",
            "Successfully installed node2vec-0.3.2\n"
          ],
          "name": "stdout"
        }
      ]
    },
    {
      "cell_type": "code",
      "metadata": {
        "id": "sBPKfDebdFr_",
        "colab_type": "code",
        "colab": {}
      },
      "source": [
        "import networkx as nx\n",
        "import warnings\n",
        "import torch\n",
        "import os\n",
        "import matplotlib.pyplot as plt \n",
        "\n",
        "warnings.filterwarnings(\"ignore\")\n",
        "%matplotlib inline"
      ],
      "execution_count": 3,
      "outputs": []
    },
    {
      "cell_type": "code",
      "metadata": {
        "id": "OUMUQlYvfvcd",
        "colab_type": "code",
        "colab": {
          "base_uri": "https://localhost:8080/",
          "height": 0
        },
        "outputId": "72d89f91-f15f-46a7-ba31-77826efa7d84"
      },
      "source": [
        "device = torch.device(\"cuda\" if torch.cuda.is_available() else \"cpu\")\n",
        "device"
      ],
      "execution_count": 4,
      "outputs": [
        {
          "output_type": "execute_result",
          "data": {
            "text/plain": [
              "device(type='cuda')"
            ]
          },
          "metadata": {
            "tags": []
          },
          "execution_count": 4
        }
      ]
    },
    {
      "cell_type": "markdown",
      "metadata": {
        "id": "PDUsqrnckwNp",
        "colab_type": "text"
      },
      "source": [
        "#2. Download repo\n",
        "Run this part firstly"
      ]
    },
    {
      "cell_type": "code",
      "metadata": {
        "id": "jTgZMbyuRpNv",
        "colab_type": "code",
        "colab": {}
      },
      "source": [
        "# %cd ..\n",
        "# !rm -rf ./dynamic-graph-embedding"
      ],
      "execution_count": 5,
      "outputs": []
    },
    {
      "cell_type": "code",
      "metadata": {
        "id": "vRtM6gr_mtgf",
        "colab_type": "code",
        "colab": {
          "base_uri": "https://localhost:8080/",
          "height": 0
        },
        "outputId": "560f359b-45a2-4be5-9133-c458b9c94cf7"
      },
      "source": [
        "!git clone https://github.com/hxtruong/dynamic-graph-embedding"
      ],
      "execution_count": 6,
      "outputs": [
        {
          "output_type": "stream",
          "text": [
            "Cloning into 'dynamic-graph-embedding'...\n",
            "remote: Enumerating objects: 778, done.\u001b[K\n",
            "remote: Counting objects: 100% (778/778), done.\u001b[K\n",
            "remote: Compressing objects: 100% (502/502), done.\u001b[K\n",
            "remote: Total 778 (delta 512), reused 524 (delta 258), pack-reused 0\u001b[K\n",
            "Receiving objects: 100% (778/778), 2.34 MiB | 12.94 MiB/s, done.\n",
            "Resolving deltas: 100% (512/512), done.\n"
          ],
          "name": "stdout"
        }
      ]
    },
    {
      "cell_type": "code",
      "metadata": {
        "id": "G_fVSjKGnv0c",
        "colab_type": "code",
        "colab": {
          "base_uri": "https://localhost:8080/",
          "height": 0
        },
        "outputId": "78280566-7744-476f-ce1a-2509751fbd54"
      },
      "source": [
        "%cd ./dynamic-graph-embedding/"
      ],
      "execution_count": 7,
      "outputs": [
        {
          "output_type": "stream",
          "text": [
            "/content/dynamic-graph-embedding\n"
          ],
          "name": "stdout"
        }
      ]
    },
    {
      "cell_type": "code",
      "metadata": {
        "id": "i9i4wPecRuA9",
        "colab_type": "code",
        "colab": {}
      },
      "source": [
        "# !git checkout old-loss"
      ],
      "execution_count": 8,
      "outputs": []
    },
    {
      "cell_type": "code",
      "metadata": {
        "id": "4HmueSO2yqP_",
        "colab_type": "code",
        "colab": {}
      },
      "source": [
        "# !pip install -r requirements.txt"
      ],
      "execution_count": 9,
      "outputs": []
    },
    {
      "cell_type": "markdown",
      "metadata": {
        "id": "NlDRdr08IZG-",
        "colab_type": "text"
      },
      "source": [
        "#3. Download dataset\n",
        "For not running Drive part (#0)"
      ]
    },
    {
      "cell_type": "code",
      "metadata": {
        "id": "3RypdU8HUVG3",
        "colab_type": "code",
        "colab": {
          "base_uri": "https://localhost:8080/",
          "height": 34
        },
        "outputId": "cd0a27ba-e8d5-4464-c679-6659810b87ee"
      },
      "source": [
        "!pwd"
      ],
      "execution_count": null,
      "outputs": [
        {
          "output_type": "stream",
          "text": [
            "/content/dynamic-graph-embedding\n"
          ],
          "name": "stdout"
        }
      ]
    },
    {
      "cell_type": "code",
      "metadata": {
        "id": "cWDP0VsHK5DG",
        "colab_type": "code",
        "colab": {}
      },
      "source": [
        "# !mkdir data\n",
        "!mkdir data/cit_hepth"
      ],
      "execution_count": null,
      "outputs": []
    },
    {
      "cell_type": "code",
      "metadata": {
        "id": "x4RpmWUwQTYb",
        "colab_type": "code",
        "colab": {}
      },
      "source": [
        "# !rm -rf data/cit_hepth"
      ],
      "execution_count": null,
      "outputs": []
    },
    {
      "cell_type": "code",
      "metadata": {
        "id": "QNBbBCaJIcY2",
        "colab_type": "code",
        "colab": {
          "base_uri": "https://localhost:8080/",
          "height": 585
        },
        "outputId": "a36e5a2a-c8a3-4de4-cdc9-7ccf29652093"
      },
      "source": [
        "# note set NUMBER_SAVE_GRAPH = 5 in file - TRICK\n",
        "!python examples/get_cit_hepth_data.py"
      ],
      "execution_count": null,
      "outputs": [
        {
          "output_type": "stream",
          "text": [
            "['% sym unweighted\\n', '1 2 1 1015887601\\n', '1 3 1 1015887601\\n', '1 4 1 1015887601\\n', '1 5 1 1015887601\\n', '1 6 1 1015887601\\n']\n",
            "[[1, 5, 1, 1015887601], [1, 6, 1, 1015887601], [1, 7, 1, 1015887601], [1, 8, 1, 1015887601]]\n",
            "\n",
            "node_1       int64\n",
            "node_2       int64\n",
            "weight       int64\n",
            "timestamp    int64\n",
            "dtype: object\n",
            "<class 'pandas.core.frame.DataFrame'>\n",
            "RangeIndex: 2673130 entries, 0 to 2673129\n",
            "Data columns (total 4 columns):\n",
            " #   Column     Dtype\n",
            "---  ------     -----\n",
            " 0   node_1     int64\n",
            " 1   node_2     int64\n",
            " 2   weight     int64\n",
            " 3   timestamp  int64\n",
            "dtypes: int64(4)\n",
            "memory usage: 81.6 MB\n",
            "Start time:  1993-09-30 23:00:00\n",
            "[0|\tUpper_time= 1995-02-26 23:00:00\t |Row|= 6514\n",
            "[1|\tUpper_time= 1996-07-24 23:00:00\t |Row|= 26938\n",
            "[2|\tUpper_time= 1997-12-20 23:00:00\t |Row|= 130085\n",
            "[3|\tUpper_time= 1999-05-18 23:00:00\t |Row|= 223589\n",
            "[4|\tUpper_time= 2000-10-13 23:00:00\t |Row|= 290597\n",
            "[5|\tUpper_time= 2002-03-11 23:00:00\t |Row|= 290597\n",
            "Graph 1:\t|V|=619\t|E|=6374\n",
            "Graph 2:\t|V|=1660\t|E|=23654\n",
            "Graph 3:\t|V|=3699\t|E|=99588\n",
            "Graph 4:\t|V|=5654\t|E|=167731\n",
            "Graph 5:\t|V|=6798\t|E|=214693\n",
            "Graph 6:\t|V|=22908\t|E|=2444795\n"
          ],
          "name": "stdout"
        }
      ]
    },
    {
      "cell_type": "code",
      "metadata": {
        "id": "ApKBEOueqJwA",
        "colab_type": "code",
        "colab": {
          "base_uri": "https://localhost:8080/",
          "height": 52
        },
        "outputId": "f4804158-eb01-4388-be57-c663aec3bbc4"
      },
      "source": [
        "!ls data/cit_hepth"
      ],
      "execution_count": null,
      "outputs": [
        {
          "output_type": "stream",
          "text": [
            "graph_00.edgelist  graph_02.edgelist  graph_04.edgelist\n",
            "graph_01.edgelist  graph_03.edgelist\n"
          ],
          "name": "stdout"
        }
      ]
    },
    {
      "cell_type": "markdown",
      "metadata": {
        "id": "a97dCKe2JIkL",
        "colab_type": "text"
      },
      "source": [
        "# 4. Training\n",
        "\n"
      ]
    },
    {
      "cell_type": "code",
      "metadata": {
        "id": "GzPdZl9RK0pM",
        "colab_type": "code",
        "colab": {}
      },
      "source": [
        "# !rm -rf /content/dynamic-graph-embedding/saved_data/models/cit_hepth_stability_ck"
      ],
      "execution_count": 17,
      "outputs": []
    },
    {
      "cell_type": "markdown",
      "metadata": {
        "id": "TptxUYYVSafs",
        "colab_type": "text"
      },
      "source": [
        "### DynGEM"
      ]
    },
    {
      "cell_type": "markdown",
      "metadata": {
        "id": "nlROtkFpqxNO",
        "colab_type": "text"
      },
      "source": [
        "Stab = 0.24"
      ]
    },
    {
      "cell_type": "code",
      "metadata": {
        "id": "nOsX_6B7JBuM",
        "colab_type": "code",
        "colab": {
          "base_uri": "https://localhost:8080/",
          "height": 1000
        },
        "outputId": "436ee9dd-2f4e-4584-f6b4-a8e6f4f08058"
      },
      "source": [
        "!python eval_stability.py"
      ],
      "execution_count": null,
      "outputs": [
        {
          "output_type": "stream",
          "text": [
            "[0]Reading graph_00.edgelist\n",
            "[1]Reading graph_01.edgelist\n",
            "[2]Reading graph_02.edgelist\n",
            "[3]Reading graph_03.edgelist\n",
            "[4]Reading graph_04.edgelist\n",
            "Start convert graph to index ... 2.82s\n",
            "Number graphs:  5\n",
            "Origin graphs:\n",
            "Graph 0: |V|=619\t |E|=6374\tIsolate nodes: 0\n",
            "Graph 1: |V|=1660\t |E|=23654\tIsolate nodes: 0\n",
            "Graph 2: |V|=3699\t |E|=99588\tIsolate nodes: 0\n",
            "Graph 3: |V|=5654\t |E|=167731\tIsolate nodes: 0\n",
            "Graph 4: |V|=6798\t |E|=214693\tIsolate nodes: 0\n",
            "=============== DynGEM ============\n",
            "\n",
            "-----------\n",
            "Start total training...\n",
            "Creating model saving for each graph...\n",
            "\t--- Graph 0 ---\n",
            "Epoch [1/1] \t\tloss:1177481.2500 \t\ttime:0.07s\n",
            "\t--- Graph 1 ---\n",
            "Epoch [1/1] \t\tloss:4550745.0000 \t\ttime:0.19s\n",
            "\t--- Graph 2 ---\n",
            "Epoch [1/1] \t\tloss:19326584.0000 \t\ttime:0.50s\n",
            "\t--- Graph 3 ---\n",
            "Epoch [1/1] \t\tloss:32669462.0000 \t\ttime:1.51s\n",
            "\t--- Graph 4 ---\n",
            "Epoch [1/1] \t\tloss:41825812.0000 \t\ttime:4.02s\n",
            "\n",
            "### ==\tOptimize model training == ###\n",
            "\n",
            "==========\t Model index = 0 ============\n",
            "\n",
            "==========\t Model index = None ============\n",
            "\tLearning rate =  0.001\n",
            "\t--- Graph 0 ---\n",
            "Epoch [1/10000] \t\tloss:1178726.6250 \t\ttime:0.06s\n",
            "Epoch [200/10000] \t\tloss:241498.3438 \t\ttime:0.04s\n",
            "Epoch [400/10000] \t\tloss:232154.0000 \t\ttime:0.04s\n",
            "Epoch [600/10000] \t\tloss:231943.1562 \t\ttime:0.04s\n",
            "Epoch [800/10000] \t\tloss:230278.2188 \t\ttime:0.04s\n",
            "Epoch [1000/10000] \t\tloss:231788.7031 \t\ttime:0.04s\n",
            "Epoch [1200/10000] \t\tloss:233682.0625 \t\ttime:0.04s\n",
            "Epoch [1400/10000] \t\tloss:228359.5156 \t\ttime:0.04s\n",
            "Epoch [1600/10000] \t\tloss:231429.4062 \t\ttime:0.04s\n",
            "Epoch [1800/10000] \t\tloss:231215.0312 \t\ttime:0.04s\n",
            "Epoch [2000/10000] \t\tloss:231577.9375 \t\ttime:0.04s\n",
            "Early stopping!\t Epoch [2081/10000], loss:230912.7500\n",
            "Train model of graph 0 in 82.48s\n",
            "\n",
            "\tLearning rate =  0.0005\n",
            "\t--- Graph 0 ---\n",
            "Epoch [1/10000] \t\tloss:231961.5469 \t\ttime:0.04s\n",
            "Epoch [200/10000] \t\tloss:214098.3125 \t\ttime:0.04s\n",
            "Epoch [400/10000] \t\tloss:208614.7344 \t\ttime:0.04s\n",
            "Epoch [600/10000] \t\tloss:209761.7812 \t\ttime:0.04s\n",
            "Epoch [800/10000] \t\tloss:206759.0781 \t\ttime:0.04s\n",
            "Epoch [1000/10000] \t\tloss:167121.9844 \t\ttime:0.04s\n",
            "Epoch [1200/10000] \t\tloss:84008.4141 \t\ttime:0.04s\n",
            "Epoch [1400/10000] \t\tloss:46495.0195 \t\ttime:0.04s\n",
            "Epoch [1600/10000] \t\tloss:42492.6445 \t\ttime:0.04s\n",
            "Epoch [1800/10000] \t\tloss:35754.6680 \t\ttime:0.04s\n",
            "Epoch [2000/10000] \t\tloss:35151.1289 \t\ttime:0.04s\n",
            "Epoch [2200/10000] \t\tloss:30695.2969 \t\ttime:0.04s\n",
            "Epoch [2400/10000] \t\tloss:30570.1797 \t\ttime:0.04s\n",
            "Epoch [2600/10000] \t\tloss:14739.8164 \t\ttime:0.04s\n",
            "Epoch [2800/10000] \t\tloss:14158.2227 \t\ttime:0.04s\n",
            "Epoch [3000/10000] \t\tloss:15904.5117 \t\ttime:0.04s\n",
            "Epoch [3200/10000] \t\tloss:10077.2812 \t\ttime:0.04s\n",
            "Epoch [3400/10000] \t\tloss:12811.2617 \t\ttime:0.04s\n",
            "Epoch [3600/10000] \t\tloss:4988.6641 \t\ttime:0.04s\n",
            "Epoch [3800/10000] \t\tloss:9725.9258 \t\ttime:0.04s\n",
            "Epoch [4000/10000] \t\tloss:10111.1406 \t\ttime:0.04s\n",
            "Stopping training due to negative loss.\n",
            "Train model of graph 0 in 160.32s\n",
            "\n",
            "\tLearning rate =  0.0001\n",
            "\t--- Graph 0 ---\n",
            "Epoch [1/10000] \t\tloss:3418.2227 \t\ttime:0.04s\n",
            "Stopping training due to negative loss.\n",
            "Train model of graph 0 in 0.28s\n",
            "\n",
            "\tLearning rate =  5e-05\n",
            "\t--- Graph 0 ---\n",
            "Epoch [1/10000] \t\tloss:1661.1953 \t\ttime:0.05s\n",
            "Stopping training due to negative loss.\n",
            "Train model of graph 0 in 0.09s\n",
            "\n",
            "\tLearning rate =  1e-05\n",
            "\t--- Graph 0 ---\n",
            "Epoch [1/10000] \t\tloss:1207.1641 \t\ttime:0.04s\n",
            "Stopping training due to negative loss.\n",
            "Train model of graph 0 in 0.08s\n",
            "\n",
            "\tLearning rate =  5e-06\n",
            "\t--- Graph 0 ---\n",
            "Epoch [1/10000] \t\tloss:1106.6992 \t\ttime:0.04s\n",
            "Stopping training due to negative loss.\n",
            "Train model of graph 0 in 0.08s\n",
            "\n",
            "\tLearning rate =  1e-06\n",
            "\t--- Graph 0 ---\n",
            "Epoch [1/10000] \t\tloss:1070.8906 \t\ttime:0.04s\n",
            "Stopping training due to negative loss.\n",
            "Train model of graph 0 in 0.08s\n",
            "\n",
            "\n",
            "Finish total training: 243.46s\n",
            "--------------\n",
            "\n",
            "\n",
            "==========\t Model index = 1 ============\n",
            "\n",
            "==========\t Model index = None ============\n",
            "\tLearning rate =  0.001\n",
            "\t--- Graph 1 ---\n",
            "Epoch [1/10000] \t\tloss:4057240.2500 \t\ttime:0.12s\n",
            "Epoch [200/10000] \t\tloss:1438873.2500 \t\ttime:0.12s\n",
            "Epoch [400/10000] \t\tloss:1425494.5000 \t\ttime:0.24s\n",
            "Early stopping!\t Epoch [500/10000], loss:1443022.2500\n",
            "Train model of graph 1 in 61.05s\n",
            "\n",
            "\tLearning rate =  0.0005\n",
            "\t--- Graph 1 ---\n",
            "Epoch [1/10000] \t\tloss:1432933.1250 \t\ttime:0.11s\n",
            "Epoch [200/10000] \t\tloss:1403798.2500 \t\ttime:0.12s\n",
            "Epoch [400/10000] \t\tloss:965459.9375 \t\ttime:0.11s\n",
            "Epoch [600/10000] \t\tloss:472139.9688 \t\ttime:0.11s\n",
            "Epoch [800/10000] \t\tloss:441759.5625 \t\ttime:0.11s\n",
            "Epoch [1000/10000] \t\tloss:436315.1250 \t\ttime:0.11s\n",
            "Epoch [1200/10000] \t\tloss:433002.6250 \t\ttime:0.11s\n",
            "Epoch [1400/10000] \t\tloss:437772.9375 \t\ttime:0.11s\n",
            "Epoch [1600/10000] \t\tloss:403164.9375 \t\ttime:0.11s\n",
            "Epoch [1800/10000] \t\tloss:408977.6250 \t\ttime:0.11s\n",
            "Epoch [2000/10000] \t\tloss:385626.5938 \t\ttime:0.13s\n",
            "Epoch [2200/10000] \t\tloss:385077.8750 \t\ttime:0.11s\n",
            "Epoch [2400/10000] \t\tloss:358582.3125 \t\ttime:0.12s\n",
            "Epoch [2600/10000] \t\tloss:365942.8750 \t\ttime:0.12s\n",
            "Epoch [2800/10000] \t\tloss:344782.7500 \t\ttime:0.12s\n",
            "Epoch [3000/10000] \t\tloss:332381.8125 \t\ttime:0.11s\n",
            "Epoch [3200/10000] \t\tloss:317491.3750 \t\ttime:0.12s\n",
            "Epoch [3400/10000] \t\tloss:308587.1250 \t\ttime:0.11s\n",
            "Epoch [3600/10000] \t\tloss:287150.0625 \t\ttime:0.11s\n",
            "Epoch [3800/10000] \t\tloss:264448.3125 \t\ttime:0.11s\n",
            "Epoch [4000/10000] \t\tloss:238302.5781 \t\ttime:0.11s\n",
            "Epoch [4200/10000] \t\tloss:239949.5469 \t\ttime:0.11s\n",
            "Epoch [4400/10000] \t\tloss:239633.3594 \t\ttime:0.11s\n",
            "Early stopping!\t Epoch [4531/10000], loss:242333.8906\n",
            "Train model of graph 1 in 553.68s\n",
            "\n",
            "\tLearning rate =  0.0001\n",
            "\t--- Graph 1 ---\n",
            "Epoch [1/10000] \t\tloss:231707.6406 \t\ttime:0.11s\n",
            "Stopping training due to negative loss.\n",
            "Train model of graph 1 in 8.27s\n",
            "\n",
            "\tLearning rate =  5e-05\n",
            "\t--- Graph 1 ---\n",
            "Epoch [1/10000] \t\tloss:3603.6094 \t\ttime:0.12s\n",
            "Stopping training due to negative loss.\n",
            "Train model of graph 1 in 0.49s\n",
            "\n",
            "\tLearning rate =  1e-05\n",
            "\t--- Graph 1 ---\n",
            "Epoch [1/10000] \t\tloss:1718.2656 \t\ttime:0.11s\n",
            "Stopping training due to negative loss.\n",
            "Train model of graph 1 in 0.48s\n",
            "\n",
            "\tLearning rate =  5e-06\n",
            "\t--- Graph 1 ---\n",
            "Epoch [1/10000] \t\tloss:52.7031 \t\ttime:0.12s\n",
            "Stopping training due to negative loss.\n",
            "Train model of graph 1 in 0.49s\n",
            "\n",
            "\tLearning rate =  1e-06\n",
            "\t--- Graph 1 ---\n",
            "Stopping training due to negative loss.\n",
            "Epoch [1/10000] \t\tloss:-428.3750 \t\ttime:0.11s\n",
            "Train model of graph 1 in 0.12s\n",
            "\n",
            "\n",
            "Finish total training: 625.06s\n",
            "--------------\n",
            "\n",
            "\n",
            "==========\t Model index = 2 ============\n",
            "\n",
            "==========\t Model index = None ============\n",
            "\tLearning rate =  0.001\n",
            "\t--- Graph 2 ---\n",
            "Epoch [1/10000] \t\tloss:17006476.0000 \t\ttime:0.55s\n",
            "Epoch [200/10000] \t\tloss:2310549.2500 \t\ttime:0.48s\n",
            "Epoch [400/10000] \t\tloss:1904671.0000 \t\ttime:0.48s\n",
            "Early stopping!\t Epoch [500/10000], loss:2012077.0000\n",
            "Train model of graph 2 in 192.69s\n",
            "\n",
            "\tLearning rate =  0.0005\n",
            "\t--- Graph 2 ---\n",
            "Epoch [1/10000] \t\tloss:2000977.5000 \t\ttime:0.37s\n",
            "Epoch [200/10000] \t\tloss:1818739.2500 \t\ttime:0.37s\n",
            "Epoch [400/10000] \t\tloss:1683561.5000 \t\ttime:0.36s\n",
            "Early stopping!\t Epoch [500/10000], loss:1713665.5000\n",
            "Train model of graph 2 in 193.58s\n",
            "\n",
            "\tLearning rate =  0.0001\n",
            "\t--- Graph 2 ---\n",
            "Epoch [1/10000] \t\tloss:1684779.8750 \t\ttime:0.36s\n",
            "Epoch [200/10000] \t\tloss:1562223.0000 \t\ttime:0.49s\n",
            "Epoch [400/10000] \t\tloss:1486030.7500 \t\ttime:0.36s\n",
            "Early stopping!\t Epoch [500/10000], loss:1497275.7500\n",
            "Train model of graph 2 in 193.27s\n",
            "\n",
            "\tLearning rate =  5e-05\n",
            "\t--- Graph 2 ---\n",
            "Epoch [1/10000] \t\tloss:1467909.5000 \t\ttime:0.36s\n",
            "Epoch [200/10000] \t\tloss:935441.3125 \t\ttime:0.36s\n",
            "Epoch [400/10000] \t\tloss:866273.1250 \t\ttime:0.40s\n",
            "Epoch [600/10000] \t\tloss:896697.0625 \t\ttime:0.36s\n",
            "Epoch [800/10000] \t\tloss:882590.2500 \t\ttime:0.37s\n",
            "Epoch [1000/10000] \t\tloss:857929.5625 \t\ttime:0.48s\n",
            "Epoch [1200/10000] \t\tloss:833600.5625 \t\ttime:0.37s\n",
            "Epoch [1400/10000] \t\tloss:799556.0625 \t\ttime:0.36s\n",
            "Epoch [1600/10000] \t\tloss:851768.8750 \t\ttime:0.36s\n",
            "Epoch [1800/10000] \t\tloss:876335.1250 \t\ttime:0.36s\n",
            "Epoch [2000/10000] \t\tloss:822257.1250 \t\ttime:0.36s\n",
            "Epoch [2200/10000] \t\tloss:851332.3125 \t\ttime:0.36s\n",
            "Epoch [2400/10000] \t\tloss:806469.1250 \t\ttime:0.36s\n",
            "Epoch [2600/10000] \t\tloss:773602.1250 \t\ttime:0.36s\n",
            "Epoch [2800/10000] \t\tloss:801802.6250 \t\ttime:0.36s\n",
            "Epoch [3000/10000] \t\tloss:805543.6250 \t\ttime:0.36s\n",
            "Epoch [3200/10000] \t\tloss:774113.5625 \t\ttime:0.36s\n",
            "Epoch [3400/10000] \t\tloss:730725.5625 \t\ttime:0.36s\n",
            "Epoch [3600/10000] \t\tloss:751408.8750 \t\ttime:0.49s\n",
            "Epoch [3800/10000] \t\tloss:729218.2500 \t\ttime:0.37s\n",
            "Epoch [4000/10000] \t\tloss:697036.1875 \t\ttime:0.35s\n",
            "Epoch [4200/10000] \t\tloss:723422.9375 \t\ttime:0.36s\n",
            "Epoch [4400/10000] \t\tloss:656901.9375 \t\ttime:0.36s\n",
            "Epoch [4600/10000] \t\tloss:737773.5625 \t\ttime:0.37s\n",
            "Epoch [4800/10000] \t\tloss:660133.8125 \t\ttime:0.37s\n",
            "Epoch [5000/10000] \t\tloss:691733.5625 \t\ttime:0.37s\n",
            "Epoch [5200/10000] \t\tloss:683256.1875 \t\ttime:0.37s\n",
            "Epoch [5400/10000] \t\tloss:607542.8750 \t\ttime:0.36s\n",
            "Epoch [5600/10000] \t\tloss:598093.0625 \t\ttime:0.36s\n",
            "Epoch [5800/10000] \t\tloss:586186.3125 \t\ttime:0.37s\n",
            "Epoch [6000/10000] \t\tloss:579366.9375 \t\ttime:0.37s\n",
            "Epoch [6200/10000] \t\tloss:593671.5625 \t\ttime:0.49s\n",
            "Epoch [6400/10000] \t\tloss:510262.4375 \t\ttime:0.36s\n",
            "Epoch [6600/10000] \t\tloss:469288.7500 \t\ttime:0.35s\n",
            "Epoch [6800/10000] \t\tloss:470712.5625 \t\ttime:0.36s\n",
            "Epoch [7000/10000] \t\tloss:461805.3125 \t\ttime:0.35s\n",
            "Epoch [7200/10000] \t\tloss:469264.8125 \t\ttime:0.36s\n",
            "Epoch [7400/10000] \t\tloss:466803.5625 \t\ttime:0.36s\n",
            "Epoch [7600/10000] \t\tloss:451713.0625 \t\ttime:0.36s\n",
            "Epoch [7800/10000] \t\tloss:434029.5625 \t\ttime:0.36s\n",
            "Epoch [8000/10000] \t\tloss:389398.3750 \t\ttime:0.35s\n",
            "Epoch [8200/10000] \t\tloss:357241.5625 \t\ttime:0.37s\n",
            "Epoch [8400/10000] \t\tloss:306506.0000 \t\ttime:0.38s\n",
            "Epoch [8600/10000] \t\tloss:269552.7500 \t\ttime:0.36s\n",
            "Epoch [8800/10000] \t\tloss:292417.0625 \t\ttime:0.49s\n",
            "Epoch [9000/10000] \t\tloss:264207.0625 \t\ttime:0.35s\n",
            "Epoch [9200/10000] \t\tloss:217527.6250 \t\ttime:0.36s\n",
            "Epoch [9400/10000] \t\tloss:187703.6875 \t\ttime:0.36s\n",
            "Epoch [9600/10000] \t\tloss:130080.3750 \t\ttime:0.37s\n",
            "Epoch [9800/10000] \t\tloss:160200.1250 \t\ttime:0.37s\n",
            "Epoch [10000/10000] \t\tloss:88112.2500 \t\ttime:0.37s\n",
            "Train model of graph 2 in 3880.94s\n",
            "\n",
            "\tLearning rate =  1e-05\n",
            "\t--- Graph 2 ---\n",
            "Epoch [1/10000] \t\tloss:48524.5000 \t\ttime:0.38s\n",
            "Stopping training due to negative loss.\n",
            "Train model of graph 2 in 7.84s\n",
            "\n",
            "\tLearning rate =  5e-06\n",
            "\t--- Graph 2 ---\n",
            "Stopping training due to negative loss.\n",
            "Epoch [1/10000] \t\tloss:-21125.6875 \t\ttime:0.35s\n",
            "Train model of graph 2 in 0.38s\n",
            "\n",
            "\tLearning rate =  1e-06\n",
            "\t--- Graph 2 ---\n",
            "Stopping training due to negative loss.\n",
            "Epoch [1/10000] \t\tloss:-21125.6875 \t\ttime:0.47s\n",
            "Train model of graph 2 in 0.51s\n",
            "\n",
            "\n",
            "Finish total training: 4471.93s\n",
            "--------------\n",
            "\n",
            "\n",
            "==========\t Model index = 3 ============\n",
            "\n",
            "==========\t Model index = None ============\n",
            "\tLearning rate =  0.001\n",
            "\t--- Graph 3 ---\n",
            "Epoch [1/10000] \t\tloss:29002836.0000 \t\ttime:0.95s\n",
            "Epoch [200/10000] \t\tloss:2332739.7500 \t\ttime:0.84s\n",
            "Epoch [400/10000] \t\tloss:2129884.5000 \t\ttime:0.83s\n",
            "Early stopping!\t Epoch [500/10000], loss:2018225.5000\n",
            "Train model of graph 3 in 442.69s\n",
            "\n",
            "\tLearning rate =  0.0005\n",
            "\t--- Graph 3 ---\n",
            "Epoch [1/10000] \t\tloss:2034348.5000 \t\ttime:1.02s\n",
            "Epoch [200/10000] \t\tloss:1738135.8750 \t\ttime:0.85s\n",
            "Epoch [400/10000] \t\tloss:1740213.6250 \t\ttime:0.84s\n",
            "Early stopping!\t Epoch [500/10000], loss:2695391.5000\n",
            "Train model of graph 3 in 450.4s\n",
            "\n",
            "\tLearning rate =  0.0001\n",
            "\t--- Graph 3 ---\n",
            "Epoch [1/10000] \t\tloss:2583471.0000 \t\ttime:1.03s\n",
            "Epoch [200/10000] \t\tloss:1489270.1250 \t\ttime:0.82s\n",
            "Epoch [400/10000] \t\tloss:1471023.5000 \t\ttime:0.82s\n",
            "Early stopping!\t Epoch [500/10000], loss:1491706.6250\n",
            "Train model of graph 3 in 443.16s\n",
            "\n",
            "\tLearning rate =  5e-05\n",
            "\t--- Graph 3 ---\n",
            "Epoch [1/10000] \t\tloss:1474519.7500 \t\ttime:1.01s\n",
            "Epoch [200/10000] \t\tloss:998149.8750 \t\ttime:0.84s\n",
            "Epoch [400/10000] \t\tloss:1022486.6250 \t\ttime:0.83s\n",
            "Epoch [600/10000] \t\tloss:1000353.5000 \t\ttime:0.83s\n",
            "Epoch [800/10000] \t\tloss:946950.3750 \t\ttime:0.82s\n",
            "Epoch [1000/10000] \t\tloss:994259.5000 \t\ttime:0.81s\n",
            "Epoch [1200/10000] \t\tloss:933245.3750 \t\ttime:0.96s\n",
            "Epoch [1400/10000] \t\tloss:963341.3750 \t\ttime:0.82s\n",
            "Epoch [1600/10000] \t\tloss:946958.8750 \t\ttime:0.84s\n",
            "Early stopping!\t Epoch [1669/10000], loss:926438.5000\n",
            "Train model of graph 3 in 1482.81s\n",
            "\n",
            "\tLearning rate =  1e-05\n",
            "\t--- Graph 3 ---\n",
            "Epoch [1/10000] \t\tloss:990789.8750 \t\ttime:0.87s\n",
            "Epoch [200/10000] \t\tloss:717818.1250 \t\ttime:0.84s\n",
            "Epoch [400/10000] \t\tloss:743662.6250 \t\ttime:0.83s\n",
            "Epoch [600/10000] \t\tloss:724917.1250 \t\ttime:0.82s\n",
            "Epoch [800/10000] \t\tloss:682678.0000 \t\ttime:0.83s\n",
            "Epoch [1000/10000] \t\tloss:733284.2500 \t\ttime:0.96s\n",
            "Epoch [1200/10000] \t\tloss:674995.6250 \t\ttime:0.83s\n",
            "Epoch [1400/10000] \t\tloss:711564.2500 \t\ttime:0.85s\n",
            "Epoch [1600/10000] \t\tloss:693863.6250 \t\ttime:0.82s\n",
            "Early stopping!\t Epoch [1669/10000], loss:676453.3750\n",
            "Train model of graph 3 in 1482.87s\n",
            "\n",
            "\tLearning rate =  5e-06\n",
            "\t--- Graph 3 ---\n",
            "Epoch [1/10000] \t\tloss:740393.8750 \t\ttime:0.88s\n",
            "Epoch [200/10000] \t\tloss:190330.8750 \t\ttime:0.81s\n",
            "Epoch [400/10000] \t\tloss:191707.1250 \t\ttime:0.83s\n",
            "Epoch [600/10000] \t\tloss:162876.8750 \t\ttime:0.83s\n",
            "Epoch [800/10000] \t\tloss:118266.1250 \t\ttime:0.83s\n",
            "Epoch [1000/10000] \t\tloss:168580.5000 \t\ttime:0.82s\n",
            "Epoch [1200/10000] \t\tloss:107464.1250 \t\ttime:0.82s\n",
            "Epoch [1400/10000] \t\tloss:144504.8750 \t\ttime:0.83s\n",
            "Epoch [1600/10000] \t\tloss:125756.6250 \t\ttime:0.97s\n",
            "Early stopping!\t Epoch [1669/10000], loss:108337.3750\n",
            "Train model of graph 3 in 1485.83s\n",
            "\n",
            "\tLearning rate =  1e-06\n",
            "\t--- Graph 3 ---\n",
            "Epoch [1/10000] \t\tloss:172495.1250 \t\ttime:0.88s\n",
            "Epoch [200/10000] \t\tloss:52372.7500 \t\ttime:0.80s\n",
            "Stopping training due to negative loss.\n",
            "Train model of graph 3 in 223.76s\n",
            "\n",
            "\n",
            "Finish total training: 6017.27s\n",
            "--------------\n",
            "\n",
            "\n",
            "==========\t Model index = 4 ============\n",
            "\n",
            "==========\t Model index = None ============\n",
            "\tLearning rate =  0.001\n",
            "\t--- Graph 4 ---\n",
            "Epoch [1/10000] \t\tloss:38276188.0000 \t\ttime:1.70s\n",
            "Epoch [200/10000] \t\tloss:30317854.0000 \t\ttime:1.54s\n",
            "Epoch [400/10000] \t\tloss:29586374.0000 \t\ttime:1.42s\n",
            "Early stopping!\t Epoch [500/10000], loss:29496060.0000\n",
            "Train model of graph 4 in 745.84s\n",
            "\n",
            "\tLearning rate =  0.0005\n",
            "\t--- Graph 4 ---\n",
            "Epoch [1/10000] \t\tloss:29531480.0000 \t\ttime:1.51s\n",
            "Epoch [200/10000] \t\tloss:27802494.0000 \t\ttime:1.41s\n",
            "Epoch [400/10000] \t\tloss:27687852.0000 \t\ttime:1.55s\n",
            "Early stopping!\t Epoch [500/10000], loss:27203454.0000\n",
            "Train model of graph 4 in 754.54s\n",
            "\n",
            "\tLearning rate =  0.0001\n",
            "\t--- Graph 4 ---\n",
            "Epoch [1/10000] \t\tloss:27235126.0000 \t\ttime:1.48s\n",
            "Epoch [200/10000] \t\tloss:26052524.0000 \t\ttime:1.42s\n",
            "Epoch [400/10000] \t\tloss:25945496.0000 \t\ttime:1.42s\n",
            "Early stopping!\t Epoch [500/10000], loss:25875454.0000\n",
            "Train model of graph 4 in 755.67s\n",
            "\n",
            "\tLearning rate =  5e-05\n",
            "\t--- Graph 4 ---\n",
            "Epoch [1/10000] \t\tloss:25896228.0000 \t\ttime:1.59s\n",
            "Epoch [200/10000] \t\tloss:16892618.0000 \t\ttime:1.53s\n",
            "Epoch [400/10000] \t\tloss:16763975.0000 \t\ttime:1.42s\n",
            "Early stopping!\t Epoch [500/10000], loss:16698520.0000\n",
            "Train model of graph 4 in 755.21s\n",
            "\n",
            "\tLearning rate =  1e-05\n",
            "\t--- Graph 4 ---\n",
            "Epoch [1/10000] \t\tloss:16735287.0000 \t\ttime:1.49s\n",
            "Epoch [200/10000] \t\tloss:14532584.0000 \t\ttime:1.42s\n",
            "Epoch [400/10000] \t\tloss:14450146.0000 \t\ttime:1.57s\n",
            "Early stopping!\t Epoch [500/10000], loss:14392566.0000\n",
            "Train model of graph 4 in 762.75s\n",
            "\n",
            "\tLearning rate =  5e-06\n",
            "\t--- Graph 4 ---\n",
            "Epoch [1/10000] \t\tloss:14425130.0000 \t\ttime:1.48s\n",
            "Epoch [200/10000] \t\tloss:8799736.0000 \t\ttime:1.45s\n",
            "Epoch [400/10000] \t\tloss:8633648.0000 \t\ttime:1.44s\n",
            "Early stopping!\t Epoch [500/10000], loss:8557583.0000\n",
            "Train model of graph 4 in 769.03s\n",
            "\n",
            "\tLearning rate =  1e-06\n",
            "\t--- Graph 4 ---\n",
            "Epoch [1/10000] \t\tloss:8590939.0000 \t\ttime:1.67s\n",
            "Epoch [200/10000] \t\tloss:8514847.0000 \t\ttime:1.61s\n",
            "Epoch [400/10000] \t\tloss:8437373.0000 \t\ttime:1.46s\n",
            "Early stopping!\t Epoch [500/10000], loss:8360760.5000\n",
            "Train model of graph 4 in 774.02s\n",
            "\n",
            "\n",
            "Finish total training: 5333.48s\n",
            "--------------\n",
            "\n",
            "\n",
            "Finish total training: 16691.21s\n",
            "--------------\n",
            "\n",
            "Check current loss model\n",
            "\t--- Graph 0 ---\n",
            "Epoch [1/1] \t\tloss:45610.8906 \t\ttime:0.10s\n",
            "\t--- Graph 1 ---\n",
            "Epoch [1/1] \t\tloss:172702.5156 \t\ttime:0.22s\n",
            "\t--- Graph 2 ---\n",
            "Epoch [1/1] \t\tloss:901258.4375 \t\ttime:0.54s\n",
            "\t--- Graph 3 ---\n",
            "Epoch [1/1] \t\tloss:1549302.1250 \t\ttime:1.52s\n",
            "\t--- Graph 4 ---\n",
            "Epoch [1/1] \t\tloss:10230076.0000 \t\ttime:4.02s\n",
            "Saving embeddings...\n",
            "[1 -> 0] Relative_stab:  0.24961148324220345\n",
            "[2 -> 1] Relative_stab:  0.19390506929345505\n",
            "[3 -> 2] Relative_stab:  0.2161082071637034\n",
            "[4 -> 3] Relative_stab:  0.23674880279951255\n",
            "Stability constant= 0.24961148324220345\n"
          ],
          "name": "stdout"
        }
      ]
    },
    {
      "cell_type": "code",
      "metadata": {
        "id": "yc89X95xoAIP",
        "colab_type": "code",
        "colab": {
          "base_uri": "https://localhost:8080/",
          "height": 638
        },
        "outputId": "9b8e80f9-51ff-4837-84f8-ae3978a31011"
      },
      "source": [
        "# Load model checking\n",
        "!python eval_stability.py"
      ],
      "execution_count": null,
      "outputs": [
        {
          "output_type": "stream",
          "text": [
            "[0]Reading graph_00.edgelist\n",
            "[1]Reading graph_01.edgelist\n",
            "[2]Reading graph_02.edgelist\n",
            "[3]Reading graph_03.edgelist\n",
            "[4]Reading graph_04.edgelist\n",
            "Start convert graph to index ... 3.67s\n",
            "Number graphs:  5\n",
            "Origin graphs:\n",
            "Graph 0: |V|=619\t |E|=6374\tIsolate nodes: 0\n",
            "Graph 1: |V|=1660\t |E|=23654\tIsolate nodes: 0\n",
            "Graph 2: |V|=3699\t |E|=99588\tIsolate nodes: 0\n",
            "Graph 3: |V|=5654\t |E|=167731\tIsolate nodes: 0\n",
            "Graph 4: |V|=6798\t |E|=214693\tIsolate nodes: 0\n",
            "=============== DynGEM ============\n",
            "\n",
            "-----------\n",
            "Start load model...\n",
            "Loading models... 20.92s\n",
            "Check current loss model\n",
            "\t--- Graph 0 ---\n",
            "Epoch [1/1] \t\tloss:45609.0898 \t\ttime:0.42s\n",
            "\t--- Graph 1 ---\n",
            "Epoch [1/1] \t\tloss:172666.8438 \t\ttime:3.11s\n",
            "\t--- Graph 2 ---\n",
            "Epoch [1/1] \t\tloss:899993.1250 \t\ttime:74.14s\n",
            "\t--- Graph 3 ---\n",
            "Epoch [1/1] \t\tloss:1549025.2500 \t\ttime:418.65s\n",
            "\t--- Graph 4 ---\n",
            "Epoch [1/1] \t\tloss:10230129.0000 \t\ttime:1803.16s\n",
            "Saving embeddings...\n",
            "[1 -> 0] Relative_stab:  0.24961266625557246\n",
            "[2 -> 1] Relative_stab:  0.19391034651220612\n",
            "[3 -> 2] Relative_stab:  0.2161279130673649\n",
            "[4 -> 3] Relative_stab:  0.23673884601100623\n",
            "Stability constant= 0.24961266625557246\n"
          ],
          "name": "stdout"
        }
      ]
    },
    {
      "cell_type": "markdown",
      "metadata": {
        "id": "8_3aZh-FSf9d",
        "colab_type": "text"
      },
      "source": [
        "### Node2Vec\n"
      ]
    },
    {
      "cell_type": "markdown",
      "metadata": {
        "id": "SSGVWEZ9SrC4",
        "colab_type": "text"
      },
      "source": [
        "Set parameter: \n",
        "```\n",
        "is_dyngem = False\n",
        "is_node2vec = True\n",
        "```\n",
        "Stab = 0.89"
      ]
    },
    {
      "cell_type": "code",
      "metadata": {
        "id": "oDkiqmfMShdB",
        "colab_type": "code",
        "colab": {
          "base_uri": "https://localhost:8080/",
          "height": 658
        },
        "outputId": "c81261ad-14ff-4c3f-81d5-dafcce65e3ae"
      },
      "source": [
        "!python train_stability.py"
      ],
      "execution_count": 13,
      "outputs": [
        {
          "output_type": "stream",
          "text": [
            "[0]Reading graph_00.edgelist\n",
            "[1]Reading graph_01.edgelist\n",
            "[2]Reading graph_02.edgelist\n",
            "[3]Reading graph_03.edgelist\n",
            "[4]Reading graph_04.edgelist\n",
            "Start convert graph to index ... 2.68s\n",
            "Number graphs:  5\n",
            "Origin graphs:\n",
            "Graph 0: |V|=619\t |E|=6374\tIsolate nodes: 0\n",
            "Graph 1: |V|=1660\t |E|=23654\tIsolate nodes: 0\n",
            "Graph 2: |V|=3699\t |E|=99588\tIsolate nodes: 0\n",
            "Graph 3: |V|=5654\t |E|=167731\tIsolate nodes: 0\n",
            "Graph 4: |V|=6798\t |E|=214693\tIsolate nodes: 0\n",
            "=============== Node2vec ============\n",
            "Computing transition probabilities: 100% 619/619 [00:01<00:00, 393.09it/s]\n",
            "Generating walks (CPU: 1): 100% 10/10 [00:33<00:00,  3.40s/it]\n",
            "Generating walks (CPU: 2): 100% 10/10 [00:34<00:00,  3.44s/it]\n",
            "Computing transition probabilities: 100% 1660/1660 [00:09<00:00, 172.92it/s]\n",
            "Generating walks (CPU: 1): 100% 10/10 [01:37<00:00,  9.73s/it]\n",
            "Generating walks (CPU: 2): 100% 10/10 [01:36<00:00,  9.68s/it]\n",
            "Computing transition probabilities: 100% 3699/3699 [01:52<00:00, 32.75it/s]  \n",
            "Generating walks (CPU: 1): 100% 10/10 [04:22<00:00, 26.28s/it]\n",
            "Generating walks (CPU: 2): 100% 10/10 [04:22<00:00, 26.28s/it]\n",
            "Computing transition probabilities: 100% 5654/5654 [03:45<00:00, 25.08it/s]  \n",
            "Generating walks (CPU: 1): 100% 10/10 [06:57<00:00, 41.77s/it]\n",
            "Generating walks (CPU: 2): 100% 10/10 [06:55<00:00, 41.56s/it]\n",
            "Computing transition probabilities: 100% 6798/6798 [05:12<00:00, 21.75it/s]  \n",
            "tcmalloc: large alloc 1147494400 bytes == 0x90330000 @  0x7f22be761615 0x591f47 0x4cc229 0x4cc38b 0x50a51c 0x50c1f4 0x507f24 0x509c50 0x50a64d 0x50c1f4 0x507f24 0x509c50 0x50a64d 0x50c1f4 0x509918 0x50a64d 0x50c1f4 0x509918 0x50a64d 0x50c1f4 0x507f24 0x509c50 0x50a64d 0x50c1f4 0x509918 0x50a64d 0x50c1f4 0x509918 0x50a64d 0x50c1f4 0x507f24\n",
            "Generating walks (CPU: 1): 100% 10/10 [08:45<00:00, 52.54s/it]\n",
            "Generating walks (CPU: 2): 100% 10/10 [08:44<00:00, 52.46s/it]\n",
            "[1 -> 0] Relative_stab:  0.9013071633848502\n",
            "[2 -> 1] Relative_stab:  0.6506982912520105\n",
            "[3 -> 2] Relative_stab:  0.705262491871991\n",
            "[4 -> 3] Relative_stab:  0.6612722155853218\n",
            "Stability constant= 0.9013071633848502\n"
          ],
          "name": "stdout"
        }
      ]
    },
    {
      "cell_type": "markdown",
      "metadata": {
        "id": "A74OHdVYnyBc",
        "colab_type": "text"
      },
      "source": [
        "### SDNE\n",
        "Set `is_sdne = True` \n",
        "\n",
        "Stab = 1.08"
      ]
    },
    {
      "cell_type": "code",
      "metadata": {
        "id": "OFFIJ_Vkn1Ca",
        "colab_type": "code",
        "colab": {
          "base_uri": "https://localhost:8080/",
          "height": 443
        },
        "outputId": "fb98c71f-23a3-49ae-eaa7-291d6fcc72b0"
      },
      "source": [
        "!python train_stability.py"
      ],
      "execution_count": 14,
      "outputs": [
        {
          "output_type": "stream",
          "text": [
            "[0]Reading graph_00.edgelist\n",
            "[1]Reading graph_01.edgelist\n",
            "[2]Reading graph_02.edgelist\n",
            "[3]Reading graph_03.edgelist\n",
            "[4]Reading graph_04.edgelist\n",
            "Start convert graph to index ... 2.73s\n",
            "Number graphs:  5\n",
            "Origin graphs:\n",
            "Graph 0: |V|=619\t |E|=6374\tIsolate nodes: 0\n",
            "Graph 1: |V|=1660\t |E|=23654\tIsolate nodes: 0\n",
            "Graph 2: |V|=3699\t |E|=99588\tIsolate nodes: 0\n",
            "Graph 3: |V|=5654\t |E|=167731\tIsolate nodes: 0\n",
            "Graph 4: |V|=6798\t |E|=214693\tIsolate nodes: 0\n",
            "=============== SDNE ============\n",
            "[0] SDNE load model...\n",
            "[1] SDNE load model...\n",
            "[2] SDNE load model...\n",
            "[3] SDNE load model...\n",
            "[4] SDNE load model...\n",
            "[1 -> 0] Relative_stab:  0.9180126374291253\n",
            "[2 -> 1] Relative_stab:  0.7904778206363408\n",
            "[3 -> 2] Relative_stab:  1.0823912472867219\n",
            "[4 -> 3] Relative_stab:  0.9960327420637708\n",
            "Stability constant= 1.0823912472867219\n"
          ],
          "name": "stdout"
        }
      ]
    },
    {
      "cell_type": "markdown",
      "metadata": {
        "id": "jol9VpbgxIAx",
        "colab_type": "text"
      },
      "source": [
        "# Evaluation"
      ]
    },
    {
      "cell_type": "code",
      "metadata": {
        "id": "UK2YcPBYxJBI",
        "colab_type": "code",
        "colab": {
          "base_uri": "https://localhost:8080/",
          "height": 763
        },
        "outputId": "e43e463c-7e98-40a0-b33d-fa02a8b4e39e"
      },
      "source": [
        "!python eval_stability.py"
      ],
      "execution_count": 15,
      "outputs": [
        {
          "output_type": "stream",
          "text": [
            "[0]Reading graph_00.edgelist\n",
            "[1]Reading graph_01.edgelist\n",
            "[2]Reading graph_02.edgelist\n",
            "[3]Reading graph_03.edgelist\n",
            "[4]Reading graph_04.edgelist\n",
            "Start convert graph to index ... 2.74s\n",
            "Origin graphs:\n",
            "Graph 0: |V|=619\t |E|=6374\tIsolate nodes: 0\n",
            "Graph 1: |V|=1660\t |E|=23654\tIsolate nodes: 0\n",
            "Graph 2: |V|=3699\t |E|=99588\tIsolate nodes: 0\n",
            "Graph 3: |V|=5654\t |E|=167731\tIsolate nodes: 0\n",
            "Graph 4: |V|=6798\t |E|=214693\tIsolate nodes: 0\n",
            "=============== DynGEM ============\n",
            "Folder_path:  ./saved_data/embeddings/cit_hepth_stability\n",
            "emb:  ./saved_data/embeddings/cit_hepth_stability/_0\n",
            "emb:  ./saved_data/embeddings/cit_hepth_stability/_1\n",
            "emb:  ./saved_data/embeddings/cit_hepth_stability/_2\n",
            "emb:  ./saved_data/embeddings/cit_hepth_stability/_3\n",
            "emb:  ./saved_data/embeddings/cit_hepth_stability/_4\n",
            "[1 -> 0] Relative_stab:  0.24961266625557246\n",
            "[2 -> 1] Relative_stab:  0.19391034651220612\n",
            "[3 -> 2] Relative_stab:  0.2161279130673649\n",
            "[4 -> 3] Relative_stab:  0.23673884601100623\n",
            "Stability constant= 0.24961266625557246\n",
            "=============== Node2vec ============\n",
            "[1 -> 0] Relative_stab:  0.9013071633848502\n",
            "[2 -> 1] Relative_stab:  0.6506982912520105\n",
            "[3 -> 2] Relative_stab:  0.705262491871991\n",
            "[4 -> 3] Relative_stab:  0.6612722155853218\n",
            "Stability constant= 0.9013071633848502\n",
            "=============== SDNE ============\n",
            "Folder_path:  ./saved_data/sdne_emb/cit_hepth_stability\n",
            "emb:  ./saved_data/sdne_emb/cit_hepth_stability/_0\n",
            "emb:  ./saved_data/sdne_emb/cit_hepth_stability/_1\n",
            "emb:  ./saved_data/sdne_emb/cit_hepth_stability/_2\n",
            "emb:  ./saved_data/sdne_emb/cit_hepth_stability/_3\n",
            "emb:  ./saved_data/sdne_emb/cit_hepth_stability/_4\n",
            "[1 -> 0] Relative_stab:  0.9180126374291253\n",
            "[2 -> 1] Relative_stab:  0.7904778206363408\n",
            "[3 -> 2] Relative_stab:  1.0823912472867219\n",
            "[4 -> 3] Relative_stab:  0.9960327420637708\n",
            "Stability constant= 1.0823912472867219\n"
          ],
          "name": "stdout"
        }
      ]
    }
  ]
}