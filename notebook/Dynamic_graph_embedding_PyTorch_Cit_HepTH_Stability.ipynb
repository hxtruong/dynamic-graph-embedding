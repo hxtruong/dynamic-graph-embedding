{
  "nbformat": 4,
  "nbformat_minor": 0,
  "metadata": {
    "colab": {
      "name": "Dynamic_graph_embedding_PyTorch-Cit-HepTH_Stability.ipynb",
      "provenance": [],
      "collapsed_sections": [
        "TptxUYYVSafs"
      ],
      "toc_visible": true
    },
    "kernelspec": {
      "name": "python3",
      "display_name": "Python 3"
    }
  },
  "cells": [
    {
      "cell_type": "markdown",
      "metadata": {
        "id": "bmPcfxjMP9mN",
        "colab_type": "text"
      },
      "source": [
        "# 0.Transffering drive data\n",
        "Run this code if resuming training (Not recommend- should train from scratch)"
      ]
    },
    {
      "cell_type": "code",
      "metadata": {
        "id": "otCVPODxQN5J",
        "colab_type": "code",
        "colab": {
          "base_uri": "https://localhost:8080/",
          "height": 34
        },
        "outputId": "ec229770-2848-4624-a27f-22fd34c73e1c"
      },
      "source": [
        "from google.colab import auth\n",
        "auth.authenticate_user()\n",
        "from google.colab import drive\n",
        "drive.mount('/content/gdrive', force_remount=True)"
      ],
      "execution_count": null,
      "outputs": [
        {
          "output_type": "stream",
          "text": [
            "Mounted at /content/gdrive\n"
          ],
          "name": "stdout"
        }
      ]
    },
    {
      "cell_type": "code",
      "metadata": {
        "id": "lnvAUXlFQOsr",
        "colab_type": "code",
        "colab": {
          "base_uri": "https://localhost:8080/",
          "height": 34
        },
        "outputId": "215face7-25f3-48e5-8224-1d57661316cf"
      },
      "source": [
        "!pwd"
      ],
      "execution_count": null,
      "outputs": [
        {
          "output_type": "stream",
          "text": [
            "/content/dynamic-graph-embedding\n"
          ],
          "name": "stdout"
        }
      ]
    },
    {
      "cell_type": "markdown",
      "metadata": {
        "id": "uK_4D9jfFJep",
        "colab_type": "text"
      },
      "source": [
        "## Processed data"
      ]
    },
    {
      "cell_type": "code",
      "metadata": {
        "id": "vAu2y--OE-tX",
        "colab_type": "code",
        "colab": {
          "base_uri": "https://localhost:8080/",
          "height": 212
        },
        "outputId": "d9304814-e860-4ff6-aa17-9ca524ccad4a"
      },
      "source": [
        "# Save processed data\n",
        "!zip -r ./processed_data_cit_hepth.zip ./processed_data/cit_hepth/\n",
        "!cp ./processed_data_cit_hepth.zip /content/gdrive/Shared\\ drives/UNLIMITED\\ DRIVE/"
      ],
      "execution_count": null,
      "outputs": [
        {
          "output_type": "stream",
          "text": [
            "updating: processed_data/cit_hepth/ (stored 0%)\n",
            "updating: processed_data/cit_hepth/graph_0.json (deflated 73%)\n",
            "updating: processed_data/cit_hepth/graph_1.json (deflated 74%)\n",
            "updating: processed_data/cit_hepth/graph_3.json (deflated 75%)\n",
            "updating: processed_data/cit_hepth/graph3.edgelist (deflated 72%)\n",
            "updating: processed_data/cit_hepth/graph_4.json (deflated 75%)\n",
            "updating: processed_data/cit_hepth/graph_2.json (deflated 75%)\n",
            "updating: processed_data/cit_hepth/graph2.edgelist (deflated 72%)\n",
            "updating: processed_data/cit_hepth/graph1.edgelist (deflated 69%)\n",
            "updating: processed_data/cit_hepth/graph4.edgelist (deflated 72%)\n",
            "updating: processed_data/cit_hepth/graph0.edgelist (deflated 69%)\n"
          ],
          "name": "stdout"
        }
      ]
    },
    {
      "cell_type": "code",
      "metadata": {
        "id": "MQrRsmBDRkuY",
        "colab_type": "code",
        "colab": {
          "base_uri": "https://localhost:8080/",
          "height": 230
        },
        "outputId": "97107571-2331-4aa0-ff10-cc9181e92e36"
      },
      "source": [
        "# Load processed data\n",
        "!cp /content/gdrive/Shared\\ drives/UNLIMITED\\ DRIVE/processed_data_cit_hepth.zip ./\n",
        "!unzip processed_data_cit_hepth.zip -d ./"
      ],
      "execution_count": null,
      "outputs": [
        {
          "output_type": "stream",
          "text": [
            "Archive:  processed_data_cit_hepth.zip\n",
            "   creating: ./processed_data/cit_hepth/\n",
            "  inflating: ./processed_data/cit_hepth/graph1.edgelist  \n",
            "  inflating: ./processed_data/cit_hepth/graph_3.json  \n",
            "  inflating: ./processed_data/cit_hepth/graph3.edgelist  \n",
            "  inflating: ./processed_data/cit_hepth/graph4.edgelist  \n",
            "  inflating: ./processed_data/cit_hepth/graph2.edgelist  \n",
            "  inflating: ./processed_data/cit_hepth/graph_2.json  \n",
            "  inflating: ./processed_data/cit_hepth/graph_4.json  \n",
            "  inflating: ./processed_data/cit_hepth/graph_1.json  \n",
            "  inflating: ./processed_data/cit_hepth/graph_0.json  \n",
            "  inflating: ./processed_data/cit_hepth/graph0.edgelist  \n"
          ],
          "name": "stdout"
        }
      ]
    },
    {
      "cell_type": "markdown",
      "metadata": {
        "id": "LkD-EDh4FNvR",
        "colab_type": "text"
      },
      "source": [
        "## Weight"
      ]
    },
    {
      "cell_type": "code",
      "metadata": {
        "id": "_zYNxUyuZnG6",
        "colab_type": "code",
        "colab": {
          "base_uri": "https://localhost:8080/",
          "height": 230
        },
        "outputId": "2a8e08e6-029e-408b-c05d-88612cdf2a23"
      },
      "source": [
        "# Save weight\n",
        "!zip -r ./cit_hepth_weights_stability.zip ./models/cit_hepth_stability/\n",
        "!cp ./cit_hepth_weights_stability.zip /content/gdrive/Shared\\ drives/UNLIMITED\\ DRIVE/"
      ],
      "execution_count": null,
      "outputs": [
        {
          "output_type": "stream",
          "text": [
            "updating: models/cit_hepth_stability/ (stored 0%)\n",
            "updating: models/cit_hepth_stability/graph_0.json (deflated 26%)\n",
            "updating: models/cit_hepth_stability/graph_2.pt (deflated 9%)\n",
            "updating: models/cit_hepth_stability/.ipynb_checkpoints/ (stored 0%)\n",
            "updating: models/cit_hepth_stability/graph_1.json (deflated 28%)\n",
            "updating: models/cit_hepth_stability/graph_3.json (deflated 30%)\n",
            "updating: models/cit_hepth_stability/graph_3.pt (deflated 10%)\n",
            "updating: models/cit_hepth_stability/graph_1.pt (deflated 10%)\n",
            "updating: models/cit_hepth_stability/graph_2.json (deflated 27%)\n",
            "updating: models/cit_hepth_stability/graph_0.pt (deflated 8%)\n",
            "updating: models/cit_hepth_stability/graph_4.pt (deflated 8%)\n",
            "updating: models/cit_hepth_stability/graph_4.json (deflated 32%)\n"
          ],
          "name": "stdout"
        }
      ]
    },
    {
      "cell_type": "code",
      "metadata": {
        "id": "Gck4WHu1R_q5",
        "colab_type": "code",
        "colab": {
          "base_uri": "https://localhost:8080/",
          "height": 230
        },
        "outputId": "4578685b-fea3-4678-ec0c-e7b7fedd6e81"
      },
      "source": [
        "# Load weight\n",
        "!cp /content/gdrive/Shared\\ drives/UNLIMITED\\ DRIVE/cit_hepth_weights_stability.zip ./\n",
        "!unzip cit_hepth_weights_stability.zip -d ./"
      ],
      "execution_count": null,
      "outputs": [
        {
          "output_type": "stream",
          "text": [
            "Archive:  cit_hepth_weights_stability.zip\n",
            "   creating: ./models/cit_hepth_link_pred/\n",
            "  inflating: ./models/cit_hepth_link_pred/graph_0.json  \n",
            "  inflating: ./models/cit_hepth_link_pred/graph_2.pt  \n",
            "  inflating: ./models/cit_hepth_link_pred/graph_1.json  \n",
            "  inflating: ./models/cit_hepth_link_pred/graph_3.json  \n",
            "  inflating: ./models/cit_hepth_link_pred/graph_3.pt  \n",
            "  inflating: ./models/cit_hepth_link_pred/graph_1.pt  \n",
            "  inflating: ./models/cit_hepth_link_pred/graph_4.pt  \n",
            "  inflating: ./models/cit_hepth_link_pred/graph_4.json  \n",
            "  inflating: ./models/cit_hepth_link_pred/graph_2.json  \n",
            "  inflating: ./models/cit_hepth_link_pred/graph_0.pt  \n"
          ],
          "name": "stdout"
        }
      ]
    },
    {
      "cell_type": "markdown",
      "metadata": {
        "id": "ztc8PDsvFSAB",
        "colab_type": "text"
      },
      "source": [
        "## Data"
      ]
    },
    {
      "cell_type": "code",
      "metadata": {
        "id": "bZVXNMVeTb4p",
        "colab_type": "code",
        "colab": {
          "base_uri": "https://localhost:8080/",
          "height": 123
        },
        "outputId": "bca932f8-37a0-41ae-848e-7aa1c2657f60"
      },
      "source": [
        "# Save data\n",
        "!zip -r ./cit_hepth.zip ./data/cit_hepth/\n",
        "!cp ./cit_hepth.zip /content/gdrive/Shared\\ drives/UNLIMITED\\ DRIVE/"
      ],
      "execution_count": null,
      "outputs": [
        {
          "output_type": "stream",
          "text": [
            "  adding: data/cit_hepth/ (stored 0%)\n",
            "  adding: data/cit_hepth/graph_00.edgelist (deflated 74%)\n",
            "  adding: data/cit_hepth/graph_02.edgelist (deflated 72%)\n",
            "  adding: data/cit_hepth/graph_03.edgelist (deflated 72%)\n",
            "  adding: data/cit_hepth/graph_01.edgelist (deflated 71%)\n",
            "  adding: data/cit_hepth/graph_04.edgelist (deflated 72%)\n"
          ],
          "name": "stdout"
        }
      ]
    },
    {
      "cell_type": "code",
      "metadata": {
        "id": "XLEhp8K4UgI6",
        "colab_type": "code",
        "colab": {
          "base_uri": "https://localhost:8080/",
          "height": 141
        },
        "outputId": "6ebc5d5a-01d5-436c-af20-1011c3892ef4"
      },
      "source": [
        "# Load data\n",
        "!cp /content/gdrive/Shared\\ drives/UNLIMITED\\ DRIVE/cit_hepth_data.zip ./\n",
        "!unzip cit_hepth_data.zip -d ./"
      ],
      "execution_count": null,
      "outputs": [
        {
          "output_type": "stream",
          "text": [
            "Archive:  cit_hepth_data.zip\n",
            "   creating: ./data/cit_hepth/\n",
            "  inflating: ./data/cit_hepth/graph_04.edgelist  \n",
            "  inflating: ./data/cit_hepth/graph_03.edgelist  \n",
            "  inflating: ./data/cit_hepth/graph_02.edgelist  \n",
            "  inflating: ./data/cit_hepth/graph_01.edgelist  \n",
            "  inflating: ./data/cit_hepth/graph_00.edgelist  \n"
          ],
          "name": "stdout"
        }
      ]
    },
    {
      "cell_type": "markdown",
      "metadata": {
        "id": "_yJLltZjktXC",
        "colab_type": "text"
      },
      "source": [
        "# Library"
      ]
    },
    {
      "cell_type": "code",
      "metadata": {
        "id": "sBPKfDebdFr_",
        "colab_type": "code",
        "colab": {}
      },
      "source": [
        "import networkx as nx\n",
        "import warnings\n",
        "import torch\n",
        "import os\n",
        "import matplotlib.pyplot as plt \n",
        "\n",
        "warnings.filterwarnings(\"ignore\")\n",
        "%matplotlib inline"
      ],
      "execution_count": 1,
      "outputs": []
    },
    {
      "cell_type": "code",
      "metadata": {
        "id": "OUMUQlYvfvcd",
        "colab_type": "code",
        "colab": {
          "base_uri": "https://localhost:8080/",
          "height": 34
        },
        "outputId": "3ffe0ea4-885b-4d83-d999-60a58dee7d78"
      },
      "source": [
        "device = torch.device(\"cuda\" if torch.cuda.is_available() else \"cpu\")\n",
        "device"
      ],
      "execution_count": 2,
      "outputs": [
        {
          "output_type": "execute_result",
          "data": {
            "text/plain": [
              "device(type='cpu')"
            ]
          },
          "metadata": {
            "tags": []
          },
          "execution_count": 2
        }
      ]
    },
    {
      "cell_type": "markdown",
      "metadata": {
        "id": "PDUsqrnckwNp",
        "colab_type": "text"
      },
      "source": [
        "# Download repo\n",
        "Run this part firstly"
      ]
    },
    {
      "cell_type": "code",
      "metadata": {
        "id": "vRtM6gr_mtgf",
        "colab_type": "code",
        "colab": {
          "base_uri": "https://localhost:8080/",
          "height": 141
        },
        "outputId": "973ebc83-5f8c-49ca-d9dc-c46b67094343"
      },
      "source": [
        "!git clone https://github.com/hxtruong/dynamic-graph-embedding"
      ],
      "execution_count": 3,
      "outputs": [
        {
          "output_type": "stream",
          "text": [
            "Cloning into 'dynamic-graph-embedding'...\n",
            "remote: Enumerating objects: 502, done.\u001b[K\n",
            "remote: Counting objects: 100% (502/502), done.\u001b[K\n",
            "remote: Compressing objects: 100% (333/333), done.\u001b[K\n",
            "remote: Total 502 (delta 302), reused 351 (delta 151), pack-reused 0\u001b[K\n",
            "Receiving objects: 100% (502/502), 2.26 MiB | 10.20 MiB/s, done.\n",
            "Resolving deltas: 100% (302/302), done.\n"
          ],
          "name": "stdout"
        }
      ]
    },
    {
      "cell_type": "code",
      "metadata": {
        "id": "G_fVSjKGnv0c",
        "colab_type": "code",
        "colab": {
          "base_uri": "https://localhost:8080/",
          "height": 34
        },
        "outputId": "8750c664-2873-4aac-c9b6-b8f44964c402"
      },
      "source": [
        "%cd ./dynamic-graph-embedding/"
      ],
      "execution_count": 4,
      "outputs": [
        {
          "output_type": "stream",
          "text": [
            "/content/dynamic-graph-embedding\n"
          ],
          "name": "stdout"
        }
      ]
    },
    {
      "cell_type": "code",
      "metadata": {
        "id": "4HmueSO2yqP_",
        "colab_type": "code",
        "colab": {}
      },
      "source": [
        "!pip install -r requirements.txt"
      ],
      "execution_count": null,
      "outputs": []
    },
    {
      "cell_type": "code",
      "metadata": {
        "id": "N-7-CNwD1ecd",
        "colab_type": "code",
        "colab": {
          "base_uri": "https://localhost:8080/",
          "height": 461
        },
        "outputId": "dd14d2ea-aa17-4427-d5d8-fe49f860de4b"
      },
      "source": [
        "!pip install node2vec"
      ],
      "execution_count": 5,
      "outputs": [
        {
          "output_type": "stream",
          "text": [
            "Collecting node2vec\n",
            "  Downloading https://files.pythonhosted.org/packages/c0/da/7f0c49433ef91033e21d523e82be1570074a5d6ab8c74f8771774e9d2fd1/node2vec-0.3.2-py3-none-any.whl\n",
            "Requirement already satisfied: joblib>=0.13.2 in /usr/local/lib/python3.6/dist-packages (from node2vec) (0.16.0)\n",
            "Requirement already satisfied: gensim in /usr/local/lib/python3.6/dist-packages (from node2vec) (3.6.0)\n",
            "Requirement already satisfied: numpy in /usr/local/lib/python3.6/dist-packages (from node2vec) (1.18.5)\n",
            "Requirement already satisfied: tqdm in /usr/local/lib/python3.6/dist-packages (from node2vec) (4.41.1)\n",
            "Requirement already satisfied: networkx in /usr/local/lib/python3.6/dist-packages (from node2vec) (2.4)\n",
            "Requirement already satisfied: scipy>=0.18.1 in /usr/local/lib/python3.6/dist-packages (from gensim->node2vec) (1.4.1)\n",
            "Requirement already satisfied: smart-open>=1.2.1 in /usr/local/lib/python3.6/dist-packages (from gensim->node2vec) (2.1.0)\n",
            "Requirement already satisfied: six>=1.5.0 in /usr/local/lib/python3.6/dist-packages (from gensim->node2vec) (1.15.0)\n",
            "Requirement already satisfied: decorator>=4.3.0 in /usr/local/lib/python3.6/dist-packages (from networkx->node2vec) (4.4.2)\n",
            "Requirement already satisfied: boto in /usr/local/lib/python3.6/dist-packages (from smart-open>=1.2.1->gensim->node2vec) (2.49.0)\n",
            "Requirement already satisfied: requests in /usr/local/lib/python3.6/dist-packages (from smart-open>=1.2.1->gensim->node2vec) (2.23.0)\n",
            "Requirement already satisfied: boto3 in /usr/local/lib/python3.6/dist-packages (from smart-open>=1.2.1->gensim->node2vec) (1.14.33)\n",
            "Requirement already satisfied: idna<3,>=2.5 in /usr/local/lib/python3.6/dist-packages (from requests->smart-open>=1.2.1->gensim->node2vec) (2.10)\n",
            "Requirement already satisfied: urllib3!=1.25.0,!=1.25.1,<1.26,>=1.21.1 in /usr/local/lib/python3.6/dist-packages (from requests->smart-open>=1.2.1->gensim->node2vec) (1.24.3)\n",
            "Requirement already satisfied: chardet<4,>=3.0.2 in /usr/local/lib/python3.6/dist-packages (from requests->smart-open>=1.2.1->gensim->node2vec) (3.0.4)\n",
            "Requirement already satisfied: certifi>=2017.4.17 in /usr/local/lib/python3.6/dist-packages (from requests->smart-open>=1.2.1->gensim->node2vec) (2020.6.20)\n",
            "Requirement already satisfied: jmespath<1.0.0,>=0.7.1 in /usr/local/lib/python3.6/dist-packages (from boto3->smart-open>=1.2.1->gensim->node2vec) (0.10.0)\n",
            "Requirement already satisfied: botocore<1.18.0,>=1.17.33 in /usr/local/lib/python3.6/dist-packages (from boto3->smart-open>=1.2.1->gensim->node2vec) (1.17.33)\n",
            "Requirement already satisfied: s3transfer<0.4.0,>=0.3.0 in /usr/local/lib/python3.6/dist-packages (from boto3->smart-open>=1.2.1->gensim->node2vec) (0.3.3)\n",
            "Requirement already satisfied: python-dateutil<3.0.0,>=2.1 in /usr/local/lib/python3.6/dist-packages (from botocore<1.18.0,>=1.17.33->boto3->smart-open>=1.2.1->gensim->node2vec) (2.8.1)\n",
            "Requirement already satisfied: docutils<0.16,>=0.10 in /usr/local/lib/python3.6/dist-packages (from botocore<1.18.0,>=1.17.33->boto3->smart-open>=1.2.1->gensim->node2vec) (0.15.2)\n",
            "Installing collected packages: node2vec\n",
            "Successfully installed node2vec-0.3.2\n"
          ],
          "name": "stdout"
        }
      ]
    },
    {
      "cell_type": "markdown",
      "metadata": {
        "id": "NlDRdr08IZG-",
        "colab_type": "text"
      },
      "source": [
        "# Download dataset\n",
        "For not running Drive part (#0)"
      ]
    },
    {
      "cell_type": "code",
      "metadata": {
        "id": "3RypdU8HUVG3",
        "colab_type": "code",
        "colab": {
          "base_uri": "https://localhost:8080/",
          "height": 34
        },
        "outputId": "9cfe88a6-bc36-407f-b5d7-3d07be076d38"
      },
      "source": [
        "!pwd"
      ],
      "execution_count": 6,
      "outputs": [
        {
          "output_type": "stream",
          "text": [
            "/content/dynamic-graph-embedding\n"
          ],
          "name": "stdout"
        }
      ]
    },
    {
      "cell_type": "code",
      "metadata": {
        "id": "cWDP0VsHK5DG",
        "colab_type": "code",
        "colab": {}
      },
      "source": [
        "# !mkdir data\n",
        "!mkdir data/cit_hepth"
      ],
      "execution_count": 7,
      "outputs": []
    },
    {
      "cell_type": "code",
      "metadata": {
        "id": "x4RpmWUwQTYb",
        "colab_type": "code",
        "colab": {}
      },
      "source": [
        "# !rm -rf data/cit_hepth"
      ],
      "execution_count": 8,
      "outputs": []
    },
    {
      "cell_type": "code",
      "metadata": {
        "id": "QNBbBCaJIcY2",
        "colab_type": "code",
        "colab": {
          "base_uri": "https://localhost:8080/",
          "height": 585
        },
        "outputId": "8c6d4a28-914d-4f42-97cf-d9cc7b5eafa8"
      },
      "source": [
        "# note set NUMBER_SAVE_GRAPH = 5 in file - TRICK\n",
        "!python examples/get_cit_hepth_data.py"
      ],
      "execution_count": 9,
      "outputs": [
        {
          "output_type": "stream",
          "text": [
            "['% sym unweighted\\n', '1 2 1 1015887601\\n', '1 3 1 1015887601\\n', '1 4 1 1015887601\\n', '1 5 1 1015887601\\n', '1 6 1 1015887601\\n']\n",
            "[[1, 5, 1, 1015887601], [1, 6, 1, 1015887601], [1, 7, 1, 1015887601], [1, 8, 1, 1015887601]]\n",
            "\n",
            "node_1       int64\n",
            "node_2       int64\n",
            "weight       int64\n",
            "timestamp    int64\n",
            "dtype: object\n",
            "<class 'pandas.core.frame.DataFrame'>\n",
            "RangeIndex: 2673130 entries, 0 to 2673129\n",
            "Data columns (total 4 columns):\n",
            " #   Column     Dtype\n",
            "---  ------     -----\n",
            " 0   node_1     int64\n",
            " 1   node_2     int64\n",
            " 2   weight     int64\n",
            " 3   timestamp  int64\n",
            "dtypes: int64(4)\n",
            "memory usage: 81.6 MB\n",
            "Start time:  1993-09-30 23:00:00\n",
            "[0|\tUpper_time= 1995-02-26 23:00:00\t |Row|= 6514\n",
            "[1|\tUpper_time= 1996-07-24 23:00:00\t |Row|= 26938\n",
            "[2|\tUpper_time= 1997-12-20 23:00:00\t |Row|= 130085\n",
            "[3|\tUpper_time= 1999-05-18 23:00:00\t |Row|= 223589\n",
            "[4|\tUpper_time= 2000-10-13 23:00:00\t |Row|= 290597\n",
            "[5|\tUpper_time= 2002-03-11 23:00:00\t |Row|= 290597\n",
            "Graph 1:\t|V|=619\t|E|=6374\n",
            "Graph 2:\t|V|=1660\t|E|=23654\n",
            "Graph 3:\t|V|=3699\t|E|=99588\n",
            "Graph 4:\t|V|=5654\t|E|=167731\n",
            "Graph 5:\t|V|=6798\t|E|=214693\n",
            "Graph 6:\t|V|=22908\t|E|=2444795\n"
          ],
          "name": "stdout"
        }
      ]
    },
    {
      "cell_type": "code",
      "metadata": {
        "id": "ApKBEOueqJwA",
        "colab_type": "code",
        "colab": {
          "base_uri": "https://localhost:8080/",
          "height": 52
        },
        "outputId": "8a7b16f9-4cf6-4c4c-f7cb-be5595a10273"
      },
      "source": [
        "!ls data/cit_hepth"
      ],
      "execution_count": 10,
      "outputs": [
        {
          "output_type": "stream",
          "text": [
            "graph_00.edgelist  graph_02.edgelist  graph_04.edgelist\n",
            "graph_01.edgelist  graph_03.edgelist  graph_05.edgelist\n"
          ],
          "name": "stdout"
        }
      ]
    },
    {
      "cell_type": "markdown",
      "metadata": {
        "id": "a97dCKe2JIkL",
        "colab_type": "text"
      },
      "source": [
        "# Training\n",
        "\n"
      ]
    },
    {
      "cell_type": "code",
      "metadata": {
        "id": "op01kfukLS5V",
        "colab_type": "code",
        "colab": {}
      },
      "source": [
        "!cp examples/cit_hepth_statbility.py ./"
      ],
      "execution_count": 11,
      "outputs": []
    },
    {
      "cell_type": "markdown",
      "metadata": {
        "id": "TptxUYYVSafs",
        "colab_type": "text"
      },
      "source": [
        "## DynGEM"
      ]
    },
    {
      "cell_type": "code",
      "metadata": {
        "id": "GzPdZl9RK0pM",
        "colab_type": "code",
        "colab": {}
      },
      "source": [
        "# !rm -rf ./models/cit_hepth"
      ],
      "execution_count": null,
      "outputs": []
    },
    {
      "cell_type": "code",
      "metadata": {
        "id": "nOsX_6B7JBuM",
        "colab_type": "code",
        "colab": {
          "base_uri": "https://localhost:8080/",
          "height": 727
        },
        "outputId": "aea188eb-b9d3-4c50-c3d0-d5d8df11a737"
      },
      "source": [
        "!python cit_hepth_statbility.py"
      ],
      "execution_count": null,
      "outputs": [
        {
          "output_type": "stream",
          "text": [
            "[0]Reading graph_00.edgelist\n",
            "[1]Reading graph_01.edgelist\n",
            "[2]Reading graph_02.edgelist\n",
            "[3]Reading graph_03.edgelist\n",
            "[4]Reading graph_04.edgelist\n",
            "Start convert graph to index ... 2.8s\n",
            "Number graphs:  5\n",
            "Origin graphs:\n",
            "Graph 0: |V|=619\t |E|=6374\tIsolate nodes: 0\n",
            "Graph 1: |V|=1660\t |E|=23654\tIsolate nodes: 0\n",
            "Graph 2: |V|=3699\t |E|=99588\tIsolate nodes: 0\n",
            "Graph 3: |V|=5654\t |E|=167731\tIsolate nodes: 0\n",
            "Graph 4: |V|=6798\t |E|=214693\tIsolate nodes: 0\n",
            "=============== DynGEM ============\n",
            "\n",
            "-----------\n",
            "Start load model...\n",
            "Loading models... 9.21s\n",
            "\t--- Training graph 0 ---\n",
            "Epoch [1/1] \t\tloss:797.0739 \t\ttime:0.03s\n",
            "Training time in 0.05s\n",
            "\t--- Training graph 1 ---\n",
            "Epoch [1/1] \t\tloss:12.8832 \t\ttime:0.10s\n",
            "Training time in 0.13s\n",
            "\t--- Training graph 2 ---\n",
            "Epoch [1/1] \t\tloss:2.1414 \t\ttime:0.57s\n",
            "Training time in 0.66s\n",
            "\t--- Training graph 3 ---\n",
            "Epoch [1/1] \t\tloss:0.0079 \t\ttime:2.84s\n",
            "Training time in 3.03s\n",
            "\t--- Training graph 4 ---\n",
            "Epoch [1/1] \t\tloss:0.0023 \t\ttime:7.89s\n",
            "Training time in 8.21s\n",
            "Saving embeddings...\n",
            "Loading embedding...\n",
            "[1 -> 0] Relative_stab:  0.5931409428018051\n",
            "[2 -> 1] Relative_stab:  0.5091632887384325\n",
            "[3 -> 2] Relative_stab:  0.6929372096424091\n",
            "[4 -> 3] Relative_stab:  0.9461574646104571\n",
            "Stability constant= 0.9461574646104571\n"
          ],
          "name": "stdout"
        }
      ]
    },
    {
      "cell_type": "markdown",
      "metadata": {
        "id": "8_3aZh-FSf9d",
        "colab_type": "text"
      },
      "source": [
        "## Node2Vec\n"
      ]
    },
    {
      "cell_type": "markdown",
      "metadata": {
        "id": "SSGVWEZ9SrC4",
        "colab_type": "text"
      },
      "source": [
        "Set parameter: \n",
        "```\n",
        "is_dyngem = False\n",
        "is_node2vec = True\n",
        "```"
      ]
    },
    {
      "cell_type": "code",
      "metadata": {
        "id": "oDkiqmfMShdB",
        "colab_type": "code",
        "colab": {
          "base_uri": "https://localhost:8080/",
          "height": 658
        },
        "outputId": "093d1972-dd02-411a-915b-95357434c0fb"
      },
      "source": [
        "!python cit_hepth_statbility.py"
      ],
      "execution_count": 12,
      "outputs": [
        {
          "output_type": "stream",
          "text": [
            "[0]Reading graph_00.edgelist\n",
            "[1]Reading graph_01.edgelist\n",
            "[2]Reading graph_02.edgelist\n",
            "[3]Reading graph_03.edgelist\n",
            "[4]Reading graph_04.edgelist\n",
            "Start convert graph to index ... 3.36s\n",
            "Number graphs:  5\n",
            "Origin graphs:\n",
            "Graph 0: |V|=619\t |E|=6374\tIsolate nodes: 0\n",
            "Graph 1: |V|=1660\t |E|=23654\tIsolate nodes: 0\n",
            "Graph 2: |V|=3699\t |E|=99588\tIsolate nodes: 0\n",
            "Graph 3: |V|=5654\t |E|=167731\tIsolate nodes: 0\n",
            "Graph 4: |V|=6798\t |E|=214693\tIsolate nodes: 0\n",
            "=============== Node2vec ============\n",
            "Computing transition probabilities: 100% 619/619 [00:01<00:00, 329.24it/s]\n",
            "Generating walks (CPU: 1): 100% 25/25 [01:09<00:00,  2.77s/it]\n",
            "Generating walks (CPU: 2): 100% 25/25 [01:08<00:00,  2.76s/it]\n",
            "Computing transition probabilities: 100% 1660/1660 [00:11<00:00, 142.36it/s]\n",
            "Generating walks (CPU: 1): 100% 25/25 [02:59<00:00,  7.16s/it]\n",
            "Generating walks (CPU: 2): 100% 25/25 [02:57<00:00,  7.11s/it]\n",
            "Computing transition probabilities: 100% 3699/3699 [02:17<00:00, 26.92it/s] \n",
            "Generating walks (CPU: 1): 100% 25/25 [08:07<00:00, 19.51s/it]\n",
            "Generating walks (CPU: 2): 100% 25/25 [08:02<00:00, 19.31s/it]\n",
            "Computing transition probabilities: 100% 5654/5654 [04:33<00:00, 20.67it/s] \n",
            "Generating walks (CPU: 1): 100% 25/25 [12:47<00:00, 30.70s/it]\n",
            "Generating walks (CPU: 2): 100% 25/25 [12:55<00:00, 31.02s/it]\n",
            "Computing transition probabilities: 100% 6798/6798 [06:31<00:00, 17.37it/s] \n",
            "tcmalloc: large alloc 1147494400 bytes == 0x143df0000 @  0x7f09f0789615 0x591f47 0x4cc229 0x4cc38b 0x50a51c 0x50c1f4 0x507f24 0x509c50 0x50a64d 0x50c1f4 0x507f24 0x509c50 0x50a64d 0x50c1f4 0x509918 0x50a64d 0x50c1f4 0x509918 0x50a64d 0x50c1f4 0x507f24 0x509c50 0x50a64d 0x50c1f4 0x509918 0x50a64d 0x50c1f4 0x509918 0x50a64d 0x50c1f4 0x507f24\n",
            "Generating walks (CPU: 1): 100% 25/25 [15:49<00:00, 37.96s/it]\n",
            "Generating walks (CPU: 2): 100% 25/25 [16:00<00:00, 38.43s/it]\n",
            "[1 -> 0] Relative_stab:  1.0067393681367642\n",
            "[2 -> 1] Relative_stab:  0.6878720813948881\n",
            "[3 -> 2] Relative_stab:  0.7529316726549287\n",
            "[4 -> 3] Relative_stab:  0.7058383049457231\n",
            "Stability constant= 1.0067393681367642\n"
          ],
          "name": "stdout"
        }
      ]
    }
  ]
}