{
  "nbformat": 4,
  "nbformat_minor": 0,
  "metadata": {
    "colab": {
      "name": "DynGEM_PyTorch_Socwiki__Stability_Final.ipynb",
      "provenance": [],
      "collapsed_sections": [
        "_yJLltZjktXC",
        "PDUsqrnckwNp",
        "NlDRdr08IZG-",
        "TptxUYYVSafs",
        "8_3aZh-FSf9d"
      ],
      "toc_visible": true
    },
    "kernelspec": {
      "name": "python3",
      "display_name": "Python 3"
    },
    "accelerator": "GPU"
  },
  "cells": [
    {
      "cell_type": "markdown",
      "metadata": {
        "id": "bmPcfxjMP9mN",
        "colab_type": "text"
      },
      "source": [
        "# 0.Transffering drive data\n",
        "Run this code if resuming training (Not recommend- should train from scratch)"
      ]
    },
    {
      "cell_type": "code",
      "metadata": {
        "id": "otCVPODxQN5J",
        "colab_type": "code",
        "colab": {
          "base_uri": "https://localhost:8080/",
          "height": 125
        },
        "outputId": "d405d97e-1bb1-4849-d7e1-ece4d303b9ab"
      },
      "source": [
        "from google.colab import auth\n",
        "auth.authenticate_user()\n",
        "from google.colab import drive\n",
        "drive.mount('/content/gdrive', force_remount=True)"
      ],
      "execution_count": 9,
      "outputs": [
        {
          "output_type": "stream",
          "text": [
            "Go to this URL in a browser: https://accounts.google.com/o/oauth2/auth?client_id=947318989803-6bn6qk8qdgf4n4g3pfee6491hc0brc4i.apps.googleusercontent.com&redirect_uri=urn%3aietf%3awg%3aoauth%3a2.0%3aoob&scope=email%20https%3a%2f%2fwww.googleapis.com%2fauth%2fdocs.test%20https%3a%2f%2fwww.googleapis.com%2fauth%2fdrive%20https%3a%2f%2fwww.googleapis.com%2fauth%2fdrive.photos.readonly%20https%3a%2f%2fwww.googleapis.com%2fauth%2fpeopleapi.readonly&response_type=code\n",
            "\n",
            "Enter your authorization code:\n",
            "··········\n",
            "Mounted at /content/gdrive\n"
          ],
          "name": "stdout"
        }
      ]
    },
    {
      "cell_type": "code",
      "metadata": {
        "id": "lnvAUXlFQOsr",
        "colab_type": "code",
        "colab": {
          "base_uri": "https://localhost:8080/",
          "height": 34
        },
        "outputId": "215face7-25f3-48e5-8224-1d57661316cf"
      },
      "source": [
        "!pwd"
      ],
      "execution_count": null,
      "outputs": [
        {
          "output_type": "stream",
          "text": [
            "/content/dynamic-graph-embedding\n"
          ],
          "name": "stdout"
        }
      ]
    },
    {
      "cell_type": "markdown",
      "metadata": {
        "id": "0Y6X-4uo7Djz",
        "colab_type": "text"
      },
      "source": [
        "## Saved data folder"
      ]
    },
    {
      "cell_type": "code",
      "metadata": {
        "id": "4eiynNll7BWy",
        "colab_type": "code",
        "colab": {
          "base_uri": "https://localhost:8080/",
          "height": 1000
        },
        "outputId": "bb29ee68-5036-416c-cd13-17ea057c74a4"
      },
      "source": [
        "# Save data\n",
        "!zip -r ./soc_wiki_saved_data_stab.zip ./saved_data ./data/soc_wiki\n",
        "!cp ./soc_wiki_saved_data_stab.zip /content/gdrive/Shared\\ drives/UNLIMITED\\ DRIVE/"
      ],
      "execution_count": 20,
      "outputs": [
        {
          "output_type": "stream",
          "text": [
            "updating: saved_data/ (stored 0%)\n",
            "updating: saved_data/embeddings/ (stored 0%)\n",
            "updating: saved_data/embeddings/soc_wiki_stability/ (stored 0%)\n",
            "updating: saved_data/models/ (stored 0%)\n",
            "updating: saved_data/models/soc_wiki_stability/ (stored 0%)\n",
            "updating: saved_data/models/soc_wiki_stability/graph_6.pt (deflated 10%)\n",
            "updating: saved_data/models/soc_wiki_stability/graph_0.pt (deflated 9%)\n",
            "updating: saved_data/models/soc_wiki_stability/graph_0.json (deflated 27%)\n",
            "updating: saved_data/models/soc_wiki_stability/graph_1.pt (deflated 8%)\n",
            "updating: saved_data/models/soc_wiki_stability/graph_3.json (deflated 30%)\n",
            "updating: saved_data/models/soc_wiki_stability/graph_3.pt (deflated 12%)\n",
            "updating: saved_data/models/soc_wiki_stability/graph_7.json (deflated 36%)\n",
            "updating: saved_data/models/soc_wiki_stability/graph_5.json (deflated 34%)\n",
            "updating: saved_data/models/soc_wiki_stability/graph_2.json (deflated 28%)\n",
            "updating: saved_data/models/soc_wiki_stability/graph_2.pt (deflated 12%)\n",
            "updating: saved_data/models/soc_wiki_stability/graph_4.pt (deflated 15%)\n",
            "updating: saved_data/models/soc_wiki_stability/graph_1.json (deflated 25%)\n",
            "updating: saved_data/models/soc_wiki_stability/graph_6.json (deflated 35%)\n",
            "updating: saved_data/models/soc_wiki_stability/graph_7.pt (deflated 8%)\n",
            "updating: saved_data/models/soc_wiki_stability/graph_5.pt (deflated 10%)\n",
            "updating: saved_data/models/soc_wiki_stability/graph_4.json (deflated 31%)\n",
            "updating: saved_data/node2vec_emb/ (stored 0%)\n",
            "updating: saved_data/node2vec_emb/soc_wiki_stability/ (stored 0%)\n",
            "updating: data/soc_wiki/ (stored 0%)\n",
            "updating: data/soc_wiki/graph_07.edgelist (deflated 70%)\n",
            "updating: data/soc_wiki/graph_01.edgelist (deflated 65%)\n",
            "updating: data/soc_wiki/graph_06.edgelist (deflated 70%)\n",
            "updating: data/soc_wiki/graph_05.edgelist (deflated 70%)\n",
            "updating: data/soc_wiki/graph_00.edgelist (deflated 65%)\n",
            "updating: data/soc_wiki/graph_04.edgelist (deflated 70%)\n",
            "updating: data/soc_wiki/graph_03.edgelist (deflated 69%)\n",
            "updating: data/soc_wiki/graph_02.edgelist (deflated 66%)\n",
            "updating: saved_data/embeddings/soc_wiki_stability/_3 (deflated 29%)\n",
            "updating: saved_data/embeddings/soc_wiki_stability/_1 (deflated 32%)\n",
            "updating: saved_data/embeddings/soc_wiki_stability/_2 (deflated 31%)\n",
            "updating: saved_data/embeddings/soc_wiki_stability/_4 (deflated 29%)\n",
            "updating: saved_data/embeddings/soc_wiki_stability/_5 (deflated 30%)\n",
            "updating: saved_data/embeddings/soc_wiki_stability/_0 (deflated 46%)\n",
            "updating: saved_data/embeddings/soc_wiki_stability/_6 (deflated 31%)\n",
            "updating: saved_data/embeddings/soc_wiki_stability/_7 (deflated 31%)\n",
            "updating: saved_data/models/.ipynb_checkpoints/ (stored 0%)\n",
            "updating: saved_data/models/soc_wiki_stability/.ipynb_checkpoints/ (stored 0%)\n",
            "updating: saved_data/node2vec_emb/soc_wiki_stability/n2v_emb3 (deflated 57%)\n",
            "updating: saved_data/node2vec_emb/soc_wiki_stability/n2v_emb4 (deflated 57%)\n",
            "updating: saved_data/node2vec_emb/soc_wiki_stability/n2v_emb0 (deflated 57%)\n",
            "updating: saved_data/node2vec_emb/soc_wiki_stability/n2v_emb2 (deflated 57%)\n",
            "updating: saved_data/node2vec_emb/soc_wiki_stability/n2v_emb6 (deflated 57%)\n",
            "updating: saved_data/node2vec_emb/soc_wiki_stability/n2v_emb7 (deflated 57%)\n",
            "updating: saved_data/node2vec_emb/soc_wiki_stability/n2v_emb5 (deflated 57%)\n",
            "updating: saved_data/node2vec_emb/soc_wiki_stability/n2v_emb1 (deflated 57%)\n",
            "updating: saved_data/sdne_models/ (stored 0%)\n",
            "updating: saved_data/sdne_models/soc_wiki_stability/ (stored 0%)\n",
            "updating: saved_data/sdne_models/soc_wiki_stability/graph_6.pt (deflated 8%)\n",
            "updating: saved_data/sdne_models/soc_wiki_stability/graph_0.pt (deflated 8%)\n",
            "updating: saved_data/sdne_models/soc_wiki_stability/graph_0.json (deflated 25%)\n",
            "updating: saved_data/sdne_models/soc_wiki_stability/graph_1.pt (deflated 8%)\n",
            "updating: saved_data/sdne_models/soc_wiki_stability/graph_3.json (deflated 24%)\n",
            "updating: saved_data/sdne_models/soc_wiki_stability/graph_3.pt (deflated 8%)\n",
            "updating: saved_data/sdne_models/soc_wiki_stability/graph_7.json (deflated 26%)\n",
            "updating: saved_data/sdne_models/soc_wiki_stability/graph_5.json (deflated 26%)\n",
            "updating: saved_data/sdne_models/soc_wiki_stability/graph_2.json (deflated 25%)\n",
            "updating: saved_data/sdne_models/soc_wiki_stability/graph_2.pt (deflated 7%)\n",
            "updating: saved_data/sdne_models/soc_wiki_stability/graph_4.pt (deflated 7%)\n",
            "updating: saved_data/sdne_models/soc_wiki_stability/graph_1.json (deflated 25%)\n",
            "updating: saved_data/sdne_models/soc_wiki_stability/graph_6.json (deflated 26%)\n",
            "updating: saved_data/sdne_models/soc_wiki_stability/graph_7.pt (deflated 8%)\n",
            "updating: saved_data/sdne_models/soc_wiki_stability/graph_5.pt (deflated 8%)\n",
            "updating: saved_data/sdne_models/soc_wiki_stability/graph_4.json (deflated 26%)\n",
            "  adding: saved_data/sdne_emb/ (stored 0%)\n",
            "  adding: saved_data/sdne_emb/soc_wiki_stability/ (stored 0%)\n",
            "  adding: saved_data/sdne_emb/soc_wiki_stability/_3 (deflated 25%)\n",
            "  adding: saved_data/sdne_emb/soc_wiki_stability/_1 (deflated 29%)\n",
            "  adding: saved_data/sdne_emb/soc_wiki_stability/_2 (deflated 29%)\n",
            "  adding: saved_data/sdne_emb/soc_wiki_stability/_4 (deflated 28%)\n",
            "  adding: saved_data/sdne_emb/soc_wiki_stability/_5 (deflated 28%)\n",
            "  adding: saved_data/sdne_emb/soc_wiki_stability/_0 (deflated 44%)\n",
            "  adding: saved_data/sdne_emb/soc_wiki_stability/_6 (deflated 26%)\n",
            "  adding: saved_data/sdne_emb/soc_wiki_stability/_7 (deflated 26%)\n",
            "  adding: saved_data/node2vec_emb/soc_wiki_stability/n2v_emb_3 (deflated 7%)\n",
            "  adding: saved_data/node2vec_emb/soc_wiki_stability/n2v_emb_6 (deflated 7%)\n",
            "  adding: saved_data/node2vec_emb/soc_wiki_stability/n2v_emb_4 (deflated 7%)\n",
            "  adding: saved_data/node2vec_emb/soc_wiki_stability/n2v_emb_2 (deflated 7%)\n",
            "  adding: saved_data/node2vec_emb/soc_wiki_stability/n2v_emb_5 (deflated 7%)\n",
            "  adding: saved_data/node2vec_emb/soc_wiki_stability/n2v_emb_7 (deflated 7%)\n",
            "  adding: saved_data/node2vec_emb/soc_wiki_stability/n2v_emb_1 (deflated 7%)\n",
            "  adding: saved_data/node2vec_emb/soc_wiki_stability/n2v_emb_0 (deflated 7%)\n"
          ],
          "name": "stdout"
        }
      ]
    },
    {
      "cell_type": "code",
      "metadata": {
        "id": "JkpfjPiH7Qyo",
        "colab_type": "code",
        "colab": {}
      },
      "source": [
        "# Load data\n",
        "!cp /content/gdrive/Shared\\ drives/UNLIMITED\\ DRIVE/soc_wiki_saved_data_stab.zip ./\n",
        "!unzip soc_wiki_saved_data_stab.zip -d ./"
      ],
      "execution_count": null,
      "outputs": []
    },
    {
      "cell_type": "markdown",
      "metadata": {
        "id": "_yJLltZjktXC",
        "colab_type": "text"
      },
      "source": [
        "# 1. Library"
      ]
    },
    {
      "cell_type": "code",
      "metadata": {
        "id": "N-7-CNwD1ecd",
        "colab_type": "code",
        "colab": {
          "base_uri": "https://localhost:8080/",
          "height": 0
        },
        "outputId": "79f0ee6c-fcbe-40c7-ab97-0a24b17fcd5f"
      },
      "source": [
        "!pip install node2vec"
      ],
      "execution_count": 1,
      "outputs": [
        {
          "output_type": "stream",
          "text": [
            "Collecting node2vec\n",
            "  Downloading https://files.pythonhosted.org/packages/c0/da/7f0c49433ef91033e21d523e82be1570074a5d6ab8c74f8771774e9d2fd1/node2vec-0.3.2-py3-none-any.whl\n",
            "Requirement already satisfied: numpy in /usr/local/lib/python3.6/dist-packages (from node2vec) (1.18.5)\n",
            "Requirement already satisfied: tqdm in /usr/local/lib/python3.6/dist-packages (from node2vec) (4.41.1)\n",
            "Requirement already satisfied: networkx in /usr/local/lib/python3.6/dist-packages (from node2vec) (2.4)\n",
            "Requirement already satisfied: gensim in /usr/local/lib/python3.6/dist-packages (from node2vec) (3.6.0)\n",
            "Requirement already satisfied: joblib>=0.13.2 in /usr/local/lib/python3.6/dist-packages (from node2vec) (0.16.0)\n",
            "Requirement already satisfied: decorator>=4.3.0 in /usr/local/lib/python3.6/dist-packages (from networkx->node2vec) (4.4.2)\n",
            "Requirement already satisfied: six>=1.5.0 in /usr/local/lib/python3.6/dist-packages (from gensim->node2vec) (1.15.0)\n",
            "Requirement already satisfied: smart-open>=1.2.1 in /usr/local/lib/python3.6/dist-packages (from gensim->node2vec) (2.1.0)\n",
            "Requirement already satisfied: scipy>=0.18.1 in /usr/local/lib/python3.6/dist-packages (from gensim->node2vec) (1.4.1)\n",
            "Requirement already satisfied: requests in /usr/local/lib/python3.6/dist-packages (from smart-open>=1.2.1->gensim->node2vec) (2.23.0)\n",
            "Requirement already satisfied: boto in /usr/local/lib/python3.6/dist-packages (from smart-open>=1.2.1->gensim->node2vec) (2.49.0)\n",
            "Requirement already satisfied: boto3 in /usr/local/lib/python3.6/dist-packages (from smart-open>=1.2.1->gensim->node2vec) (1.14.37)\n",
            "Requirement already satisfied: certifi>=2017.4.17 in /usr/local/lib/python3.6/dist-packages (from requests->smart-open>=1.2.1->gensim->node2vec) (2020.6.20)\n",
            "Requirement already satisfied: chardet<4,>=3.0.2 in /usr/local/lib/python3.6/dist-packages (from requests->smart-open>=1.2.1->gensim->node2vec) (3.0.4)\n",
            "Requirement already satisfied: urllib3!=1.25.0,!=1.25.1,<1.26,>=1.21.1 in /usr/local/lib/python3.6/dist-packages (from requests->smart-open>=1.2.1->gensim->node2vec) (1.24.3)\n",
            "Requirement already satisfied: idna<3,>=2.5 in /usr/local/lib/python3.6/dist-packages (from requests->smart-open>=1.2.1->gensim->node2vec) (2.10)\n",
            "Requirement already satisfied: jmespath<1.0.0,>=0.7.1 in /usr/local/lib/python3.6/dist-packages (from boto3->smart-open>=1.2.1->gensim->node2vec) (0.10.0)\n",
            "Requirement already satisfied: s3transfer<0.4.0,>=0.3.0 in /usr/local/lib/python3.6/dist-packages (from boto3->smart-open>=1.2.1->gensim->node2vec) (0.3.3)\n",
            "Requirement already satisfied: botocore<1.18.0,>=1.17.37 in /usr/local/lib/python3.6/dist-packages (from boto3->smart-open>=1.2.1->gensim->node2vec) (1.17.37)\n",
            "Requirement already satisfied: docutils<0.16,>=0.10 in /usr/local/lib/python3.6/dist-packages (from botocore<1.18.0,>=1.17.37->boto3->smart-open>=1.2.1->gensim->node2vec) (0.15.2)\n",
            "Requirement already satisfied: python-dateutil<3.0.0,>=2.1 in /usr/local/lib/python3.6/dist-packages (from botocore<1.18.0,>=1.17.37->boto3->smart-open>=1.2.1->gensim->node2vec) (2.8.1)\n",
            "Installing collected packages: node2vec\n",
            "Successfully installed node2vec-0.3.2\n"
          ],
          "name": "stdout"
        }
      ]
    },
    {
      "cell_type": "code",
      "metadata": {
        "id": "sBPKfDebdFr_",
        "colab_type": "code",
        "colab": {}
      },
      "source": [
        "import networkx as nx\n",
        "import warnings\n",
        "import torch\n",
        "import os\n",
        "import matplotlib.pyplot as plt \n",
        "\n",
        "warnings.filterwarnings(\"ignore\")\n",
        "%matplotlib inline"
      ],
      "execution_count": 2,
      "outputs": []
    },
    {
      "cell_type": "code",
      "metadata": {
        "id": "OUMUQlYvfvcd",
        "colab_type": "code",
        "colab": {
          "base_uri": "https://localhost:8080/",
          "height": 0
        },
        "outputId": "96156780-75a7-40a4-922f-dd8525a82ec0"
      },
      "source": [
        "device = torch.device(\"cuda\" if torch.cuda.is_available() else \"cpu\")\n",
        "device"
      ],
      "execution_count": 3,
      "outputs": [
        {
          "output_type": "execute_result",
          "data": {
            "text/plain": [
              "device(type='cuda')"
            ]
          },
          "metadata": {
            "tags": []
          },
          "execution_count": 3
        }
      ]
    },
    {
      "cell_type": "markdown",
      "metadata": {
        "id": "PDUsqrnckwNp",
        "colab_type": "text"
      },
      "source": [
        "# 2. Download repo\n",
        "Run this part firstly"
      ]
    },
    {
      "cell_type": "code",
      "metadata": {
        "id": "5xlmSrg8xvNK",
        "colab_type": "code",
        "colab": {}
      },
      "source": [
        "# %cd ..\n",
        "# !rm -rf ./dynamic-graph-embedding"
      ],
      "execution_count": 4,
      "outputs": []
    },
    {
      "cell_type": "code",
      "metadata": {
        "id": "vRtM6gr_mtgf",
        "colab_type": "code",
        "colab": {
          "base_uri": "https://localhost:8080/",
          "height": 0
        },
        "outputId": "dab1af4c-0f31-416f-f06e-3db1f7428165"
      },
      "source": [
        "!git clone https://github.com/hxtruong/dynamic-graph-embedding"
      ],
      "execution_count": 5,
      "outputs": [
        {
          "output_type": "stream",
          "text": [
            "Cloning into 'dynamic-graph-embedding'...\n",
            "remote: Enumerating objects: 778, done.\u001b[K\n",
            "remote: Counting objects: 100% (778/778), done.\u001b[K\n",
            "remote: Compressing objects: 100% (502/502), done.\u001b[K\n",
            "remote: Total 778 (delta 512), reused 524 (delta 258), pack-reused 0\u001b[K\n",
            "Receiving objects: 100% (778/778), 2.34 MiB | 5.34 MiB/s, done.\n",
            "Resolving deltas: 100% (512/512), done.\n"
          ],
          "name": "stdout"
        }
      ]
    },
    {
      "cell_type": "code",
      "metadata": {
        "id": "G_fVSjKGnv0c",
        "colab_type": "code",
        "colab": {
          "base_uri": "https://localhost:8080/",
          "height": 0
        },
        "outputId": "d1e4c2d3-9cbb-4102-ba49-6adbe78419d7"
      },
      "source": [
        "%cd ./dynamic-graph-embedding/"
      ],
      "execution_count": 6,
      "outputs": [
        {
          "output_type": "stream",
          "text": [
            "/content/dynamic-graph-embedding\n"
          ],
          "name": "stdout"
        }
      ]
    },
    {
      "cell_type": "code",
      "metadata": {
        "id": "PiUFnqyvydjt",
        "colab_type": "code",
        "colab": {}
      },
      "source": [
        "# !git reset --hard\n",
        "# !git pull"
      ],
      "execution_count": 7,
      "outputs": []
    },
    {
      "cell_type": "code",
      "metadata": {
        "id": "4HmueSO2yqP_",
        "colab_type": "code",
        "colab": {}
      },
      "source": [
        "# !pip install -r requirements.txt"
      ],
      "execution_count": 8,
      "outputs": []
    },
    {
      "cell_type": "markdown",
      "metadata": {
        "id": "NlDRdr08IZG-",
        "colab_type": "text"
      },
      "source": [
        "# 3. Download dataset\n",
        "For not running Drive part (#0)"
      ]
    },
    {
      "cell_type": "code",
      "metadata": {
        "id": "3RypdU8HUVG3",
        "colab_type": "code",
        "colab": {
          "base_uri": "https://localhost:8080/",
          "height": 34
        },
        "outputId": "fab73103-1519-4e04-b93e-f06988c2b99c"
      },
      "source": [
        "!pwd"
      ],
      "execution_count": null,
      "outputs": [
        {
          "output_type": "stream",
          "text": [
            "/content/dynamic-graph-embedding\n"
          ],
          "name": "stdout"
        }
      ]
    },
    {
      "cell_type": "code",
      "metadata": {
        "id": "cWDP0VsHK5DG",
        "colab_type": "code",
        "colab": {}
      },
      "source": [
        "# !mkdir data\n",
        "!mkdir data/soc_wiki"
      ],
      "execution_count": null,
      "outputs": []
    },
    {
      "cell_type": "code",
      "metadata": {
        "id": "x4RpmWUwQTYb",
        "colab_type": "code",
        "colab": {}
      },
      "source": [
        "# !rm -rf data/"
      ],
      "execution_count": null,
      "outputs": []
    },
    {
      "cell_type": "code",
      "metadata": {
        "id": "QNBbBCaJIcY2",
        "colab_type": "code",
        "colab": {
          "base_uri": "https://localhost:8080/",
          "height": 676
        },
        "outputId": "086c9873-41d7-4478-e8b6-be50065305d4"
      },
      "source": [
        "# note set NUMBER_SAVE_GRAPH = 5 in file - TRICK\n",
        "!python examples/get_soc_wiki_elec_data.py"
      ],
      "execution_count": null,
      "outputs": [
        {
          "output_type": "stream",
          "text": [
            "['% asym signed\\n', '3 30 1 1095171960\\n', '25 30 -1 1095173580\\n', '4 30 1 1095174480\\n', '5 30 1 1095176220\\n', '6 30 1 1095182880\\n']\n",
            "[[5, 30, 1, 1095176220], [6, 30, 1, 1095182880], [7, 30, 1, 1095183420], [8, 30, 1, 1095188640]]\n",
            "\n",
            "node_1       int64\n",
            "node_2       int64\n",
            "weight       int64\n",
            "timestamp    int64\n",
            "dtype: object\n",
            "<class 'pandas.core.frame.DataFrame'>\n",
            "RangeIndex: 107068 entries, 0 to 107067\n",
            "Data columns (total 4 columns):\n",
            " #   Column     Non-Null Count   Dtype\n",
            "---  ------     --------------   -----\n",
            " 0   node_1     107068 non-null  int64\n",
            " 1   node_2     107068 non-null  int64\n",
            " 2   weight     107068 non-null  int64\n",
            " 3   timestamp  107068 non-null  int64\n",
            "dtypes: int64(4)\n",
            "memory usage: 3.3 MB\n",
            "Start time:  2004-03-28 17:12:00\n",
            "[0|\tUpper_time= 2004-09-17 00:12:30\t |Row|= 793\n",
            "[1|\tUpper_time= 2005-03-08 07:13:00\t |Row|= 4241\n",
            "[2|\tUpper_time= 2005-08-27 14:13:30\t |Row|= 11583\n",
            "[3|\tUpper_time= 2006-02-15 21:14:00\t |Row|= 28719\n",
            "[4|\tUpper_time= 2006-08-07 04:14:30\t |Row|= 51440\n",
            "[5|\tUpper_time= 2007-01-26 11:15:00\t |Row|= 68591\n",
            "[6|\tUpper_time= 2007-07-17 18:15:30\t |Row|= 89214\n",
            "[7|\tUpper_time= 2008-01-06 01:16:00\t |Row|= 107067\n",
            "Graph 1:\t|V|=202 \t|E|=467 \t|Isolate|=0\n",
            "Graph 2:\t|V|=561 \t|E|=3228 \t|Isolate|=0\n",
            "Graph 3:\t|V|=1204 \t|E|=8952 \t|Isolate|=0\n",
            "Graph 4:\t|V|=2338 \t|E|=22482 \t|Isolate|=0\n",
            "Graph 5:\t|V|=3454 \t|E|=38725 \t|Isolate|=0\n",
            "Graph 6:\t|V|=4390 \t|E|=51094 \t|Isolate|=0\n",
            "Graph 7:\t|V|=5413 \t|E|=66234 \t|Isolate|=0\n",
            "Graph 8:\t|V|=7118 \t|E|=100808 \t|Isolate|=0\n"
          ],
          "name": "stdout"
        }
      ]
    },
    {
      "cell_type": "code",
      "metadata": {
        "id": "ApKBEOueqJwA",
        "colab_type": "code",
        "colab": {
          "base_uri": "https://localhost:8080/",
          "height": 52
        },
        "outputId": "5149a7bb-2974-4b2a-bd7b-69761a6473e9"
      },
      "source": [
        "!ls data/soc_wiki"
      ],
      "execution_count": null,
      "outputs": [
        {
          "output_type": "stream",
          "text": [
            "graph_00.edgelist  graph_02.edgelist  graph_04.edgelist  graph_06.edgelist\n",
            "graph_01.edgelist  graph_03.edgelist  graph_05.edgelist  graph_07.edgelist\n"
          ],
          "name": "stdout"
        }
      ]
    },
    {
      "cell_type": "markdown",
      "metadata": {
        "id": "a97dCKe2JIkL",
        "colab_type": "text"
      },
      "source": [
        "# 4. Training\n",
        "\n"
      ]
    },
    {
      "cell_type": "code",
      "metadata": {
        "id": "GzPdZl9RK0pM",
        "colab_type": "code",
        "colab": {}
      },
      "source": [
        "# !rm -rf /content/dynamic-graph-embedding/saved_data/models/soc_wiki_stability_ck\n",
        "# !rm -rf /content/dynamic-graph-embedding/saved_data/models/soc_wiki_stability_ck"
      ],
      "execution_count": 19,
      "outputs": []
    },
    {
      "cell_type": "markdown",
      "metadata": {
        "id": "TptxUYYVSafs",
        "colab_type": "text"
      },
      "source": [
        "## DynGEM"
      ]
    },
    {
      "cell_type": "markdown",
      "metadata": {
        "id": "Er442RjgWY-I",
        "colab_type": "text"
      },
      "source": [
        "Stab= 0.27\n"
      ]
    },
    {
      "cell_type": "code",
      "metadata": {
        "id": "nOsX_6B7JBuM",
        "colab_type": "code",
        "colab": {
          "base_uri": "https://localhost:8080/",
          "height": 585
        },
        "outputId": "e0bf1206-3e90-4525-c7b3-380094d58be4"
      },
      "source": [
        "!python train_stability.py"
      ],
      "execution_count": 12,
      "outputs": [
        {
          "output_type": "stream",
          "text": [
            "[0]Reading graph_00.edgelist\n",
            "[1]Reading graph_01.edgelist\n",
            "[2]Reading graph_02.edgelist\n",
            "[3]Reading graph_03.edgelist\n",
            "[4]Reading graph_04.edgelist\n",
            "[5]Reading graph_05.edgelist\n",
            "[6]Reading graph_06.edgelist\n",
            "[7]Reading graph_07.edgelist\n",
            "Start convert graph to index ... 1.55s\n",
            "Number graphs:  8\n",
            "Origin graphs:\n",
            "Graph 0: |V|=202\t |E|=467\tIsolate nodes: 0\n",
            "Graph 1: |V|=561\t |E|=3228\tIsolate nodes: 0\n",
            "Graph 2: |V|=1204\t |E|=8952\tIsolate nodes: 0\n",
            "Graph 3: |V|=2338\t |E|=22482\tIsolate nodes: 0\n",
            "Graph 4: |V|=3454\t |E|=38725\tIsolate nodes: 0\n",
            "Graph 5: |V|=4390\t |E|=51094\tIsolate nodes: 0\n",
            "Graph 6: |V|=5413\t |E|=66234\tIsolate nodes: 0\n",
            "Graph 7: |V|=7118\t |E|=100808\tIsolate nodes: 0\n",
            "=============== DynGEM ============\n",
            "\n",
            "-----------\n",
            "Start load model...\n",
            "Loading models... 10.82s\n",
            "[1 -> 0] Relative_stab:  0.2603425347739352\n",
            "[2 -> 1] Relative_stab:  0.24595428758076454\n",
            "[3 -> 2] Relative_stab:  0.272414464310315\n",
            "[4 -> 3] Relative_stab:  0.2148567806678075\n",
            "[5 -> 4] Relative_stab:  0.22390725709564666\n",
            "[6 -> 5] Relative_stab:  0.2242717150269558\n",
            "[7 -> 6] Relative_stab:  0.2679765786974739\n",
            "Stability constant= 0.272414464310315\n"
          ],
          "name": "stdout"
        }
      ]
    },
    {
      "cell_type": "markdown",
      "metadata": {
        "id": "8_3aZh-FSf9d",
        "colab_type": "text"
      },
      "source": [
        "## Node2Vec\n"
      ]
    },
    {
      "cell_type": "markdown",
      "metadata": {
        "id": "SSGVWEZ9SrC4",
        "colab_type": "text"
      },
      "source": [
        "Set parameter: \n",
        "```\n",
        "is_dyngem = False\n",
        "is_node2vec = True\n",
        "```"
      ]
    },
    {
      "cell_type": "code",
      "metadata": {
        "id": "oDkiqmfMShdB",
        "colab_type": "code",
        "colab": {
          "base_uri": "https://localhost:8080/",
          "height": 941
        },
        "outputId": "f969c37b-84f9-430e-a237-118ba0c117dc"
      },
      "source": [
        "!python train_stability.py"
      ],
      "execution_count": 14,
      "outputs": [
        {
          "output_type": "stream",
          "text": [
            "[0]Reading graph_00.edgelist\n",
            "[1]Reading graph_01.edgelist\n",
            "[2]Reading graph_02.edgelist\n",
            "[3]Reading graph_03.edgelist\n",
            "[4]Reading graph_04.edgelist\n",
            "[5]Reading graph_05.edgelist\n",
            "[6]Reading graph_06.edgelist\n",
            "[7]Reading graph_07.edgelist\n",
            "Start convert graph to index ... 1.52s\n",
            "Number graphs:  8\n",
            "Origin graphs:\n",
            "Graph 0: |V|=202\t |E|=467\tIsolate nodes: 0\n",
            "Graph 1: |V|=561\t |E|=3228\tIsolate nodes: 0\n",
            "Graph 2: |V|=1204\t |E|=8952\tIsolate nodes: 0\n",
            "Graph 3: |V|=2338\t |E|=22482\tIsolate nodes: 0\n",
            "Graph 4: |V|=3454\t |E|=38725\tIsolate nodes: 0\n",
            "Graph 5: |V|=4390\t |E|=51094\tIsolate nodes: 0\n",
            "Graph 6: |V|=5413\t |E|=66234\tIsolate nodes: 0\n",
            "Graph 7: |V|=7118\t |E|=100808\tIsolate nodes: 0\n",
            "=============== Node2vec ============\n",
            "Computing transition probabilities: 100% 202/202 [00:00<00:00, 3042.41it/s]\n",
            "Generating walks (CPU: 1): 100% 10/10 [00:11<00:00,  1.14s/it]\n",
            "Generating walks (CPU: 2): 100% 10/10 [00:11<00:00,  1.12s/it]\n",
            "Computing transition probabilities: 100% 561/561 [00:00<00:00, 732.62it/s]\n",
            "Generating walks (CPU: 2): 100% 10/10 [00:31<00:00,  3.19s/it]\n",
            "Generating walks (CPU: 1): 100% 10/10 [00:32<00:00,  3.26s/it]\n",
            "Computing transition probabilities: 100% 1204/1204 [00:03<00:00, 391.98it/s]\n",
            "Generating walks (CPU: 1): 100% 10/10 [01:13<00:00,  7.35s/it]\n",
            "Generating walks (CPU: 2): 100% 10/10 [01:14<00:00,  7.41s/it]\n",
            "Computing transition probabilities: 100% 2338/2338 [00:11<00:00, 212.38it/s]\n",
            "Generating walks (CPU: 1): 100% 10/10 [02:27<00:00, 14.72s/it]\n",
            "Generating walks (CPU: 2): 100% 10/10 [02:29<00:00, 14.91s/it]\n",
            "Computing transition probabilities: 100% 3454/3454 [00:24<00:00, 143.29it/s]\n",
            "Generating walks (CPU: 1): 100% 10/10 [03:46<00:00, 22.61s/it]\n",
            "Generating walks (CPU: 2): 100% 10/10 [03:48<00:00, 22.82s/it]\n",
            "Computing transition probabilities: 100% 4390/4390 [00:35<00:00, 124.40it/s] \n",
            "Generating walks (CPU: 1): 100% 10/10 [04:56<00:00, 29.62s/it]\n",
            "Generating walks (CPU: 2): 100% 10/10 [04:54<00:00, 29.46s/it]\n",
            "Computing transition probabilities: 100% 5413/5413 [00:50<00:00, 107.43it/s] \n",
            "Generating walks (CPU: 1): 100% 10/10 [06:09<00:00, 36.95s/it]\n",
            "Generating walks (CPU: 2): 100% 10/10 [06:08<00:00, 36.85s/it]\n",
            "Computing transition probabilities: 100% 7118/7118 [01:35<00:00, 74.51it/s]  \n",
            "Generating walks (CPU: 1): 100% 10/10 [08:37<00:00, 51.73s/it]\n",
            "Generating walks (CPU: 2): 100% 10/10 [08:36<00:00, 51.62s/it]\n",
            "[1 -> 0] Relative_stab:  0.7187358066849476\n",
            "[2 -> 1] Relative_stab:  0.7860723882051194\n",
            "[3 -> 2] Relative_stab:  0.8194724944476643\n",
            "[4 -> 3] Relative_stab:  0.757819779509047\n",
            "[5 -> 4] Relative_stab:  0.7015836631648569\n",
            "[6 -> 5] Relative_stab:  0.6636245640883857\n",
            "[7 -> 6] Relative_stab:  0.6860327627182216\n",
            "Stability constant= 0.8194724944476643\n"
          ],
          "name": "stdout"
        }
      ]
    },
    {
      "cell_type": "markdown",
      "metadata": {
        "id": "FqySn5GoklsL",
        "colab_type": "text"
      },
      "source": [
        "## SDNE\n",
        "\n",
        "`is_sdne = True`"
      ]
    },
    {
      "cell_type": "code",
      "metadata": {
        "id": "Joe4U1fukpg9",
        "colab_type": "code",
        "colab": {
          "base_uri": "https://localhost:8080/",
          "height": 656
        },
        "outputId": "b32465ba-e4f7-4778-90bc-11c321e87a54"
      },
      "source": [
        "!python train_stability.py"
      ],
      "execution_count": 16,
      "outputs": [
        {
          "output_type": "stream",
          "text": [
            "[0]Reading graph_00.edgelist\n",
            "[1]Reading graph_01.edgelist\n",
            "[2]Reading graph_02.edgelist\n",
            "[3]Reading graph_03.edgelist\n",
            "[4]Reading graph_04.edgelist\n",
            "[5]Reading graph_05.edgelist\n",
            "[6]Reading graph_06.edgelist\n",
            "[7]Reading graph_07.edgelist\n",
            "Start convert graph to index ... 1.55s\n",
            "Number graphs:  8\n",
            "Origin graphs:\n",
            "Graph 0: |V|=202\t |E|=467\tIsolate nodes: 0\n",
            "Graph 1: |V|=561\t |E|=3228\tIsolate nodes: 0\n",
            "Graph 2: |V|=1204\t |E|=8952\tIsolate nodes: 0\n",
            "Graph 3: |V|=2338\t |E|=22482\tIsolate nodes: 0\n",
            "Graph 4: |V|=3454\t |E|=38725\tIsolate nodes: 0\n",
            "Graph 5: |V|=4390\t |E|=51094\tIsolate nodes: 0\n",
            "Graph 6: |V|=5413\t |E|=66234\tIsolate nodes: 0\n",
            "Graph 7: |V|=7118\t |E|=100808\tIsolate nodes: 0\n",
            "=============== SDNE ============\n",
            "[0] SDNE load model...\n",
            "[1] SDNE load model...\n",
            "[2] SDNE load model...\n",
            "[3] SDNE load model...\n",
            "[4] SDNE load model...\n",
            "[5] SDNE load model...\n",
            "[6] SDNE load model...\n",
            "[7] SDNE load model...\n",
            "[1 -> 0] Relative_stab:  0.8272726561563922\n",
            "[2 -> 1] Relative_stab:  0.9848431410978028\n",
            "[3 -> 2] Relative_stab:  0.7876365230262389\n",
            "[4 -> 3] Relative_stab:  1.4800370756620014\n",
            "[5 -> 4] Relative_stab:  0.937331405351486\n",
            "[6 -> 5] Relative_stab:  0.8634140096168289\n",
            "[7 -> 6] Relative_stab:  1.011382148001722\n",
            "Stability constant= 1.4800370756620014\n"
          ],
          "name": "stdout"
        }
      ]
    },
    {
      "cell_type": "markdown",
      "metadata": {
        "id": "0pwfs5-oeld3",
        "colab_type": "text"
      },
      "source": [
        "# 5. Evaluation\n",
        "\n",
        "To run evaluation of a **algorithm**, set `is_{algorithm} = True` in file **eval_stability.py**. Default all algorithms will be evaluated.\n",
        "\n",
        "There are three algorithms:\n",
        "- DynGEM\n",
        "- Node2Vec\n",
        "- SDNE"
      ]
    },
    {
      "cell_type": "code",
      "metadata": {
        "id": "fsKlehuXeoLz",
        "colab_type": "code",
        "colab": {
          "base_uri": "https://localhost:8080/",
          "height": 1000
        },
        "outputId": "ebba6585-2ba7-4e20-e88e-d573b43174da"
      },
      "source": [
        "!python eval_stability.py"
      ],
      "execution_count": 17,
      "outputs": [
        {
          "output_type": "stream",
          "text": [
            "[0]Reading graph_00.edgelist\n",
            "[1]Reading graph_01.edgelist\n",
            "[2]Reading graph_02.edgelist\n",
            "[3]Reading graph_03.edgelist\n",
            "[4]Reading graph_04.edgelist\n",
            "[5]Reading graph_05.edgelist\n",
            "[6]Reading graph_06.edgelist\n",
            "[7]Reading graph_07.edgelist\n",
            "Start convert graph to index ... 1.55s\n",
            "Origin graphs:\n",
            "Graph 0: |V|=202\t |E|=467\tIsolate nodes: 0\n",
            "Graph 1: |V|=561\t |E|=3228\tIsolate nodes: 0\n",
            "Graph 2: |V|=1204\t |E|=8952\tIsolate nodes: 0\n",
            "Graph 3: |V|=2338\t |E|=22482\tIsolate nodes: 0\n",
            "Graph 4: |V|=3454\t |E|=38725\tIsolate nodes: 0\n",
            "Graph 5: |V|=4390\t |E|=51094\tIsolate nodes: 0\n",
            "Graph 6: |V|=5413\t |E|=66234\tIsolate nodes: 0\n",
            "Graph 7: |V|=7118\t |E|=100808\tIsolate nodes: 0\n",
            "=============== DynGEM ============\n",
            "Folder_path:  ./saved_data/embeddings/soc_wiki_stability\n",
            "emb:  ./saved_data/embeddings/soc_wiki_stability/_0\n",
            "emb:  ./saved_data/embeddings/soc_wiki_stability/_1\n",
            "emb:  ./saved_data/embeddings/soc_wiki_stability/_2\n",
            "emb:  ./saved_data/embeddings/soc_wiki_stability/_3\n",
            "emb:  ./saved_data/embeddings/soc_wiki_stability/_4\n",
            "emb:  ./saved_data/embeddings/soc_wiki_stability/_5\n",
            "emb:  ./saved_data/embeddings/soc_wiki_stability/_6\n",
            "emb:  ./saved_data/embeddings/soc_wiki_stability/_7\n",
            "[1 -> 0] Relative_stab:  0.2603426116759221\n",
            "[2 -> 1] Relative_stab:  0.24595450730442492\n",
            "[3 -> 2] Relative_stab:  0.2724146329480816\n",
            "[4 -> 3] Relative_stab:  0.2148567462320913\n",
            "[5 -> 4] Relative_stab:  0.2239073165585693\n",
            "[6 -> 5] Relative_stab:  0.22427180687304968\n",
            "[7 -> 6] Relative_stab:  0.2679743897795605\n",
            "Stability constant= 0.2724146329480816\n",
            "=============== Node2vec ============\n",
            "[1 -> 0] Relative_stab:  0.7187358066849476\n",
            "[2 -> 1] Relative_stab:  0.7860723882051194\n",
            "[3 -> 2] Relative_stab:  0.8194724944476643\n",
            "[4 -> 3] Relative_stab:  0.757819779509047\n",
            "[5 -> 4] Relative_stab:  0.7015836631648569\n",
            "[6 -> 5] Relative_stab:  0.6636245640883857\n",
            "[7 -> 6] Relative_stab:  0.6860327627182216\n",
            "Stability constant= 0.8194724944476643\n",
            "=============== SDNE ============\n",
            "Folder_path:  ./saved_data/sdne_emb/soc_wiki_stability\n",
            "emb:  ./saved_data/sdne_emb/soc_wiki_stability/_0\n",
            "emb:  ./saved_data/sdne_emb/soc_wiki_stability/_1\n",
            "emb:  ./saved_data/sdne_emb/soc_wiki_stability/_2\n",
            "emb:  ./saved_data/sdne_emb/soc_wiki_stability/_3\n",
            "emb:  ./saved_data/sdne_emb/soc_wiki_stability/_4\n",
            "emb:  ./saved_data/sdne_emb/soc_wiki_stability/_5\n",
            "emb:  ./saved_data/sdne_emb/soc_wiki_stability/_6\n",
            "emb:  ./saved_data/sdne_emb/soc_wiki_stability/_7\n",
            "[1 -> 0] Relative_stab:  0.8272726561563922\n",
            "[2 -> 1] Relative_stab:  0.9848431410978028\n",
            "[3 -> 2] Relative_stab:  0.7876365230262389\n",
            "[4 -> 3] Relative_stab:  1.4800370756620014\n",
            "[5 -> 4] Relative_stab:  0.937331405351486\n",
            "[6 -> 5] Relative_stab:  0.8634140096168289\n",
            "[7 -> 6] Relative_stab:  1.011382148001722\n",
            "Stability constant= 1.4800370756620014\n"
          ],
          "name": "stdout"
        }
      ]
    },
    {
      "cell_type": "code",
      "metadata": {
        "id": "s5CiK94AuUsF",
        "colab_type": "code",
        "colab": {}
      },
      "source": [
        ""
      ],
      "execution_count": null,
      "outputs": []
    }
  ]
}