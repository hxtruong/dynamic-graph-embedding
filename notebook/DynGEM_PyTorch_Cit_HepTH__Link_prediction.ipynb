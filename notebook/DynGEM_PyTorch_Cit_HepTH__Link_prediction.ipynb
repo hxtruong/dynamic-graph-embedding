{
  "nbformat": 4,
  "nbformat_minor": 0,
  "metadata": {
    "colab": {
      "name": "DynGEM_PyTorch_Cit_HepTH__Link_prediction.ipynb",
      "provenance": [],
      "collapsed_sections": [
        "uK_4D9jfFJep",
        "LkD-EDh4FNvR",
        "ztc8PDsvFSAB",
        "_yJLltZjktXC",
        "PDUsqrnckwNp",
        "NlDRdr08IZG-",
        "8_3aZh-FSf9d",
        "icN3HdE_JeME"
      ],
      "toc_visible": true
    },
    "kernelspec": {
      "name": "python3",
      "display_name": "Python 3"
    },
    "accelerator": "GPU"
  },
  "cells": [
    {
      "cell_type": "markdown",
      "metadata": {
        "id": "bmPcfxjMP9mN",
        "colab_type": "text"
      },
      "source": [
        "# 0.Transffering drive data\n",
        "Run this code if resuming training (Not recommend- should train from scratch)"
      ]
    },
    {
      "cell_type": "code",
      "metadata": {
        "id": "otCVPODxQN5J",
        "colab_type": "code",
        "colab": {
          "base_uri": "https://localhost:8080/",
          "height": 125
        },
        "outputId": "b0adcab8-3144-4d69-c1e1-1735da85ade3"
      },
      "source": [
        "from google.colab import auth\n",
        "auth.authenticate_user()\n",
        "from google.colab import drive\n",
        "drive.mount('/content/gdrive', force_remount=True)"
      ],
      "execution_count": null,
      "outputs": [
        {
          "output_type": "stream",
          "text": [
            "Go to this URL in a browser: https://accounts.google.com/o/oauth2/auth?client_id=947318989803-6bn6qk8qdgf4n4g3pfee6491hc0brc4i.apps.googleusercontent.com&redirect_uri=urn%3aietf%3awg%3aoauth%3a2.0%3aoob&scope=email%20https%3a%2f%2fwww.googleapis.com%2fauth%2fdocs.test%20https%3a%2f%2fwww.googleapis.com%2fauth%2fdrive%20https%3a%2f%2fwww.googleapis.com%2fauth%2fdrive.photos.readonly%20https%3a%2f%2fwww.googleapis.com%2fauth%2fpeopleapi.readonly&response_type=code\n",
            "\n",
            "Enter your authorization code:\n",
            "··········\n",
            "Mounted at /content/gdrive\n"
          ],
          "name": "stdout"
        }
      ]
    },
    {
      "cell_type": "code",
      "metadata": {
        "id": "lnvAUXlFQOsr",
        "colab_type": "code",
        "colab": {
          "base_uri": "https://localhost:8080/",
          "height": 34
        },
        "outputId": "eefe4c8b-6acd-4edc-f690-d3459eb973e6"
      },
      "source": [
        "!pwd"
      ],
      "execution_count": null,
      "outputs": [
        {
          "output_type": "stream",
          "text": [
            "/content/dynamic-graph-embedding\n"
          ],
          "name": "stdout"
        }
      ]
    },
    {
      "cell_type": "markdown",
      "metadata": {
        "id": "uK_4D9jfFJep",
        "colab_type": "text"
      },
      "source": [
        "## Processed data"
      ]
    },
    {
      "cell_type": "code",
      "metadata": {
        "id": "vAu2y--OE-tX",
        "colab_type": "code",
        "colab": {
          "base_uri": "https://localhost:8080/",
          "height": 90
        },
        "outputId": "33746907-bd08-4dfa-f2e5-fe71c4885194"
      },
      "source": [
        "# Save processed data\n",
        "!zip -r ./processed_data_cit_hepth_link_pred.zip ./processed_data/cit_hepth_link_pred/\n",
        "!cp ./processed_data_cit_hepth_link_pred.zip /content/gdrive/Shared\\ drives/UNLIMITED\\ DRIVE/"
      ],
      "execution_count": null,
      "outputs": [
        {
          "output_type": "stream",
          "text": [
            "  adding: processed_data/cit_hepth_link_pred/ (stored 0%)\n",
            "  adding: processed_data/cit_hepth_link_pred/graph_5.json (deflated 75%)\n",
            "  adding: processed_data/cit_hepth_link_pred/graph5.edgelist (deflated 72%)\n"
          ],
          "name": "stdout"
        }
      ]
    },
    {
      "cell_type": "code",
      "metadata": {
        "id": "MQrRsmBDRkuY",
        "colab_type": "code",
        "colab": {
          "base_uri": "https://localhost:8080/",
          "height": 87
        },
        "outputId": "b25c6454-01c5-4df4-c80f-38aebd803b63"
      },
      "source": [
        "# Load processed data\n",
        "!cp /content/gdrive/Shared\\ drives/UNLIMITED\\ DRIVE/processed_data_cit_hepth_link_pred.zip ./\n",
        "!unzip processed_data_cit_hepth_link_pred.zip -d ./"
      ],
      "execution_count": null,
      "outputs": [
        {
          "output_type": "stream",
          "text": [
            "Archive:  processed_data_cit_hepth_link_pred.zip\n",
            "   creating: ./processed_data/cit_hepth_link_pred/\n",
            "  inflating: ./processed_data/cit_hepth_link_pred/graph_5.json  \n",
            "  inflating: ./processed_data/cit_hepth_link_pred/graph5.edgelist  \n"
          ],
          "name": "stdout"
        }
      ]
    },
    {
      "cell_type": "markdown",
      "metadata": {
        "id": "LkD-EDh4FNvR",
        "colab_type": "text"
      },
      "source": [
        "## Weight"
      ]
    },
    {
      "cell_type": "code",
      "metadata": {
        "id": "_zYNxUyuZnG6",
        "colab_type": "code",
        "colab": {
          "base_uri": "https://localhost:8080/",
          "height": 90
        },
        "outputId": "49a624b0-7e17-437c-a41f-9e8f3c054282"
      },
      "source": [
        "# Save weight\n",
        "!zip -r ./cit_hepth_weights_link_pred.zip ./models/cit_hepth_weights_link_pred/\n",
        "!cp ./cit_hepth_weights_link_pred.zip /content/gdrive/Shared\\ drives/UNLIMITED\\ DRIVE/"
      ],
      "execution_count": null,
      "outputs": [
        {
          "output_type": "stream",
          "text": [
            "\tzip warning: name not matched: ./models/cit_hepth_weights_link_pred/\n",
            "\n",
            "zip error: Nothing to do! (try: zip -r ./cit_hepth_weights_link_pred.zip . -i ./models/cit_hepth_weights_link_pred/)\n"
          ],
          "name": "stdout"
        }
      ]
    },
    {
      "cell_type": "code",
      "metadata": {
        "id": "Gck4WHu1R_q5",
        "colab_type": "code",
        "colab": {
          "base_uri": "https://localhost:8080/",
          "height": 250
        },
        "outputId": "6d25c2ac-2fc3-42ca-e28c-08ddd02dd63e"
      },
      "source": [
        "# Load weight\n",
        "!cp /content/gdrive/Shared\\ drives/UNLIMITED\\ DRIVE/cit_hepth_weights_link_pred.zip ./\n",
        "!unzip cit_hepth_weights_link_pred.zip -d ./"
      ],
      "execution_count": null,
      "outputs": [
        {
          "output_type": "stream",
          "text": [
            "Archive:  cit_hepth_weights_link_pred.zip\n",
            "replace ./models/cit_hepth_link_pred/graph_0.json? [y]es, [n]o, [A]ll, [N]one, [r]ename: A\n",
            "  inflating: ./models/cit_hepth_link_pred/graph_0.json  \n",
            "  inflating: ./models/cit_hepth_link_pred/graph_2.pt  \n",
            "  inflating: ./models/cit_hepth_link_pred/graph_1.json  \n",
            "  inflating: ./models/cit_hepth_link_pred/graph_3.json  \n",
            "  inflating: ./models/cit_hepth_link_pred/graph_3.pt  \n",
            "  inflating: ./models/cit_hepth_link_pred/graph_1.pt  \n",
            "  inflating: ./models/cit_hepth_link_pred/graph_4.pt  \n",
            "  inflating: ./models/cit_hepth_link_pred/graph_4.json  \n",
            "  inflating: ./models/cit_hepth_link_pred/graph_2.json  \n",
            "  inflating: ./models/cit_hepth_link_pred/graph_0.pt  \n"
          ],
          "name": "stdout"
        }
      ]
    },
    {
      "cell_type": "markdown",
      "metadata": {
        "id": "ztc8PDsvFSAB",
        "colab_type": "text"
      },
      "source": [
        "## Data"
      ]
    },
    {
      "cell_type": "code",
      "metadata": {
        "id": "bZVXNMVeTb4p",
        "colab_type": "code",
        "colab": {
          "base_uri": "https://localhost:8080/",
          "height": 123
        },
        "outputId": "bca932f8-37a0-41ae-848e-7aa1c2657f60"
      },
      "source": [
        "# Save data\n",
        "!zip -r ./cit_hepth.zip ./data/cit_hepth/\n",
        "!cp ./cit_hepth.zip /content/gdrive/Shared\\ drives/UNLIMITED\\ DRIVE/"
      ],
      "execution_count": null,
      "outputs": [
        {
          "output_type": "stream",
          "text": [
            "  adding: data/cit_hepth/ (stored 0%)\n",
            "  adding: data/cit_hepth/graph_00.edgelist (deflated 74%)\n",
            "  adding: data/cit_hepth/graph_02.edgelist (deflated 72%)\n",
            "  adding: data/cit_hepth/graph_03.edgelist (deflated 72%)\n",
            "  adding: data/cit_hepth/graph_01.edgelist (deflated 71%)\n",
            "  adding: data/cit_hepth/graph_04.edgelist (deflated 72%)\n"
          ],
          "name": "stdout"
        }
      ]
    },
    {
      "cell_type": "code",
      "metadata": {
        "id": "XLEhp8K4UgI6",
        "colab_type": "code",
        "colab": {
          "base_uri": "https://localhost:8080/",
          "height": 141
        },
        "outputId": "556187c0-b8cf-4c41-bb4e-8212466b9af1"
      },
      "source": [
        "# Load data\n",
        "!cp /content/gdrive/Shared\\ drives/UNLIMITED\\ DRIVE/cit_hepth_data.zip ./\n",
        "!unzip cit_hepth_data.zip -d ./"
      ],
      "execution_count": null,
      "outputs": [
        {
          "output_type": "stream",
          "text": [
            "Archive:  cit_hepth_data.zip\n",
            "   creating: ./data/cit_hepth/\n",
            "  inflating: ./data/cit_hepth/graph_04.edgelist  \n",
            "  inflating: ./data/cit_hepth/graph_03.edgelist  \n",
            "  inflating: ./data/cit_hepth/graph_02.edgelist  \n",
            "  inflating: ./data/cit_hepth/graph_01.edgelist  \n",
            "  inflating: ./data/cit_hepth/graph_00.edgelist  \n"
          ],
          "name": "stdout"
        }
      ]
    },
    {
      "cell_type": "markdown",
      "metadata": {
        "id": "0Y6X-4uo7Djz",
        "colab_type": "text"
      },
      "source": [
        "## Saved data folder"
      ]
    },
    {
      "cell_type": "code",
      "metadata": {
        "id": "4eiynNll7BWy",
        "colab_type": "code",
        "colab": {
          "base_uri": "https://localhost:8080/",
          "height": 532
        },
        "outputId": "0833074a-6ecf-4183-d8d9-d44a54088fc2"
      },
      "source": [
        "# Save data\n",
        "!zip -r ./cit_hepth_link_pred.zip ./saved_data ./data/cit_hepth\n",
        "!cp ./cit_hepth_link_pred.zip /content/gdrive/Shared\\ drives/UNLIMITED\\ DRIVE/"
      ],
      "execution_count": null,
      "outputs": [
        {
          "output_type": "stream",
          "text": [
            "updating: saved_data/ (stored 0%)\n",
            "updating: saved_data/.ipynb_checkpoints/ (stored 0%)\n",
            "updating: saved_data/sdne_models/ (stored 0%)\n",
            "updating: saved_data/sdne_models/.ipynb_checkpoints/ (stored 0%)\n",
            "updating: saved_data/sdne_models/cit_hepth_link_pred/ (stored 0%)\n",
            "updating: saved_data/sdne_models/cit_hepth_link_pred/.ipynb_checkpoints/ (stored 0%)\n",
            "updating: saved_data/sdne_models/cit_hepth_link_pred/graph_4.pt (deflated 7%)\n",
            "updating: saved_data/sdne_models/cit_hepth_link_pred/graph_4.json (deflated 25%)\n",
            "updating: saved_data/processed_data/ (stored 0%)\n",
            "updating: saved_data/processed_data/.ipynb_checkpoints/ (stored 0%)\n",
            "updating: saved_data/processed_data/cit_hepth_link_pred/ (stored 0%)\n",
            "updating: saved_data/processed_data/cit_hepth_link_pred/.ipynb_checkpoints/ (stored 0%)\n",
            "updating: saved_data/processed_data/cit_hepth_link_pred/graph_4.gpickle (deflated 58%)\n",
            "updating: saved_data/processed_data/cit_hepth_link_pred/graph_4.json (deflated 75%)\n",
            "updating: saved_data/node2vec_emb/ (stored 0%)\n",
            "updating: saved_data/node2vec_emb/cit_hepth_link_pred/ (stored 0%)\n",
            "updating: saved_data/node2vec_emb/soc_wiki_link_pred/ (stored 0%)\n",
            "updating: saved_data/node2vec_emb/cit_hepth_stability/ (stored 0%)\n",
            "updating: data/cit_hepth/ (stored 0%)\n",
            "updating: data/cit_hepth/graph_01.edgelist (deflated 71%)\n",
            "updating: data/cit_hepth/graph_00.edgelist (deflated 74%)\n",
            "updating: data/cit_hepth/graph_04.edgelist (deflated 72%)\n",
            "updating: data/cit_hepth/graph_03.edgelist (deflated 72%)\n",
            "updating: data/cit_hepth/graph_02.edgelist (deflated 72%)\n",
            "updating: saved_data/embeddings/ (stored 0%)\n",
            "updating: saved_data/embeddings/cit_hepth_link_pred/ (stored 0%)\n",
            "updating: saved_data/models/ (stored 0%)\n",
            "updating: saved_data/models/cit_hepth_link_pred/ (stored 0%)\n",
            "updating: saved_data/node2vec_emb/cit_hepth_link_pred/n2v_emb (deflated 56%)\n"
          ],
          "name": "stdout"
        }
      ]
    },
    {
      "cell_type": "code",
      "metadata": {
        "id": "JkpfjPiH7Qyo",
        "colab_type": "code",
        "colab": {}
      },
      "source": [
        "# Load data\n",
        "!cp /content/gdrive/Shared\\ drives/UNLIMITED\\ DRIVE/cit_hepth_link_pred.zip ./\n",
        "!unzip cit_hepth_link_pred.zip -d ./"
      ],
      "execution_count": null,
      "outputs": []
    },
    {
      "cell_type": "markdown",
      "metadata": {
        "id": "_yJLltZjktXC",
        "colab_type": "text"
      },
      "source": [
        "# Library"
      ]
    },
    {
      "cell_type": "code",
      "metadata": {
        "id": "sBPKfDebdFr_",
        "colab_type": "code",
        "colab": {}
      },
      "source": [
        "import networkx as nx\n",
        "import warnings\n",
        "import torch\n",
        "import os\n",
        "import matplotlib.pyplot as plt \n",
        "\n",
        "warnings.filterwarnings(\"ignore\")\n",
        "%matplotlib inline"
      ],
      "execution_count": null,
      "outputs": []
    },
    {
      "cell_type": "code",
      "metadata": {
        "id": "OUMUQlYvfvcd",
        "colab_type": "code",
        "colab": {
          "base_uri": "https://localhost:8080/"
        },
        "outputId": "9f9f4c27-09ad-4df7-82ad-c0b4db043162"
      },
      "source": [
        "device = torch.device(\"cuda\" if torch.cuda.is_available() else \"cpu\")\n",
        "device"
      ],
      "execution_count": null,
      "outputs": [
        {
          "output_type": "execute_result",
          "data": {
            "text/plain": [
              "device(type='cuda')"
            ]
          },
          "metadata": {
            "tags": []
          },
          "execution_count": 2
        }
      ]
    },
    {
      "cell_type": "markdown",
      "metadata": {
        "id": "PDUsqrnckwNp",
        "colab_type": "text"
      },
      "source": [
        "# Download repo\n",
        "Run this part firstly"
      ]
    },
    {
      "cell_type": "code",
      "metadata": {
        "id": "HmE-fygBPo-T",
        "colab_type": "code",
        "colab": {}
      },
      "source": [
        "# %cd ..\n",
        "# !rm -rf ./dynamic-graph-embedding"
      ],
      "execution_count": null,
      "outputs": []
    },
    {
      "cell_type": "code",
      "metadata": {
        "id": "vRtM6gr_mtgf",
        "colab_type": "code",
        "colab": {
          "base_uri": "https://localhost:8080/"
        },
        "outputId": "1d9a973f-2a57-4969-ae99-082e573c75ed"
      },
      "source": [
        "!git clone https://github.com/hxtruong/dynamic-graph-embedding"
      ],
      "execution_count": null,
      "outputs": [
        {
          "output_type": "stream",
          "text": [
            "Cloning into 'dynamic-graph-embedding'...\n",
            "remote: Enumerating objects: 699, done.\u001b[K\n",
            "remote: Counting objects: 100% (699/699), done.\u001b[K\n",
            "remote: Compressing objects: 100% (454/454), done.\u001b[K\n",
            "remote: Total 699 (delta 455), reused 471 (delta 227), pack-reused 0\u001b[K\n",
            "Receiving objects: 100% (699/699), 2.31 MiB | 1.62 MiB/s, done.\n",
            "Resolving deltas: 100% (455/455), done.\n"
          ],
          "name": "stdout"
        }
      ]
    },
    {
      "cell_type": "code",
      "metadata": {
        "id": "G_fVSjKGnv0c",
        "colab_type": "code",
        "colab": {
          "base_uri": "https://localhost:8080/"
        },
        "outputId": "b8ca036d-52c4-42c6-d713-ea7328036f40"
      },
      "source": [
        "%cd ./dynamic-graph-embedding/"
      ],
      "execution_count": null,
      "outputs": [
        {
          "output_type": "stream",
          "text": [
            "/content/dynamic-graph-embedding\n"
          ],
          "name": "stdout"
        }
      ]
    },
    {
      "cell_type": "code",
      "metadata": {
        "id": "cQdHCNH4Pxhk",
        "colab_type": "code",
        "colab": {}
      },
      "source": [
        "# !git reset --hard\n",
        "# !git pull"
      ],
      "execution_count": null,
      "outputs": []
    },
    {
      "cell_type": "code",
      "metadata": {
        "id": "4HmueSO2yqP_",
        "colab_type": "code",
        "colab": {}
      },
      "source": [
        "# !pip install -r requirements.txt"
      ],
      "execution_count": null,
      "outputs": []
    },
    {
      "cell_type": "code",
      "metadata": {
        "id": "N-7-CNwD1ecd",
        "colab_type": "code",
        "colab": {
          "base_uri": "https://localhost:8080/"
        },
        "outputId": "9e5b8803-1c9c-481e-9a0f-d35a879899e4"
      },
      "source": [
        "!pip install node2vec"
      ],
      "execution_count": null,
      "outputs": [
        {
          "output_type": "stream",
          "text": [
            "Collecting node2vec\n",
            "  Downloading https://files.pythonhosted.org/packages/c0/da/7f0c49433ef91033e21d523e82be1570074a5d6ab8c74f8771774e9d2fd1/node2vec-0.3.2-py3-none-any.whl\n",
            "Requirement already satisfied: networkx in /usr/local/lib/python3.6/dist-packages (from node2vec) (2.4)\n",
            "Requirement already satisfied: tqdm in /usr/local/lib/python3.6/dist-packages (from node2vec) (4.41.1)\n",
            "Requirement already satisfied: numpy in /usr/local/lib/python3.6/dist-packages (from node2vec) (1.18.5)\n",
            "Requirement already satisfied: joblib>=0.13.2 in /usr/local/lib/python3.6/dist-packages (from node2vec) (0.16.0)\n",
            "Requirement already satisfied: gensim in /usr/local/lib/python3.6/dist-packages (from node2vec) (3.6.0)\n",
            "Requirement already satisfied: decorator>=4.3.0 in /usr/local/lib/python3.6/dist-packages (from networkx->node2vec) (4.4.2)\n",
            "Requirement already satisfied: smart-open>=1.2.1 in /usr/local/lib/python3.6/dist-packages (from gensim->node2vec) (2.1.0)\n",
            "Requirement already satisfied: scipy>=0.18.1 in /usr/local/lib/python3.6/dist-packages (from gensim->node2vec) (1.4.1)\n",
            "Requirement already satisfied: six>=1.5.0 in /usr/local/lib/python3.6/dist-packages (from gensim->node2vec) (1.15.0)\n",
            "Requirement already satisfied: boto in /usr/local/lib/python3.6/dist-packages (from smart-open>=1.2.1->gensim->node2vec) (2.49.0)\n",
            "Requirement already satisfied: requests in /usr/local/lib/python3.6/dist-packages (from smart-open>=1.2.1->gensim->node2vec) (2.23.0)\n",
            "Requirement already satisfied: boto3 in /usr/local/lib/python3.6/dist-packages (from smart-open>=1.2.1->gensim->node2vec) (1.14.37)\n",
            "Requirement already satisfied: idna<3,>=2.5 in /usr/local/lib/python3.6/dist-packages (from requests->smart-open>=1.2.1->gensim->node2vec) (2.10)\n",
            "Requirement already satisfied: urllib3!=1.25.0,!=1.25.1,<1.26,>=1.21.1 in /usr/local/lib/python3.6/dist-packages (from requests->smart-open>=1.2.1->gensim->node2vec) (1.24.3)\n",
            "Requirement already satisfied: chardet<4,>=3.0.2 in /usr/local/lib/python3.6/dist-packages (from requests->smart-open>=1.2.1->gensim->node2vec) (3.0.4)\n",
            "Requirement already satisfied: certifi>=2017.4.17 in /usr/local/lib/python3.6/dist-packages (from requests->smart-open>=1.2.1->gensim->node2vec) (2020.6.20)\n",
            "Requirement already satisfied: jmespath<1.0.0,>=0.7.1 in /usr/local/lib/python3.6/dist-packages (from boto3->smart-open>=1.2.1->gensim->node2vec) (0.10.0)\n",
            "Requirement already satisfied: s3transfer<0.4.0,>=0.3.0 in /usr/local/lib/python3.6/dist-packages (from boto3->smart-open>=1.2.1->gensim->node2vec) (0.3.3)\n",
            "Requirement already satisfied: botocore<1.18.0,>=1.17.37 in /usr/local/lib/python3.6/dist-packages (from boto3->smart-open>=1.2.1->gensim->node2vec) (1.17.37)\n",
            "Requirement already satisfied: python-dateutil<3.0.0,>=2.1 in /usr/local/lib/python3.6/dist-packages (from botocore<1.18.0,>=1.17.37->boto3->smart-open>=1.2.1->gensim->node2vec) (2.8.1)\n",
            "Requirement already satisfied: docutils<0.16,>=0.10 in /usr/local/lib/python3.6/dist-packages (from botocore<1.18.0,>=1.17.37->boto3->smart-open>=1.2.1->gensim->node2vec) (0.15.2)\n",
            "Installing collected packages: node2vec\n",
            "Successfully installed node2vec-0.3.2\n"
          ],
          "name": "stdout"
        }
      ]
    },
    {
      "cell_type": "markdown",
      "metadata": {
        "id": "NlDRdr08IZG-",
        "colab_type": "text"
      },
      "source": [
        "# Download dataset\n",
        "For not running Drive part (#0)"
      ]
    },
    {
      "cell_type": "code",
      "metadata": {
        "id": "3RypdU8HUVG3",
        "colab_type": "code",
        "colab": {
          "base_uri": "https://localhost:8080/",
          "height": 34
        },
        "outputId": "9cfe88a6-bc36-407f-b5d7-3d07be076d38"
      },
      "source": [
        "!pwd"
      ],
      "execution_count": null,
      "outputs": [
        {
          "output_type": "stream",
          "text": [
            "/content/dynamic-graph-embedding\n"
          ],
          "name": "stdout"
        }
      ]
    },
    {
      "cell_type": "code",
      "metadata": {
        "id": "cWDP0VsHK5DG",
        "colab_type": "code",
        "colab": {}
      },
      "source": [
        "# !mkdir data\n",
        "!mkdir data/cit_hepth"
      ],
      "execution_count": null,
      "outputs": []
    },
    {
      "cell_type": "code",
      "metadata": {
        "id": "x4RpmWUwQTYb",
        "colab_type": "code",
        "colab": {}
      },
      "source": [
        "# !rm -rf data/cit_hepth"
      ],
      "execution_count": null,
      "outputs": []
    },
    {
      "cell_type": "code",
      "metadata": {
        "id": "QNBbBCaJIcY2",
        "colab_type": "code",
        "colab": {
          "base_uri": "https://localhost:8080/",
          "height": 605
        },
        "outputId": "8c6d4a28-914d-4f42-97cf-d9cc7b5eafa8"
      },
      "source": [
        "# note set NUMBER_SAVE_GRAPH = 5 in file - TRICK\n",
        "!python examples/get_cit_hepth_data.py"
      ],
      "execution_count": null,
      "outputs": [
        {
          "output_type": "stream",
          "text": [
            "['% sym unweighted\\n', '1 2 1 1015887601\\n', '1 3 1 1015887601\\n', '1 4 1 1015887601\\n', '1 5 1 1015887601\\n', '1 6 1 1015887601\\n']\n",
            "[[1, 5, 1, 1015887601], [1, 6, 1, 1015887601], [1, 7, 1, 1015887601], [1, 8, 1, 1015887601]]\n",
            "\n",
            "node_1       int64\n",
            "node_2       int64\n",
            "weight       int64\n",
            "timestamp    int64\n",
            "dtype: object\n",
            "<class 'pandas.core.frame.DataFrame'>\n",
            "RangeIndex: 2673130 entries, 0 to 2673129\n",
            "Data columns (total 4 columns):\n",
            " #   Column     Dtype\n",
            "---  ------     -----\n",
            " 0   node_1     int64\n",
            " 1   node_2     int64\n",
            " 2   weight     int64\n",
            " 3   timestamp  int64\n",
            "dtypes: int64(4)\n",
            "memory usage: 81.6 MB\n",
            "Start time:  1993-09-30 23:00:00\n",
            "[0|\tUpper_time= 1995-02-26 23:00:00\t |Row|= 6514\n",
            "[1|\tUpper_time= 1996-07-24 23:00:00\t |Row|= 26938\n",
            "[2|\tUpper_time= 1997-12-20 23:00:00\t |Row|= 130085\n",
            "[3|\tUpper_time= 1999-05-18 23:00:00\t |Row|= 223589\n",
            "[4|\tUpper_time= 2000-10-13 23:00:00\t |Row|= 290597\n",
            "[5|\tUpper_time= 2002-03-11 23:00:00\t |Row|= 290597\n",
            "Graph 1:\t|V|=619\t|E|=6374\n",
            "Graph 2:\t|V|=1660\t|E|=23654\n",
            "Graph 3:\t|V|=3699\t|E|=99588\n",
            "Graph 4:\t|V|=5654\t|E|=167731\n",
            "Graph 5:\t|V|=6798\t|E|=214693\n",
            "Graph 6:\t|V|=22908\t|E|=2444795\n"
          ],
          "name": "stdout"
        }
      ]
    },
    {
      "cell_type": "code",
      "metadata": {
        "id": "ApKBEOueqJwA",
        "colab_type": "code",
        "colab": {
          "base_uri": "https://localhost:8080/",
          "height": 52
        },
        "outputId": "8a7b16f9-4cf6-4c4c-f7cb-be5595a10273"
      },
      "source": [
        "!ls data/cit_hepth"
      ],
      "execution_count": null,
      "outputs": [
        {
          "output_type": "stream",
          "text": [
            "graph_00.edgelist  graph_02.edgelist  graph_04.edgelist\n",
            "graph_01.edgelist  graph_03.edgelist  graph_05.edgelist\n"
          ],
          "name": "stdout"
        }
      ]
    },
    {
      "cell_type": "markdown",
      "metadata": {
        "id": "a97dCKe2JIkL",
        "colab_type": "text"
      },
      "source": [
        "# Training\n",
        "\n"
      ]
    },
    {
      "cell_type": "code",
      "metadata": {
        "id": "op01kfukLS5V",
        "colab_type": "code",
        "colab": {}
      },
      "source": [
        "!cp examples/dataset_with_link_pred.py ./"
      ],
      "execution_count": null,
      "outputs": []
    },
    {
      "cell_type": "code",
      "metadata": {
        "id": "GzPdZl9RK0pM",
        "colab_type": "code",
        "colab": {}
      },
      "source": [
        "!rm -rf /content/dynamic-graph-embedding/saved_data/embeddings"
      ],
      "execution_count": null,
      "outputs": []
    },
    {
      "cell_type": "markdown",
      "metadata": {
        "id": "TptxUYYVSafs",
        "colab_type": "text"
      },
      "source": [
        "## DynGEM"
      ]
    },
    {
      "cell_type": "code",
      "metadata": {
        "id": "nOsX_6B7JBuM",
        "colab_type": "code",
        "colab": {}
      },
      "source": [
        "!python dataset_with_link_pred.py"
      ],
      "execution_count": null,
      "outputs": []
    },
    {
      "cell_type": "markdown",
      "metadata": {
        "id": "8_3aZh-FSf9d",
        "colab_type": "text"
      },
      "source": [
        "## Node2Vec\n"
      ]
    },
    {
      "cell_type": "markdown",
      "metadata": {
        "id": "SSGVWEZ9SrC4",
        "colab_type": "text"
      },
      "source": [
        "Set parameter: \n",
        "```\n",
        "is_dyngem = False\n",
        "is_node2vec = True\n",
        "```"
      ]
    },
    {
      "cell_type": "code",
      "metadata": {
        "id": "oDkiqmfMShdB",
        "colab_type": "code",
        "colab": {
          "base_uri": "https://localhost:8080/",
          "height": 1000
        },
        "outputId": "81a796ae-821b-4bbd-dc25-88c24fc5a20b"
      },
      "source": [
        "!python dataset_with_link_pred.py"
      ],
      "execution_count": null,
      "outputs": [
        {
          "output_type": "stream",
          "text": [
            "[0]Reading graph_00.edgelist\n",
            "[1]Reading graph_01.edgelist\n",
            "[2]Reading graph_02.edgelist\n",
            "[3]Reading graph_03.edgelist\n",
            "[4]Reading graph_04.edgelist\n",
            "Start convert graph to index ... 2.68s\n",
            "Number graphs:  5\n",
            "Origin graphs:\n",
            "Graph 0: |V|=619\t |E|=6374\tIsolate nodes: 0\n",
            "Graph 1: |V|=1660\t |E|=23654\tIsolate nodes: 0\n",
            "Graph 2: |V|=3699\t |E|=99588\tIsolate nodes: 0\n",
            "Graph 3: |V|=5654\t |E|=167731\tIsolate nodes: 0\n",
            "Graph 4: |V|=6798\t |E|=214693\tIsolate nodes: 0\n",
            "Load processed data from disk...\n",
            "After processing for link prediction graphs:\n",
            "Graph 0: |V|=619\t |E|=6374\tIsolate nodes: 0\n",
            "Graph 1: |V|=1660\t |E|=23654\tIsolate nodes: 0\n",
            "Graph 2: |V|=3699\t |E|=99588\tIsolate nodes: 0\n",
            "Graph 3: |V|=5654\t |E|=167731\tIsolate nodes: 0\n",
            "Graph 4: |V|=6798\t |E|=171754\tIsolate nodes: 0\n",
            "=============== Node2vec ============\n",
            "Computing transition probabilities: 100% 6798/6798 [03:24<00:00, 33.29it/s]  \n",
            "Generating walks (CPU: 1): 100% 10/10 [08:27<00:00, 50.73s/it]\n",
            "Generating walks (CPU: 2): 100% 10/10 [08:22<00:00, 50.25s/it]\n",
            "\n",
            "-->Run link predict evaluation ---\n",
            "train_test_split\n",
            "|Link=1|=42939\t|Link=0|=386451\t\t|Percent Link=1/Link=0|=0.1111\n",
            "Training until validation scores don't improve for 100 rounds.\n",
            "[100]\tvalid_0's auc: 0.9762\n",
            "[200]\tvalid_0's auc: 0.984663\n",
            "[300]\tvalid_0's auc: 0.988283\n",
            "[400]\tvalid_0's auc: 0.99017\n",
            "[500]\tvalid_0's auc: 0.991389\n",
            "[600]\tvalid_0's auc: 0.992298\n",
            "[700]\tvalid_0's auc: 0.992951\n",
            "[800]\tvalid_0's auc: 0.993466\n",
            "[900]\tvalid_0's auc: 0.993855\n",
            "[1000]\tvalid_0's auc: 0.994186\n",
            "[1100]\tvalid_0's auc: 0.994446\n",
            "[1200]\tvalid_0's auc: 0.99468\n",
            "[1300]\tvalid_0's auc: 0.9949\n",
            "[1400]\tvalid_0's auc: 0.995045\n",
            "[1500]\tvalid_0's auc: 0.995196\n",
            "[1600]\tvalid_0's auc: 0.995342\n",
            "[1700]\tvalid_0's auc: 0.995409\n",
            "[1800]\tvalid_0's auc: 0.995531\n",
            "[1900]\tvalid_0's auc: 0.995615\n",
            "[2000]\tvalid_0's auc: 0.995705\n",
            "[2100]\tvalid_0's auc: 0.995791\n",
            "[2200]\tvalid_0's auc: 0.99586\n",
            "[2300]\tvalid_0's auc: 0.995955\n",
            "[2400]\tvalid_0's auc: 0.996022\n",
            "[2500]\tvalid_0's auc: 0.996068\n",
            "[2600]\tvalid_0's auc: 0.99614\n",
            "[2700]\tvalid_0's auc: 0.996189\n",
            "[2800]\tvalid_0's auc: 0.996219\n",
            "[2900]\tvalid_0's auc: 0.996259\n",
            "[3000]\tvalid_0's auc: 0.996311\n",
            "[3100]\tvalid_0's auc: 0.996379\n",
            "[3200]\tvalid_0's auc: 0.9964\n",
            "[3300]\tvalid_0's auc: 0.99643\n",
            "[3400]\tvalid_0's auc: 0.996453\n",
            "[3500]\tvalid_0's auc: 0.996491\n",
            "[3600]\tvalid_0's auc: 0.996522\n",
            "[3700]\tvalid_0's auc: 0.996545\n",
            "[3800]\tvalid_0's auc: 0.996564\n",
            "[3900]\tvalid_0's auc: 0.996592\n",
            "[4000]\tvalid_0's auc: 0.996635\n",
            "[4100]\tvalid_0's auc: 0.996656\n",
            "[4200]\tvalid_0's auc: 0.996673\n",
            "[4300]\tvalid_0's auc: 0.996692\n",
            "[4400]\tvalid_0's auc: 0.996707\n",
            "[4500]\tvalid_0's auc: 0.99673\n",
            "[4600]\tvalid_0's auc: 0.996767\n",
            "[4700]\tvalid_0's auc: 0.996788\n",
            "[4800]\tvalid_0's auc: 0.996801\n",
            "[4900]\tvalid_0's auc: 0.996796\n",
            "[5000]\tvalid_0's auc: 0.996809\n",
            "[5100]\tvalid_0's auc: 0.996825\n",
            "[5200]\tvalid_0's auc: 0.996841\n",
            "[5300]\tvalid_0's auc: 0.996865\n",
            "[5400]\tvalid_0's auc: 0.996862\n",
            "Early stopping, best iteration is:\n",
            "[5339]\tvalid_0's auc: 0.996872\n",
            "#----\n",
            "ROC AUC Score: 1.0\n"
          ],
          "name": "stdout"
        }
      ]
    },
    {
      "cell_type": "markdown",
      "metadata": {
        "id": "icN3HdE_JeME",
        "colab_type": "text"
      },
      "source": [
        "## SDNE\n",
        "`is_sdne = True`\n"
      ]
    },
    {
      "cell_type": "markdown",
      "metadata": {
        "id": "OxWV1K-QFzE4",
        "colab_type": "text"
      },
      "source": [
        "`LOSS = 20090912.0000 -> 2597062.5000 -> 28123302.0000 -> 24504146.0000` "
      ]
    },
    {
      "cell_type": "code",
      "metadata": {
        "id": "uyyrcGiqJfnN",
        "colab_type": "code",
        "colab": {
          "base_uri": "https://localhost:8080/",
          "height": 1000
        },
        "outputId": "7d0a6599-7d1c-4fd8-ac36-8bf36651ee36"
      },
      "source": [
        "!python dataset_with_link_pred.py"
      ],
      "execution_count": null,
      "outputs": [
        {
          "output_type": "stream",
          "text": [
            "[0]Reading graph_00.edgelist\n",
            "[1]Reading graph_01.edgelist\n",
            "[2]Reading graph_02.edgelist\n",
            "[3]Reading graph_03.edgelist\n",
            "[4]Reading graph_04.edgelist\n",
            "Start convert graph to index ... 3.0s\n",
            "Number graphs:  5\n",
            "Origin graphs:\n",
            "Graph 0: |V|=619\t |E|=6374\tIsolate nodes: 0\n",
            "Graph 1: |V|=1660\t |E|=23654\tIsolate nodes: 0\n",
            "Graph 2: |V|=3699\t |E|=99588\tIsolate nodes: 0\n",
            "Graph 3: |V|=5654\t |E|=167731\tIsolate nodes: 0\n",
            "Graph 4: |V|=6798\t |E|=214693\tIsolate nodes: 0\n",
            "Load processed data from disk...\n",
            "After processing for link prediction graphs:\n",
            "Graph 0: |V|=619\t |E|=6374\tIsolate nodes: 0\n",
            "Graph 1: |V|=1660\t |E|=23654\tIsolate nodes: 0\n",
            "Graph 2: |V|=3699\t |E|=99588\tIsolate nodes: 0\n",
            "Graph 3: |V|=5654\t |E|=167731\tIsolate nodes: 0\n",
            "Graph 4: |V|=6798\t |E|=171754\tIsolate nodes: 0\n",
            "=============== SDNE ============\n",
            "[4] SDNE load model...\n",
            "[4] SDNE train model...\n",
            "Epoch [1/4000] \t\tloss:2215990.0000 \t\ttime:1.32s\n",
            "Epoch [100/4000] \t\tloss:2027822.5000 \t\ttime:1.03s\n",
            "Epoch [200/4000] \t\tloss:1849849.1250 \t\ttime:1.02s\n",
            "Epoch [300/4000] \t\tloss:1626835.3750 \t\ttime:1.03s\n",
            "Epoch [400/4000] \t\tloss:1475626.1250 \t\ttime:1.07s\n",
            "Epoch [500/4000] \t\tloss:1292459.5000 \t\ttime:1.04s\n",
            "Epoch [600/4000] \t\tloss:1204703.1250 \t\ttime:1.15s\n",
            "Epoch [700/4000] \t\tloss:1085136.1250 \t\ttime:1.15s\n",
            "Epoch [800/4000] \t\tloss:986494.2500 \t\ttime:1.04s\n",
            "Epoch [900/4000] \t\tloss:957193.1250 \t\ttime:1.05s\n",
            "Epoch [1000/4000] \t\tloss:867240.7500 \t\ttime:1.03s\n",
            "Epoch [1100/4000] \t\tloss:802209.3750 \t\ttime:1.04s\n",
            "Epoch [1200/4000] \t\tloss:763185.0000 \t\ttime:1.05s\n",
            "Epoch [1300/4000] \t\tloss:741530.8750 \t\ttime:1.15s\n",
            "Epoch [1400/4000] \t\tloss:617254.0000 \t\ttime:1.20s\n",
            "Epoch [1500/4000] \t\tloss:626313.7500 \t\ttime:1.03s\n",
            "Epoch [1600/4000] \t\tloss:576262.2500 \t\ttime:1.04s\n",
            "Epoch [1700/4000] \t\tloss:521172.7500 \t\ttime:1.03s\n",
            "Epoch [1800/4000] \t\tloss:498355.2500 \t\ttime:1.09s\n",
            "Epoch [1900/4000] \t\tloss:476167.1250 \t\ttime:1.05s\n",
            "Epoch [2000/4000] \t\tloss:506734.5000 \t\ttime:1.03s\n",
            "Epoch [2100/4000] \t\tloss:439112.6250 \t\ttime:1.18s\n",
            "Epoch [2200/4000] \t\tloss:436968.7500 \t\ttime:1.05s\n",
            "Epoch [2300/4000] \t\tloss:404478.3750 \t\ttime:1.03s\n",
            "Epoch [2400/4000] \t\tloss:418739.3750 \t\ttime:1.05s\n",
            "Epoch [2500/4000] \t\tloss:399858.7500 \t\ttime:1.04s\n",
            "Epoch [2600/4000] \t\tloss:375728.6250 \t\ttime:1.04s\n",
            "Epoch [2700/4000] \t\tloss:342830.5000 \t\ttime:1.06s\n",
            "Epoch [2800/4000] \t\tloss:360510.1250 \t\ttime:1.15s\n",
            "Epoch [2900/4000] \t\tloss:320985.0000 \t\ttime:1.03s\n",
            "Epoch [3000/4000] \t\tloss:340252.5000 \t\ttime:1.06s\n",
            "Epoch [3100/4000] \t\tloss:263663.3750 \t\ttime:1.06s\n",
            "Epoch [3200/4000] \t\tloss:256088.6250 \t\ttime:1.03s\n",
            "Epoch [3300/4000] \t\tloss:239120.7500 \t\ttime:1.04s\n",
            "Epoch [3400/4000] \t\tloss:233782.5000 \t\ttime:1.05s\n",
            "Epoch [3500/4000] \t\tloss:234502.1250 \t\ttime:1.15s\n",
            "Epoch [3600/4000] \t\tloss:211591.6250 \t\ttime:1.19s\n",
            "Epoch [3700/4000] \t\tloss:227300.5000 \t\ttime:1.07s\n",
            "Epoch [3800/4000] \t\tloss:198394.0000 \t\ttime:1.04s\n",
            "Epoch [3900/4000] \t\tloss:214470.1250 \t\ttime:1.03s\n",
            "Epoch [4000/4000] \t\tloss:214494.0000 \t\ttime:1.04s\n",
            "<Figure size 640x480 with 1 Axes>\n",
            "\n",
            "-->Run link predict evaluation ---\n",
            "train_test_split\n",
            "|Link=1|=42939\t|Link=0|=386451\t\t|Percent Link=1/Link=0|=0.1111\n",
            "Training until validation scores don't improve for 100 rounds.\n",
            "[100]\tvalid_0's auc: 0.784546\n",
            "[200]\tvalid_0's auc: 0.808793\n",
            "[300]\tvalid_0's auc: 0.822492\n",
            "[400]\tvalid_0's auc: 0.832536\n",
            "[500]\tvalid_0's auc: 0.838334\n",
            "[600]\tvalid_0's auc: 0.841671\n",
            "[700]\tvalid_0's auc: 0.84561\n",
            "[800]\tvalid_0's auc: 0.849838\n",
            "[900]\tvalid_0's auc: 0.852713\n",
            "[1000]\tvalid_0's auc: 0.854022\n",
            "[1100]\tvalid_0's auc: 0.857191\n",
            "[1200]\tvalid_0's auc: 0.858705\n",
            "[1300]\tvalid_0's auc: 0.860695\n",
            "[1400]\tvalid_0's auc: 0.862607\n",
            "[1500]\tvalid_0's auc: 0.863815\n",
            "[1600]\tvalid_0's auc: 0.864345\n",
            "[1700]\tvalid_0's auc: 0.865942\n",
            "[1800]\tvalid_0's auc: 0.867207\n",
            "[1900]\tvalid_0's auc: 0.867697\n",
            "[2000]\tvalid_0's auc: 0.86906\n",
            "[2100]\tvalid_0's auc: 0.869696\n",
            "[2200]\tvalid_0's auc: 0.869976\n",
            "[2300]\tvalid_0's auc: 0.870651\n",
            "[2400]\tvalid_0's auc: 0.87116\n",
            "[2500]\tvalid_0's auc: 0.87132\n",
            "[2600]\tvalid_0's auc: 0.8717\n",
            "[2700]\tvalid_0's auc: 0.871929\n",
            "[2800]\tvalid_0's auc: 0.872267\n",
            "[2900]\tvalid_0's auc: 0.872729\n",
            "[3000]\tvalid_0's auc: 0.873085\n",
            "[3100]\tvalid_0's auc: 0.873669\n",
            "[3200]\tvalid_0's auc: 0.874208\n",
            "[3300]\tvalid_0's auc: 0.874746\n",
            "[3400]\tvalid_0's auc: 0.875189\n",
            "[3500]\tvalid_0's auc: 0.875296\n",
            "Early stopping, best iteration is:\n",
            "[3449]\tvalid_0's auc: 0.875681\n",
            "#----\n",
            "ROC AUC Score: 0.88\n"
          ],
          "name": "stdout"
        }
      ]
    },
    {
      "cell_type": "code",
      "metadata": {
        "id": "CyjH1w5J9SGF",
        "colab_type": "code",
        "colab": {}
      },
      "source": [
        ""
      ],
      "execution_count": null,
      "outputs": []
    }
  ]
}