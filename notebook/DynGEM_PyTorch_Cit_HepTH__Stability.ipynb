{
  "nbformat": 4,
  "nbformat_minor": 0,
  "metadata": {
    "colab": {
      "name": "DynGEM_PyTorch_Cit_HepTH__Stability.ipynb",
      "provenance": [],
      "collapsed_sections": [
        "uK_4D9jfFJep",
        "LkD-EDh4FNvR",
        "ztc8PDsvFSAB",
        "_yJLltZjktXC",
        "PDUsqrnckwNp",
        "NlDRdr08IZG-"
      ]
    },
    "kernelspec": {
      "name": "python3",
      "display_name": "Python 3"
    },
    "accelerator": "GPU"
  },
  "cells": [
    {
      "cell_type": "markdown",
      "metadata": {
        "id": "bmPcfxjMP9mN",
        "colab_type": "text"
      },
      "source": [
        "# 0.Transffering drive data\n",
        "Run this code if resuming training (Not recommend- should train from scratch)"
      ]
    },
    {
      "cell_type": "code",
      "metadata": {
        "id": "otCVPODxQN5J",
        "colab_type": "code",
        "colab": {
          "base_uri": "https://localhost:8080/",
          "height": 125
        },
        "outputId": "ab4cdd36-cf8c-4b6a-8bd7-410c58f66651"
      },
      "source": [
        "from google.colab import auth\n",
        "auth.authenticate_user()\n",
        "from google.colab import drive\n",
        "drive.mount('/content/gdrive', force_remount=True)"
      ],
      "execution_count": 9,
      "outputs": [
        {
          "output_type": "stream",
          "text": [
            "Go to this URL in a browser: https://accounts.google.com/o/oauth2/auth?client_id=947318989803-6bn6qk8qdgf4n4g3pfee6491hc0brc4i.apps.googleusercontent.com&redirect_uri=urn%3aietf%3awg%3aoauth%3a2.0%3aoob&scope=email%20https%3a%2f%2fwww.googleapis.com%2fauth%2fdocs.test%20https%3a%2f%2fwww.googleapis.com%2fauth%2fdrive%20https%3a%2f%2fwww.googleapis.com%2fauth%2fdrive.photos.readonly%20https%3a%2f%2fwww.googleapis.com%2fauth%2fpeopleapi.readonly&response_type=code\n",
            "\n",
            "Enter your authorization code:\n",
            "··········\n",
            "Mounted at /content/gdrive\n"
          ],
          "name": "stdout"
        }
      ]
    },
    {
      "cell_type": "code",
      "metadata": {
        "id": "lnvAUXlFQOsr",
        "colab_type": "code",
        "colab": {
          "base_uri": "https://localhost:8080/",
          "height": 34
        },
        "outputId": "215face7-25f3-48e5-8224-1d57661316cf"
      },
      "source": [
        "!pwd"
      ],
      "execution_count": null,
      "outputs": [
        {
          "output_type": "stream",
          "text": [
            "/content/dynamic-graph-embedding\n"
          ],
          "name": "stdout"
        }
      ]
    },
    {
      "cell_type": "markdown",
      "metadata": {
        "id": "uK_4D9jfFJep",
        "colab_type": "text"
      },
      "source": [
        "## Processed data"
      ]
    },
    {
      "cell_type": "code",
      "metadata": {
        "id": "vAu2y--OE-tX",
        "colab_type": "code",
        "colab": {
          "base_uri": "https://localhost:8080/",
          "height": 90
        },
        "outputId": "33746907-bd08-4dfa-f2e5-fe71c4885194"
      },
      "source": [
        "# Save processed data\n",
        "!zip -r ./processed_data_cit_hepth_link_pred.zip ./processed_data/cit_hepth_link_pred/\n",
        "!cp ./processed_data_cit_hepth_link_pred.zip /content/gdrive/Shared\\ drives/UNLIMITED\\ DRIVE/"
      ],
      "execution_count": null,
      "outputs": [
        {
          "output_type": "stream",
          "text": [
            "  adding: processed_data/cit_hepth_link_pred/ (stored 0%)\n",
            "  adding: processed_data/cit_hepth_link_pred/graph_5.json (deflated 75%)\n",
            "  adding: processed_data/cit_hepth_link_pred/graph5.edgelist (deflated 72%)\n"
          ],
          "name": "stdout"
        }
      ]
    },
    {
      "cell_type": "code",
      "metadata": {
        "id": "MQrRsmBDRkuY",
        "colab_type": "code",
        "colab": {
          "base_uri": "https://localhost:8080/",
          "height": 87
        },
        "outputId": "b25c6454-01c5-4df4-c80f-38aebd803b63"
      },
      "source": [
        "# Load processed data\n",
        "!cp /content/gdrive/Shared\\ drives/UNLIMITED\\ DRIVE/processed_data_cit_hepth_link_pred.zip ./\n",
        "!unzip processed_data_cit_hepth_link_pred.zip -d ./"
      ],
      "execution_count": null,
      "outputs": [
        {
          "output_type": "stream",
          "text": [
            "Archive:  processed_data_cit_hepth_link_pred.zip\n",
            "   creating: ./processed_data/cit_hepth_link_pred/\n",
            "  inflating: ./processed_data/cit_hepth_link_pred/graph_5.json  \n",
            "  inflating: ./processed_data/cit_hepth_link_pred/graph5.edgelist  \n"
          ],
          "name": "stdout"
        }
      ]
    },
    {
      "cell_type": "markdown",
      "metadata": {
        "id": "LkD-EDh4FNvR",
        "colab_type": "text"
      },
      "source": [
        "## Weight"
      ]
    },
    {
      "cell_type": "code",
      "metadata": {
        "id": "_zYNxUyuZnG6",
        "colab_type": "code",
        "colab": {
          "base_uri": "https://localhost:8080/",
          "height": 90
        },
        "outputId": "49a624b0-7e17-437c-a41f-9e8f3c054282"
      },
      "source": [
        "# Save weight\n",
        "!zip -r ./cit_hepth_weights_link_pred.zip ./models/cit_hepth_weights_link_pred/\n",
        "!cp ./cit_hepth_weights_link_pred.zip /content/gdrive/Shared\\ drives/UNLIMITED\\ DRIVE/"
      ],
      "execution_count": null,
      "outputs": [
        {
          "output_type": "stream",
          "text": [
            "\tzip warning: name not matched: ./models/cit_hepth_weights_link_pred/\n",
            "\n",
            "zip error: Nothing to do! (try: zip -r ./cit_hepth_weights_link_pred.zip . -i ./models/cit_hepth_weights_link_pred/)\n"
          ],
          "name": "stdout"
        }
      ]
    },
    {
      "cell_type": "code",
      "metadata": {
        "id": "Gck4WHu1R_q5",
        "colab_type": "code",
        "colab": {
          "base_uri": "https://localhost:8080/",
          "height": 250
        },
        "outputId": "6d25c2ac-2fc3-42ca-e28c-08ddd02dd63e"
      },
      "source": [
        "# Load weight\n",
        "!cp /content/gdrive/Shared\\ drives/UNLIMITED\\ DRIVE/cit_hepth_weights_link_pred.zip ./\n",
        "!unzip cit_hepth_weights_link_pred.zip -d ./"
      ],
      "execution_count": null,
      "outputs": [
        {
          "output_type": "stream",
          "text": [
            "Archive:  cit_hepth_weights_link_pred.zip\n",
            "replace ./models/cit_hepth_link_pred/graph_0.json? [y]es, [n]o, [A]ll, [N]one, [r]ename: A\n",
            "  inflating: ./models/cit_hepth_link_pred/graph_0.json  \n",
            "  inflating: ./models/cit_hepth_link_pred/graph_2.pt  \n",
            "  inflating: ./models/cit_hepth_link_pred/graph_1.json  \n",
            "  inflating: ./models/cit_hepth_link_pred/graph_3.json  \n",
            "  inflating: ./models/cit_hepth_link_pred/graph_3.pt  \n",
            "  inflating: ./models/cit_hepth_link_pred/graph_1.pt  \n",
            "  inflating: ./models/cit_hepth_link_pred/graph_4.pt  \n",
            "  inflating: ./models/cit_hepth_link_pred/graph_4.json  \n",
            "  inflating: ./models/cit_hepth_link_pred/graph_2.json  \n",
            "  inflating: ./models/cit_hepth_link_pred/graph_0.pt  \n"
          ],
          "name": "stdout"
        }
      ]
    },
    {
      "cell_type": "markdown",
      "metadata": {
        "id": "ztc8PDsvFSAB",
        "colab_type": "text"
      },
      "source": [
        "## Data"
      ]
    },
    {
      "cell_type": "code",
      "metadata": {
        "id": "bZVXNMVeTb4p",
        "colab_type": "code",
        "colab": {
          "base_uri": "https://localhost:8080/",
          "height": 123
        },
        "outputId": "d8af12e1-5d6f-4eab-b4fe-6b2936a35a60"
      },
      "source": [
        "# Save data\n",
        "!zip -r ./cit_hepth.zip ./data/cit_hepth/\n",
        "!cp ./cit_hepth.zip /content/gdrive/Shared\\ drives/UNLIMITED\\ DRIVE/"
      ],
      "execution_count": null,
      "outputs": [
        {
          "output_type": "stream",
          "text": [
            "  adding: data/cit_hepth/ (stored 0%)\n",
            "  adding: data/cit_hepth/graph_02.edgelist (deflated 72%)\n",
            "  adding: data/cit_hepth/graph_01.edgelist (deflated 71%)\n",
            "  adding: data/cit_hepth/graph_00.edgelist (deflated 74%)\n",
            "  adding: data/cit_hepth/graph_03.edgelist (deflated 72%)\n",
            "  adding: data/cit_hepth/graph_04.edgelist (deflated 72%)\n"
          ],
          "name": "stdout"
        }
      ]
    },
    {
      "cell_type": "code",
      "metadata": {
        "id": "XLEhp8K4UgI6",
        "colab_type": "code",
        "colab": {
          "base_uri": "https://localhost:8080/",
          "height": 141
        },
        "outputId": "190aed85-cbee-4626-dbbe-40d96ab91413"
      },
      "source": [
        "# Load data\n",
        "!cp /content/gdrive/Shared\\ drives/UNLIMITED\\ DRIVE/cit_hepth_data.zip ./\n",
        "!unzip cit_hepth_data.zip -d ./"
      ],
      "execution_count": null,
      "outputs": [
        {
          "output_type": "stream",
          "text": [
            "Archive:  cit_hepth_data.zip\n",
            "   creating: ./data/cit_hepth/\n",
            "  inflating: ./data/cit_hepth/graph_04.edgelist  \n",
            "  inflating: ./data/cit_hepth/graph_03.edgelist  \n",
            "  inflating: ./data/cit_hepth/graph_02.edgelist  \n",
            "  inflating: ./data/cit_hepth/graph_01.edgelist  \n",
            "  inflating: ./data/cit_hepth/graph_00.edgelist  \n"
          ],
          "name": "stdout"
        }
      ]
    },
    {
      "cell_type": "markdown",
      "metadata": {
        "id": "0Y6X-4uo7Djz",
        "colab_type": "text"
      },
      "source": [
        "## Saved data folder"
      ]
    },
    {
      "cell_type": "code",
      "metadata": {
        "id": "4eiynNll7BWy",
        "colab_type": "code",
        "colab": {
          "base_uri": "https://localhost:8080/",
          "height": 615
        },
        "outputId": "78c93510-6cda-42fd-bf4e-fa715e125a58"
      },
      "source": [
        "# Save data\n",
        "!zip -r ./cit_hepth_saved_data_stab1.zip ./saved_data ./data/cit_hepth\n",
        "!cp ./cit_hepth_saved_data_stab1.zip /content/gdrive/Shared\\ drives/UNLIMITED\\ DRIVE/"
      ],
      "execution_count": null,
      "outputs": [
        {
          "output_type": "stream",
          "text": [
            "updating: saved_data/ (stored 0%)\n",
            "updating: saved_data/embeddings/ (stored 0%)\n",
            "updating: saved_data/embeddings/cit_hepth_stability/ (stored 0%)\n",
            "updating: saved_data/embeddings/cit_hepth_stability/_3 (deflated 12%)\n",
            "updating: saved_data/embeddings/cit_hepth_stability/_1 (deflated 13%)\n",
            "updating: saved_data/embeddings/cit_hepth_stability/_2 (deflated 13%)\n",
            "updating: saved_data/embeddings/cit_hepth_stability/_4 (deflated 26%)\n",
            "updating: saved_data/embeddings/cit_hepth_stability/_0 (deflated 11%)\n",
            "updating: saved_data/.ipynb_checkpoints/ (stored 0%)\n",
            "updating: saved_data/sdne_models/ (stored 0%)\n",
            "updating: saved_data/sdne_models/cit_hepth_stability/ (stored 0%)\n",
            "updating: saved_data/sdne_models/cit_hepth_stability/graph_0.pt (deflated 8%)\n",
            "updating: saved_data/sdne_models/cit_hepth_stability/graph_0.json (deflated 24%)\n",
            "updating: saved_data/sdne_models/cit_hepth_stability/graph_1.pt (deflated 6%)\n",
            "updating: saved_data/sdne_models/cit_hepth_stability/graph_3.json (deflated 25%)\n",
            "updating: saved_data/sdne_models/cit_hepth_stability/graph_3.pt (deflated 9%)\n",
            "updating: saved_data/sdne_models/cit_hepth_stability/graph_2.json (deflated 23%)\n",
            "updating: saved_data/sdne_models/cit_hepth_stability/graph_2.pt (deflated 6%)\n",
            "updating: saved_data/sdne_models/cit_hepth_stability/graph_4.pt (deflated 9%)\n",
            "updating: saved_data/sdne_models/cit_hepth_stability/graph_1.json (deflated 26%)\n",
            "updating: saved_data/sdne_models/cit_hepth_stability/graph_4.json (deflated 25%)\n",
            "updating: saved_data/models/ (stored 0%)\n",
            "updating: saved_data/models/.ipynb_checkpoints/ (stored 0%)\n",
            "updating: saved_data/models/cit_hepth_stability_ck/ (stored 0%)\n",
            "updating: saved_data/models/cit_hepth_stability_ck/graph_3.json (deflated 30%)\n",
            "updating: saved_data/models/cit_hepth_stability_ck/graph_3.pt (deflated 4%)\n",
            "updating: saved_data/models/cit_hepth_stability/ (stored 0%)\n",
            "updating: saved_data/models/cit_hepth_stability/.ipynb_checkpoints/ (stored 0%)\n",
            "updating: saved_data/models/cit_hepth_stability/graph_0.pt (deflated 7%)\n",
            "updating: saved_data/models/cit_hepth_stability/graph_0.json (deflated 26%)\n",
            "updating: saved_data/models/cit_hepth_stability/graph_1.pt (deflated 8%)\n",
            "updating: saved_data/models/cit_hepth_stability/graph_3.json (deflated 30%)\n",
            "updating: saved_data/models/cit_hepth_stability/graph_3.pt"
          ],
          "name": "stdout"
        }
      ]
    },
    {
      "cell_type": "code",
      "metadata": {
        "id": "JkpfjPiH7Qyo",
        "colab_type": "code",
        "colab": {}
      },
      "source": [
        "# Load data\n",
        "!cp /content/gdrive/Shared\\ drives/UNLIMITED\\ DRIVE/cit_hepth_saved_data_stab.zip ./\n",
        "!unzip cit_hepth_saved_data_stab.zip -d ./"
      ],
      "execution_count": null,
      "outputs": []
    },
    {
      "cell_type": "markdown",
      "metadata": {
        "id": "_yJLltZjktXC",
        "colab_type": "text"
      },
      "source": [
        "# Library"
      ]
    },
    {
      "cell_type": "code",
      "metadata": {
        "id": "sBPKfDebdFr_",
        "colab_type": "code",
        "colab": {}
      },
      "source": [
        "import networkx as nx\n",
        "import warnings\n",
        "import torch\n",
        "import os\n",
        "import matplotlib.pyplot as plt \n",
        "\n",
        "warnings.filterwarnings(\"ignore\")\n",
        "%matplotlib inline"
      ],
      "execution_count": 1,
      "outputs": []
    },
    {
      "cell_type": "code",
      "metadata": {
        "id": "OUMUQlYvfvcd",
        "colab_type": "code",
        "colab": {
          "base_uri": "https://localhost:8080/",
          "height": 0
        },
        "outputId": "e27e8aab-a1f1-4516-e87a-458934a55c01"
      },
      "source": [
        "device = torch.device(\"cuda\" if torch.cuda.is_available() else \"cpu\")\n",
        "device"
      ],
      "execution_count": 2,
      "outputs": [
        {
          "output_type": "execute_result",
          "data": {
            "text/plain": [
              "device(type='cuda')"
            ]
          },
          "metadata": {
            "tags": []
          },
          "execution_count": 2
        }
      ]
    },
    {
      "cell_type": "markdown",
      "metadata": {
        "id": "PDUsqrnckwNp",
        "colab_type": "text"
      },
      "source": [
        "# Download repo\n",
        "Run this part firstly"
      ]
    },
    {
      "cell_type": "code",
      "metadata": {
        "id": "jTgZMbyuRpNv",
        "colab_type": "code",
        "colab": {}
      },
      "source": [
        "# %cd ..\n",
        "# !rm -rf ./dynamic-graph-embedding"
      ],
      "execution_count": 3,
      "outputs": []
    },
    {
      "cell_type": "code",
      "metadata": {
        "id": "vRtM6gr_mtgf",
        "colab_type": "code",
        "colab": {
          "base_uri": "https://localhost:8080/",
          "height": 0
        },
        "outputId": "265d0252-b31c-48e8-ccf7-a5c87b57ac42"
      },
      "source": [
        "!git clone https://github.com/hxtruong/dynamic-graph-embedding"
      ],
      "execution_count": 4,
      "outputs": [
        {
          "output_type": "stream",
          "text": [
            "Cloning into 'dynamic-graph-embedding'...\n",
            "remote: Enumerating objects: 699, done.\u001b[K\n",
            "remote: Counting objects: 100% (699/699), done.\u001b[K\n",
            "remote: Compressing objects: 100% (454/454), done.\u001b[K\n",
            "remote: Total 699 (delta 455), reused 471 (delta 227), pack-reused 0\u001b[K\n",
            "Receiving objects: 100% (699/699), 2.31 MiB | 15.90 MiB/s, done.\n",
            "Resolving deltas: 100% (455/455), done.\n"
          ],
          "name": "stdout"
        }
      ]
    },
    {
      "cell_type": "code",
      "metadata": {
        "id": "G_fVSjKGnv0c",
        "colab_type": "code",
        "colab": {
          "base_uri": "https://localhost:8080/",
          "height": 0
        },
        "outputId": "9fa35af2-6f68-4398-b89a-1d61a50275f3"
      },
      "source": [
        "%cd ./dynamic-graph-embedding/"
      ],
      "execution_count": 5,
      "outputs": [
        {
          "output_type": "stream",
          "text": [
            "/content/dynamic-graph-embedding\n"
          ],
          "name": "stdout"
        }
      ]
    },
    {
      "cell_type": "code",
      "metadata": {
        "id": "i9i4wPecRuA9",
        "colab_type": "code",
        "colab": {}
      },
      "source": [
        "# !git checkout old-loss"
      ],
      "execution_count": 6,
      "outputs": []
    },
    {
      "cell_type": "code",
      "metadata": {
        "id": "4HmueSO2yqP_",
        "colab_type": "code",
        "colab": {}
      },
      "source": [
        "# !pip install -r requirements.txt"
      ],
      "execution_count": 7,
      "outputs": []
    },
    {
      "cell_type": "code",
      "metadata": {
        "id": "N-7-CNwD1ecd",
        "colab_type": "code",
        "colab": {
          "base_uri": "https://localhost:8080/",
          "height": 0
        },
        "outputId": "e8ce5d86-bea6-41d3-e2ca-9b96fd53cfb3"
      },
      "source": [
        "!pip install node2vec"
      ],
      "execution_count": 8,
      "outputs": [
        {
          "output_type": "stream",
          "text": [
            "Collecting node2vec\n",
            "  Downloading https://files.pythonhosted.org/packages/c0/da/7f0c49433ef91033e21d523e82be1570074a5d6ab8c74f8771774e9d2fd1/node2vec-0.3.2-py3-none-any.whl\n",
            "Requirement already satisfied: gensim in /usr/local/lib/python3.6/dist-packages (from node2vec) (3.6.0)\n",
            "Requirement already satisfied: joblib>=0.13.2 in /usr/local/lib/python3.6/dist-packages (from node2vec) (0.16.0)\n",
            "Requirement already satisfied: networkx in /usr/local/lib/python3.6/dist-packages (from node2vec) (2.4)\n",
            "Requirement already satisfied: tqdm in /usr/local/lib/python3.6/dist-packages (from node2vec) (4.41.1)\n",
            "Requirement already satisfied: numpy in /usr/local/lib/python3.6/dist-packages (from node2vec) (1.18.5)\n",
            "Requirement already satisfied: scipy>=0.18.1 in /usr/local/lib/python3.6/dist-packages (from gensim->node2vec) (1.4.1)\n",
            "Requirement already satisfied: six>=1.5.0 in /usr/local/lib/python3.6/dist-packages (from gensim->node2vec) (1.15.0)\n",
            "Requirement already satisfied: smart-open>=1.2.1 in /usr/local/lib/python3.6/dist-packages (from gensim->node2vec) (2.1.0)\n",
            "Requirement already satisfied: decorator>=4.3.0 in /usr/local/lib/python3.6/dist-packages (from networkx->node2vec) (4.4.2)\n",
            "Requirement already satisfied: boto in /usr/local/lib/python3.6/dist-packages (from smart-open>=1.2.1->gensim->node2vec) (2.49.0)\n",
            "Requirement already satisfied: requests in /usr/local/lib/python3.6/dist-packages (from smart-open>=1.2.1->gensim->node2vec) (2.23.0)\n",
            "Requirement already satisfied: boto3 in /usr/local/lib/python3.6/dist-packages (from smart-open>=1.2.1->gensim->node2vec) (1.14.37)\n",
            "Requirement already satisfied: urllib3!=1.25.0,!=1.25.1,<1.26,>=1.21.1 in /usr/local/lib/python3.6/dist-packages (from requests->smart-open>=1.2.1->gensim->node2vec) (1.24.3)\n",
            "Requirement already satisfied: chardet<4,>=3.0.2 in /usr/local/lib/python3.6/dist-packages (from requests->smart-open>=1.2.1->gensim->node2vec) (3.0.4)\n",
            "Requirement already satisfied: idna<3,>=2.5 in /usr/local/lib/python3.6/dist-packages (from requests->smart-open>=1.2.1->gensim->node2vec) (2.10)\n",
            "Requirement already satisfied: certifi>=2017.4.17 in /usr/local/lib/python3.6/dist-packages (from requests->smart-open>=1.2.1->gensim->node2vec) (2020.6.20)\n",
            "Requirement already satisfied: s3transfer<0.4.0,>=0.3.0 in /usr/local/lib/python3.6/dist-packages (from boto3->smart-open>=1.2.1->gensim->node2vec) (0.3.3)\n",
            "Requirement already satisfied: jmespath<1.0.0,>=0.7.1 in /usr/local/lib/python3.6/dist-packages (from boto3->smart-open>=1.2.1->gensim->node2vec) (0.10.0)\n",
            "Requirement already satisfied: botocore<1.18.0,>=1.17.37 in /usr/local/lib/python3.6/dist-packages (from boto3->smart-open>=1.2.1->gensim->node2vec) (1.17.37)\n",
            "Requirement already satisfied: python-dateutil<3.0.0,>=2.1 in /usr/local/lib/python3.6/dist-packages (from botocore<1.18.0,>=1.17.37->boto3->smart-open>=1.2.1->gensim->node2vec) (2.8.1)\n",
            "Requirement already satisfied: docutils<0.16,>=0.10 in /usr/local/lib/python3.6/dist-packages (from botocore<1.18.0,>=1.17.37->boto3->smart-open>=1.2.1->gensim->node2vec) (0.15.2)\n",
            "Installing collected packages: node2vec\n",
            "Successfully installed node2vec-0.3.2\n"
          ],
          "name": "stdout"
        }
      ]
    },
    {
      "cell_type": "markdown",
      "metadata": {
        "id": "NlDRdr08IZG-",
        "colab_type": "text"
      },
      "source": [
        "# Download dataset\n",
        "For not running Drive part (#0)"
      ]
    },
    {
      "cell_type": "code",
      "metadata": {
        "id": "3RypdU8HUVG3",
        "colab_type": "code",
        "colab": {
          "base_uri": "https://localhost:8080/",
          "height": 34
        },
        "outputId": "9cfe88a6-bc36-407f-b5d7-3d07be076d38"
      },
      "source": [
        "!pwd"
      ],
      "execution_count": null,
      "outputs": [
        {
          "output_type": "stream",
          "text": [
            "/content/dynamic-graph-embedding\n"
          ],
          "name": "stdout"
        }
      ]
    },
    {
      "cell_type": "code",
      "metadata": {
        "id": "cWDP0VsHK5DG",
        "colab_type": "code",
        "colab": {}
      },
      "source": [
        "# !mkdir data\n",
        "!mkdir data/cit_hepth"
      ],
      "execution_count": null,
      "outputs": []
    },
    {
      "cell_type": "code",
      "metadata": {
        "id": "x4RpmWUwQTYb",
        "colab_type": "code",
        "colab": {}
      },
      "source": [
        "# !rm -rf data/cit_hepth"
      ],
      "execution_count": null,
      "outputs": []
    },
    {
      "cell_type": "code",
      "metadata": {
        "id": "QNBbBCaJIcY2",
        "colab_type": "code",
        "colab": {
          "base_uri": "https://localhost:8080/",
          "height": 605
        },
        "outputId": "8c6d4a28-914d-4f42-97cf-d9cc7b5eafa8"
      },
      "source": [
        "# note set NUMBER_SAVE_GRAPH = 5 in file - TRICK\n",
        "!python examples/get_cit_hepth_data.py"
      ],
      "execution_count": null,
      "outputs": [
        {
          "output_type": "stream",
          "text": [
            "['% sym unweighted\\n', '1 2 1 1015887601\\n', '1 3 1 1015887601\\n', '1 4 1 1015887601\\n', '1 5 1 1015887601\\n', '1 6 1 1015887601\\n']\n",
            "[[1, 5, 1, 1015887601], [1, 6, 1, 1015887601], [1, 7, 1, 1015887601], [1, 8, 1, 1015887601]]\n",
            "\n",
            "node_1       int64\n",
            "node_2       int64\n",
            "weight       int64\n",
            "timestamp    int64\n",
            "dtype: object\n",
            "<class 'pandas.core.frame.DataFrame'>\n",
            "RangeIndex: 2673130 entries, 0 to 2673129\n",
            "Data columns (total 4 columns):\n",
            " #   Column     Dtype\n",
            "---  ------     -----\n",
            " 0   node_1     int64\n",
            " 1   node_2     int64\n",
            " 2   weight     int64\n",
            " 3   timestamp  int64\n",
            "dtypes: int64(4)\n",
            "memory usage: 81.6 MB\n",
            "Start time:  1993-09-30 23:00:00\n",
            "[0|\tUpper_time= 1995-02-26 23:00:00\t |Row|= 6514\n",
            "[1|\tUpper_time= 1996-07-24 23:00:00\t |Row|= 26938\n",
            "[2|\tUpper_time= 1997-12-20 23:00:00\t |Row|= 130085\n",
            "[3|\tUpper_time= 1999-05-18 23:00:00\t |Row|= 223589\n",
            "[4|\tUpper_time= 2000-10-13 23:00:00\t |Row|= 290597\n",
            "[5|\tUpper_time= 2002-03-11 23:00:00\t |Row|= 290597\n",
            "Graph 1:\t|V|=619\t|E|=6374\n",
            "Graph 2:\t|V|=1660\t|E|=23654\n",
            "Graph 3:\t|V|=3699\t|E|=99588\n",
            "Graph 4:\t|V|=5654\t|E|=167731\n",
            "Graph 5:\t|V|=6798\t|E|=214693\n",
            "Graph 6:\t|V|=22908\t|E|=2444795\n"
          ],
          "name": "stdout"
        }
      ]
    },
    {
      "cell_type": "code",
      "metadata": {
        "id": "ApKBEOueqJwA",
        "colab_type": "code",
        "colab": {
          "base_uri": "https://localhost:8080/",
          "height": 52
        },
        "outputId": "8a7b16f9-4cf6-4c4c-f7cb-be5595a10273"
      },
      "source": [
        "!ls data/cit_hepth"
      ],
      "execution_count": null,
      "outputs": [
        {
          "output_type": "stream",
          "text": [
            "graph_00.edgelist  graph_02.edgelist  graph_04.edgelist\n",
            "graph_01.edgelist  graph_03.edgelist  graph_05.edgelist\n"
          ],
          "name": "stdout"
        }
      ]
    },
    {
      "cell_type": "markdown",
      "metadata": {
        "id": "a97dCKe2JIkL",
        "colab_type": "text"
      },
      "source": [
        "# Training\n",
        "\n"
      ]
    },
    {
      "cell_type": "code",
      "metadata": {
        "id": "op01kfukLS5V",
        "colab_type": "code",
        "colab": {}
      },
      "source": [
        "!cp examples/dataset_with_stability.py ./"
      ],
      "execution_count": 10,
      "outputs": []
    },
    {
      "cell_type": "code",
      "metadata": {
        "id": "GzPdZl9RK0pM",
        "colab_type": "code",
        "colab": {}
      },
      "source": [
        "!rm -rf /content/dynamic-graph-embedding/saved_data/sdne_models/cit_hepth_stability_ck\n",
        "# !rm -rf /content/dynamic-graph-embedding/saved_data/cit_hepth/\n",
        "# !rm -rf /content/dynamic-graph-embedding/saved_data/models/cit_hepth_stability_ck"
      ],
      "execution_count": 28,
      "outputs": []
    },
    {
      "cell_type": "markdown",
      "metadata": {
        "id": "TptxUYYVSafs",
        "colab_type": "text"
      },
      "source": [
        "## DynGEM"
      ]
    },
    {
      "cell_type": "markdown",
      "metadata": {
        "id": "nlROtkFpqxNO",
        "colab_type": "text"
      },
      "source": [
        "```\n",
        "Losses = [\n",
        "1,\n",
        "9307.1523\n",
        "2825069.2500 -> 360852.6250 | 1e-6\n",
        "25974398.0000 -> 1977526.3750\n",
        "]\n",
        "```\n",
        "\n",
        "Stab = 0.642"
      ]
    },
    {
      "cell_type": "code",
      "metadata": {
        "id": "nOsX_6B7JBuM",
        "colab_type": "code",
        "colab": {
          "base_uri": "https://localhost:8080/",
          "height": 1000
        },
        "outputId": "871aa42c-db2f-48f1-bf69-7b54205cd4df"
      },
      "source": [
        "!python dataset_with_stability.py"
      ],
      "execution_count": 42,
      "outputs": [
        {
          "output_type": "stream",
          "text": [
            "[0]Reading graph_00.edgelist\n",
            "[1]Reading graph_01.edgelist\n",
            "[2]Reading graph_02.edgelist\n",
            "[3]Reading graph_03.edgelist\n",
            "[4]Reading graph_04.edgelist\n",
            "Start convert graph to index ... 2.88s\n",
            "Number graphs:  5\n",
            "Origin graphs:\n",
            "Graph 0: |V|=619\t |E|=6374\tIsolate nodes: 0\n",
            "Graph 1: |V|=1660\t |E|=23654\tIsolate nodes: 0\n",
            "Graph 2: |V|=3699\t |E|=99588\tIsolate nodes: 0\n",
            "Graph 3: |V|=5654\t |E|=167731\tIsolate nodes: 0\n",
            "Graph 4: |V|=6798\t |E|=214693\tIsolate nodes: 0\n",
            "=============== DynGEM ============\n",
            "\n",
            "==========\t Model index = 4 ============\n",
            "\tLearning rate =  1e-05\n",
            "Loading models... 31.88s\n",
            "\t--- Graph 4 ---\n",
            "Epoch [1/2000] \t\tloss:4180047.5000 \t\ttime:2.48s\n",
            "Epoch [100/2000] \t\tloss:3770696.2500 \t\ttime:2.34s\n",
            "Epoch [200/2000] \t\tloss:3327143.0000 \t\ttime:2.41s\n",
            "Early stopping!\t Epoch [200/2000], loss:3327143.0000\n",
            "Train model of graph 4 in 472.0s\n",
            "\n",
            "\tLearning rate =  5e-06\n",
            "\t--- Graph 4 ---\n",
            "Epoch [1/2000] \t\tloss:3347330.7500 \t\ttime:2.46s\n",
            "Epoch [100/2000] \t\tloss:2916028.0000 \t\ttime:2.40s\n",
            "Epoch [200/2000] \t\tloss:2611899.7500 \t\ttime:2.42s\n",
            "Early stopping!\t Epoch [200/2000], loss:2611899.7500\n",
            "Train model of graph 4 in 493.58s\n",
            "\n",
            "\tLearning rate =  1e-06\n",
            "\t--- Graph 4 ---\n",
            "Epoch [1/2000] \t\tloss:2642418.5000 \t\ttime:2.64s\n",
            "Epoch [100/2000] \t\tloss:2557375.2500 \t\ttime:2.54s\n",
            "Epoch [200/2000] \t\tloss:2458227.2500 \t\ttime:2.53s\n",
            "Early stopping!\t Epoch [200/2000], loss:2458227.2500\n",
            "Train model of graph 4 in 497.63s\n",
            "\n",
            "\n",
            "Finish total training: 1501.02s\n",
            "--------------\n",
            "\n",
            "Check current loss model\n",
            "\t--- Graph 0 ---\n",
            "Epoch [1/1] \t\tloss:0.8802 \t\ttime:0.10s\n",
            "\t--- Graph 1 ---\n",
            "Epoch [1/1] \t\tloss:600.3500 \t\ttime:0.24s\n",
            "\t--- Graph 2 ---\n",
            "Epoch [1/1] \t\tloss:3220.3743 \t\ttime:0.59s\n",
            "\t--- Graph 3 ---\n",
            "Epoch [1/1] \t\tloss:3754.6106 \t\ttime:2.86s\n",
            "\t--- Graph 4 ---\n",
            "Epoch [1/1] \t\tloss:1083.5040 \t\ttime:7.89s\n",
            "Saving embeddings...\n",
            "[1 -> 0] Relative_stab:  0.2238654032070876\n",
            "[2 -> 1] Relative_stab:  0.1699522901612202\n",
            "[3 -> 2] Relative_stab:  0.45253434292395306\n",
            "[4 -> 3] Relative_stab:  0.64233385725632\n",
            "Stability constant= 0.64233385725632\n"
          ],
          "name": "stdout"
        }
      ]
    },
    {
      "cell_type": "markdown",
      "metadata": {
        "id": "8_3aZh-FSf9d",
        "colab_type": "text"
      },
      "source": [
        "## Node2Vec\n"
      ]
    },
    {
      "cell_type": "markdown",
      "metadata": {
        "id": "SSGVWEZ9SrC4",
        "colab_type": "text"
      },
      "source": [
        "Set parameter: \n",
        "```\n",
        "is_dyngem = False\n",
        "is_node2vec = True\n",
        "```"
      ]
    },
    {
      "cell_type": "code",
      "metadata": {
        "id": "oDkiqmfMShdB",
        "colab_type": "code",
        "colab": {}
      },
      "source": [
        "!python dataset_with_stability.py"
      ],
      "execution_count": null,
      "outputs": []
    },
    {
      "cell_type": "markdown",
      "metadata": {
        "id": "A74OHdVYnyBc",
        "colab_type": "text"
      },
      "source": [
        "## SDNE\n",
        "Set `is_sdne = True` "
      ]
    },
    {
      "cell_type": "code",
      "metadata": {
        "id": "OFFIJ_Vkn1Ca",
        "colab_type": "code",
        "colab": {
          "base_uri": "https://localhost:8080/",
          "height": 496
        },
        "outputId": "6312ef7d-ad46-4f7b-8319-454be34b71c9"
      },
      "source": [
        "!python dataset_with_stability.py"
      ],
      "execution_count": 21,
      "outputs": [
        {
          "output_type": "stream",
          "text": [
            "[0]Reading graph_00.edgelist\n",
            "[1]Reading graph_01.edgelist\n",
            "[2]Reading graph_02.edgelist\n",
            "[3]Reading graph_03.edgelist\n",
            "[4]Reading graph_04.edgelist\n",
            "Start convert graph to index ... 2.74s\n",
            "Number graphs:  5\n",
            "Origin graphs:\n",
            "Graph 0: |V|=619\t |E|=6374\tIsolate nodes: 0\n",
            "Graph 1: |V|=1660\t |E|=23654\tIsolate nodes: 0\n",
            "Graph 2: |V|=3699\t |E|=99588\tIsolate nodes: 0\n",
            "Graph 3: |V|=5654\t |E|=167731\tIsolate nodes: 0\n",
            "Graph 4: |V|=6798\t |E|=214693\tIsolate nodes: 0\n",
            "=============== SDNE ============\n",
            "[3] SDNE load model...\n",
            "[3] SDNE train model...\n",
            "Epoch [1/10000] \t\tloss:14479793.0000 \t\ttime:1.14s\n",
            "Traceback (most recent call last):\n",
            "  File \"dataset_with_stability.py\", line 131, in <module>\n",
            "    index=3\n",
            "  File \"/content/dynamic-graph-embedding/src/utils/model_training_utils.py\", line 172, in sdne_alg\n",
            "    _sdne_train()\n",
            "  File \"/content/dynamic-graph-embedding/src/utils/model_training_utils.py\", line 155, in _sdne_train\n",
            "    plot_loss=True, shuffle=params.sdne_shuffle, ck_config=ck_point\n",
            "  File \"/content/dynamic-graph-embedding/src/static_ge.py\", line 128, in train\n",
            "    train_losses.append(round(float(loss), 4))\n",
            "KeyboardInterrupt\n"
          ],
          "name": "stdout"
        }
      ]
    },
    {
      "cell_type": "code",
      "metadata": {
        "id": "P2vFePYDnzU9",
        "colab_type": "code",
        "colab": {}
      },
      "source": [
        ""
      ],
      "execution_count": null,
      "outputs": []
    }
  ]
}